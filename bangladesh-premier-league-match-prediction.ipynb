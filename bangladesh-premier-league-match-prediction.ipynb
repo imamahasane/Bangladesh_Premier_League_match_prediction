{
 "cells": [
  {
   "cell_type": "code",
   "execution_count": 1,
   "id": "9c278c9a",
   "metadata": {
    "_cell_guid": "b1076dfc-b9ad-4769-8c92-a6c4dae69d19",
    "_uuid": "8f2839f25d086af736a60e9eeb907d3b93b6e0e5",
    "execution": {
     "iopub.execute_input": "2022-02-10T01:19:58.080376Z",
     "iopub.status.busy": "2022-02-10T01:19:58.078918Z",
     "iopub.status.idle": "2022-02-10T01:19:58.929892Z",
     "shell.execute_reply": "2022-02-10T01:19:58.929178Z",
     "shell.execute_reply.started": "2022-02-10T01:08:28.798973Z"
    },
    "papermill": {
     "duration": 0.923218,
     "end_time": "2022-02-10T01:19:58.930083",
     "exception": false,
     "start_time": "2022-02-10T01:19:58.006865",
     "status": "completed"
    },
    "tags": []
   },
   "outputs": [
    {
     "name": "stdout",
     "output_type": "stream",
     "text": [
      "../input/bpl-data/bowler.csv\n",
      "../input/bpl-data/batsman.csv\n",
      "../input/bpl-data/bpl.csv\n"
     ]
    }
   ],
   "source": [
    "# This Python 3 environment comes with many helpful analytics libraries installed\n",
    "# It is defined by the kaggle/python Docker image: https://github.com/kaggle/docker-python\n",
    "# For example, here's several helpful packages to load\n",
    "\n",
    "import numpy as np # linear algebra\n",
    "import pandas as pd # data processing, CSV file I/O (e.g. pd.read_csv)\n",
    "\n",
    "import matplotlib.pyplot as plt\n",
    "import seaborn as sns\n",
    "\n",
    "# Input data files are available in the read-only \"../input/\" directory\n",
    "# For example, running this (by clicking run or pressing Shift+Enter) will list all files under the input directory\n",
    "\n",
    "import os\n",
    "for dirname, _, filenames in os.walk('../input/bpl-data'):\n",
    "    for filename in filenames:\n",
    "        print(os.path.join(dirname, filename))\n",
    "\n",
    "# You can write up to 20GB to the current directory (/kaggle/working/) that gets preserved as output when you create a version using \"Save & Run All\" \n",
    "# You can also write temporary files to /kaggle/temp/, but they won't be saved outside of the current session"
   ]
  },
  {
   "cell_type": "markdown",
   "id": "6442daf8",
   "metadata": {
    "papermill": {
     "duration": 0.091203,
     "end_time": "2022-02-10T01:19:59.095430",
     "exception": false,
     "start_time": "2022-02-10T01:19:59.004227",
     "status": "completed"
    },
    "tags": []
   },
   "source": [
    "## Load Datasets"
   ]
  },
  {
   "cell_type": "code",
   "execution_count": 2,
   "id": "e87c6b3a",
   "metadata": {
    "execution": {
     "iopub.execute_input": "2022-02-10T01:19:59.230705Z",
     "iopub.status.busy": "2022-02-10T01:19:59.230108Z",
     "iopub.status.idle": "2022-02-10T01:19:59.274994Z",
     "shell.execute_reply": "2022-02-10T01:19:59.275394Z",
     "shell.execute_reply.started": "2022-02-10T01:08:28.810681Z"
    },
    "papermill": {
     "duration": 0.1154,
     "end_time": "2022-02-10T01:19:59.275551",
     "exception": false,
     "start_time": "2022-02-10T01:19:59.160151",
     "status": "completed"
    },
    "tags": []
   },
   "outputs": [],
   "source": [
    "bpl = pd.read_csv('../input/bpl-data/bpl.csv')\n",
    "batsman = pd.read_csv('../input/bpl-data/batsman.csv')\n",
    "bowler = pd.read_csv('../input/bpl-data/bowler.csv')"
   ]
  },
  {
   "cell_type": "markdown",
   "id": "c9416c94",
   "metadata": {
    "papermill": {
     "duration": 0.10118,
     "end_time": "2022-02-10T01:19:59.441680",
     "exception": false,
     "start_time": "2022-02-10T01:19:59.340500",
     "status": "completed"
    },
    "tags": []
   },
   "source": [
    "## BPL data"
   ]
  },
  {
   "cell_type": "code",
   "execution_count": 3,
   "id": "de55cfb9",
   "metadata": {
    "execution": {
     "iopub.execute_input": "2022-02-10T01:19:59.597011Z",
     "iopub.status.busy": "2022-02-10T01:19:59.596384Z",
     "iopub.status.idle": "2022-02-10T01:19:59.599331Z",
     "shell.execute_reply": "2022-02-10T01:19:59.599755Z",
     "shell.execute_reply.started": "2022-02-10T01:08:28.849729Z"
    },
    "papermill": {
     "duration": 0.0872,
     "end_time": "2022-02-10T01:19:59.599891",
     "exception": false,
     "start_time": "2022-02-10T01:19:59.512691",
     "status": "completed"
    },
    "tags": []
   },
   "outputs": [
    {
     "data": {
      "text/plain": [
       "(311, 19)"
      ]
     },
     "execution_count": 3,
     "metadata": {},
     "output_type": "execute_result"
    }
   ],
   "source": [
    "bpl.shape"
   ]
  },
  {
   "cell_type": "code",
   "execution_count": 4,
   "id": "7e5328ce",
   "metadata": {
    "execution": {
     "iopub.execute_input": "2022-02-10T01:19:59.737509Z",
     "iopub.status.busy": "2022-02-10T01:19:59.736704Z",
     "iopub.status.idle": "2022-02-10T01:19:59.754395Z",
     "shell.execute_reply": "2022-02-10T01:19:59.753994Z",
     "shell.execute_reply.started": "2022-02-10T01:08:28.858762Z"
    },
    "papermill": {
     "duration": 0.08921,
     "end_time": "2022-02-10T01:19:59.754510",
     "exception": false,
     "start_time": "2022-02-10T01:19:59.665300",
     "status": "completed"
    },
    "tags": []
   },
   "outputs": [
    {
     "data": {
      "text/html": [
       "<div>\n",
       "<style scoped>\n",
       "    .dataframe tbody tr th:only-of-type {\n",
       "        vertical-align: middle;\n",
       "    }\n",
       "\n",
       "    .dataframe tbody tr th {\n",
       "        vertical-align: top;\n",
       "    }\n",
       "\n",
       "    .dataframe thead th {\n",
       "        text-align: right;\n",
       "    }\n",
       "</style>\n",
       "<table border=\"1\" class=\"dataframe\">\n",
       "  <thead>\n",
       "    <tr style=\"text-align: right;\">\n",
       "      <th></th>\n",
       "      <th>id</th>\n",
       "      <th>season</th>\n",
       "      <th>match_no</th>\n",
       "      <th>date</th>\n",
       "      <th>team_1</th>\n",
       "      <th>team_1_score</th>\n",
       "      <th>team_2</th>\n",
       "      <th>team_2_score</th>\n",
       "      <th>player_of_match</th>\n",
       "      <th>toss_winner</th>\n",
       "      <th>toss_decision</th>\n",
       "      <th>winner</th>\n",
       "      <th>venue</th>\n",
       "      <th>city</th>\n",
       "      <th>win_by_wickets</th>\n",
       "      <th>win_by_runs</th>\n",
       "      <th>result</th>\n",
       "      <th>umpire_1</th>\n",
       "      <th>umpire_2</th>\n",
       "    </tr>\n",
       "  </thead>\n",
       "  <tbody>\n",
       "    <tr>\n",
       "      <th>0</th>\n",
       "      <td>0</td>\n",
       "      <td>2011/12</td>\n",
       "      <td>Final</td>\n",
       "      <td>Feb 29 2012</td>\n",
       "      <td>Barisal Burners</td>\n",
       "      <td>140/7</td>\n",
       "      <td>Dhaka Gladiators</td>\n",
       "      <td>144/2</td>\n",
       "      <td>Imran Nazir</td>\n",
       "      <td>Dhaka Gladiators</td>\n",
       "      <td>field first</td>\n",
       "      <td>Dhaka</td>\n",
       "      <td>Shere Bangla National Stadium, Mirpur</td>\n",
       "      <td>Mirpur</td>\n",
       "      <td>8</td>\n",
       "      <td>0</td>\n",
       "      <td>8 wickets</td>\n",
       "      <td>David Orchard</td>\n",
       "      <td>Enamul Haque</td>\n",
       "    </tr>\n",
       "    <tr>\n",
       "      <th>1</th>\n",
       "      <td>30</td>\n",
       "      <td>2011/12</td>\n",
       "      <td>3rd</td>\n",
       "      <td>Feb 11 2012</td>\n",
       "      <td>Khulna Royal Bengals</td>\n",
       "      <td>175/5</td>\n",
       "      <td>Dhaka Gladiators</td>\n",
       "      <td>156/7</td>\n",
       "      <td>Andre Russell</td>\n",
       "      <td>Khulna Royal Bengals</td>\n",
       "      <td>bat first</td>\n",
       "      <td>Khulna</td>\n",
       "      <td>Shere Bangla National Stadium, Mirpur</td>\n",
       "      <td>Mirpur</td>\n",
       "      <td>0</td>\n",
       "      <td>19</td>\n",
       "      <td>19 runs</td>\n",
       "      <td>Jeremy Lloyds</td>\n",
       "      <td>Sharfuddoula</td>\n",
       "    </tr>\n",
       "    <tr>\n",
       "      <th>2</th>\n",
       "      <td>26</td>\n",
       "      <td>2011/12</td>\n",
       "      <td>7th</td>\n",
       "      <td>Feb 13 2012</td>\n",
       "      <td>Barisal Burners</td>\n",
       "      <td>125</td>\n",
       "      <td>Khulna Royal Bengals</td>\n",
       "      <td>131/3</td>\n",
       "      <td>Dwayne Smith</td>\n",
       "      <td>Khulna Royal Bengals</td>\n",
       "      <td>field first</td>\n",
       "      <td>Khulna</td>\n",
       "      <td>Shere Bangla National Stadium, Mirpur</td>\n",
       "      <td>Mirpur</td>\n",
       "      <td>7</td>\n",
       "      <td>0</td>\n",
       "      <td>7 wickets</td>\n",
       "      <td>Enamul Haque</td>\n",
       "      <td>Jeremy Lloyds</td>\n",
       "    </tr>\n",
       "    <tr>\n",
       "      <th>3</th>\n",
       "      <td>29</td>\n",
       "      <td>2011/12</td>\n",
       "      <td>4th</td>\n",
       "      <td>Feb 11 2012</td>\n",
       "      <td>Barisal Burners</td>\n",
       "      <td>180/2</td>\n",
       "      <td>Duronto Rajshahi</td>\n",
       "      <td>158/9</td>\n",
       "      <td>Ahmed Shehzad</td>\n",
       "      <td>Barisal Burners</td>\n",
       "      <td>bat first</td>\n",
       "      <td>Barisal</td>\n",
       "      <td>Shere Bangla National Stadium, Mirpur</td>\n",
       "      <td>Mirpur</td>\n",
       "      <td>0</td>\n",
       "      <td>22</td>\n",
       "      <td>22 runs</td>\n",
       "      <td>David Orchard</td>\n",
       "      <td>Gazi Sohel</td>\n",
       "    </tr>\n",
       "    <tr>\n",
       "      <th>4</th>\n",
       "      <td>28</td>\n",
       "      <td>2011/12</td>\n",
       "      <td>5th</td>\n",
       "      <td>Feb 12 2012</td>\n",
       "      <td>Khulna Royal Bengals</td>\n",
       "      <td>171/3</td>\n",
       "      <td>Chittagong Kings</td>\n",
       "      <td>174/4</td>\n",
       "      <td>Nasir Jamshed</td>\n",
       "      <td>Khulna Royal Bengals</td>\n",
       "      <td>bat first</td>\n",
       "      <td>Chittagong</td>\n",
       "      <td>Shere Bangla National Stadium, Mirpur</td>\n",
       "      <td>Mirpur</td>\n",
       "      <td>6</td>\n",
       "      <td>0</td>\n",
       "      <td>6 wickets</td>\n",
       "      <td>David Orchard</td>\n",
       "      <td>Enamul Haque</td>\n",
       "    </tr>\n",
       "  </tbody>\n",
       "</table>\n",
       "</div>"
      ],
      "text/plain": [
       "   id   season match_no         date                team_1 team_1_score  \\\n",
       "0   0  2011/12    Final  Feb 29 2012       Barisal Burners        140/7   \n",
       "1  30  2011/12      3rd  Feb 11 2012  Khulna Royal Bengals        175/5   \n",
       "2  26  2011/12      7th  Feb 13 2012       Barisal Burners          125   \n",
       "3  29  2011/12      4th  Feb 11 2012       Barisal Burners        180/2   \n",
       "4  28  2011/12      5th  Feb 12 2012  Khulna Royal Bengals        171/3   \n",
       "\n",
       "                 team_2 team_2_score player_of_match           toss_winner  \\\n",
       "0      Dhaka Gladiators        144/2     Imran Nazir      Dhaka Gladiators   \n",
       "1      Dhaka Gladiators        156/7   Andre Russell  Khulna Royal Bengals   \n",
       "2  Khulna Royal Bengals        131/3    Dwayne Smith  Khulna Royal Bengals   \n",
       "3      Duronto Rajshahi        158/9   Ahmed Shehzad       Barisal Burners   \n",
       "4      Chittagong Kings        174/4   Nasir Jamshed  Khulna Royal Bengals   \n",
       "\n",
       "  toss_decision      winner                                  venue    city  \\\n",
       "0   field first       Dhaka  Shere Bangla National Stadium, Mirpur  Mirpur   \n",
       "1     bat first      Khulna  Shere Bangla National Stadium, Mirpur  Mirpur   \n",
       "2   field first      Khulna  Shere Bangla National Stadium, Mirpur  Mirpur   \n",
       "3     bat first     Barisal  Shere Bangla National Stadium, Mirpur  Mirpur   \n",
       "4     bat first  Chittagong  Shere Bangla National Stadium, Mirpur  Mirpur   \n",
       "\n",
       "   win_by_wickets  win_by_runs     result       umpire_1       umpire_2  \n",
       "0               8            0  8 wickets  David Orchard   Enamul Haque  \n",
       "1               0           19    19 runs  Jeremy Lloyds   Sharfuddoula  \n",
       "2               7            0  7 wickets   Enamul Haque  Jeremy Lloyds  \n",
       "3               0           22    22 runs  David Orchard     Gazi Sohel  \n",
       "4               6            0  6 wickets  David Orchard   Enamul Haque  "
      ]
     },
     "execution_count": 4,
     "metadata": {},
     "output_type": "execute_result"
    }
   ],
   "source": [
    "bpl.head()"
   ]
  },
  {
   "cell_type": "code",
   "execution_count": 5,
   "id": "b11c77a1",
   "metadata": {
    "execution": {
     "iopub.execute_input": "2022-02-10T01:19:59.944024Z",
     "iopub.status.busy": "2022-02-10T01:19:59.943341Z",
     "iopub.status.idle": "2022-02-10T01:19:59.946364Z",
     "shell.execute_reply": "2022-02-10T01:19:59.947119Z",
     "shell.execute_reply.started": "2022-02-10T01:08:28.883447Z"
    },
    "papermill": {
     "duration": 0.098591,
     "end_time": "2022-02-10T01:19:59.947268",
     "exception": false,
     "start_time": "2022-02-10T01:19:59.848677",
     "status": "completed"
    },
    "tags": []
   },
   "outputs": [
    {
     "name": "stdout",
     "output_type": "stream",
     "text": [
      "<class 'pandas.core.frame.DataFrame'>\n",
      "RangeIndex: 311 entries, 0 to 310\n",
      "Data columns (total 19 columns):\n",
      " #   Column           Non-Null Count  Dtype \n",
      "---  ------           --------------  ----- \n",
      " 0   id               311 non-null    int64 \n",
      " 1   season           311 non-null    object\n",
      " 2   match_no         311 non-null    object\n",
      " 3   date             311 non-null    object\n",
      " 4   team_1           311 non-null    object\n",
      " 5   team_1_score     311 non-null    object\n",
      " 6   team_2           311 non-null    object\n",
      " 7   team_2_score     311 non-null    object\n",
      " 8   player_of_match  311 non-null    object\n",
      " 9   toss_winner      311 non-null    object\n",
      " 10  toss_decision    311 non-null    object\n",
      " 11  winner           311 non-null    object\n",
      " 12  venue            311 non-null    object\n",
      " 13  city             311 non-null    object\n",
      " 14  win_by_wickets   311 non-null    int64 \n",
      " 15  win_by_runs      311 non-null    int64 \n",
      " 16  result           311 non-null    object\n",
      " 17  umpire_1         311 non-null    object\n",
      " 18  umpire_2         311 non-null    object\n",
      "dtypes: int64(3), object(16)\n",
      "memory usage: 46.3+ KB\n"
     ]
    }
   ],
   "source": [
    "bpl.info()"
   ]
  },
  {
   "cell_type": "code",
   "execution_count": 6,
   "id": "5720476d",
   "metadata": {
    "execution": {
     "iopub.execute_input": "2022-02-10T01:20:00.085018Z",
     "iopub.status.busy": "2022-02-10T01:20:00.084211Z",
     "iopub.status.idle": "2022-02-10T01:20:00.091154Z",
     "shell.execute_reply": "2022-02-10T01:20:00.091551Z",
     "shell.execute_reply.started": "2022-02-10T01:08:28.899637Z"
    },
    "papermill": {
     "duration": 0.076892,
     "end_time": "2022-02-10T01:20:00.091711",
     "exception": false,
     "start_time": "2022-02-10T01:20:00.014819",
     "status": "completed"
    },
    "tags": []
   },
   "outputs": [
    {
     "data": {
      "text/plain": [
       "Int64Index([  0,   1,   2,   4,   5,   6,   7,   8,   9,  10,\n",
       "            ...\n",
       "            710, 711, 712, 713, 714, 715, 716, 717, 718, 719],\n",
       "           dtype='int64', length=290)"
      ]
     },
     "execution_count": 6,
     "metadata": {},
     "output_type": "execute_result"
    }
   ],
   "source": [
    "bpl['id'].value_counts().keys().sort_values()"
   ]
  },
  {
   "cell_type": "markdown",
   "id": "f768def4",
   "metadata": {
    "papermill": {
     "duration": 0.066279,
     "end_time": "2022-02-10T01:20:00.225365",
     "exception": false,
     "start_time": "2022-02-10T01:20:00.159086",
     "status": "completed"
    },
    "tags": []
   },
   "source": [
    "## Batsman Data"
   ]
  },
  {
   "cell_type": "code",
   "execution_count": 7,
   "id": "d52d6c0c",
   "metadata": {
    "execution": {
     "iopub.execute_input": "2022-02-10T01:20:00.362735Z",
     "iopub.status.busy": "2022-02-10T01:20:00.362038Z",
     "iopub.status.idle": "2022-02-10T01:20:00.364698Z",
     "shell.execute_reply": "2022-02-10T01:20:00.365113Z",
     "shell.execute_reply.started": "2022-02-10T01:08:28.909260Z"
    },
    "papermill": {
     "duration": 0.073554,
     "end_time": "2022-02-10T01:20:00.365252",
     "exception": false,
     "start_time": "2022-02-10T01:20:00.291698",
     "status": "completed"
    },
    "tags": []
   },
   "outputs": [
    {
     "data": {
      "text/plain": [
       "(5048, 12)"
      ]
     },
     "execution_count": 7,
     "metadata": {},
     "output_type": "execute_result"
    }
   ],
   "source": [
    "batsman.shape"
   ]
  },
  {
   "cell_type": "code",
   "execution_count": 8,
   "id": "a0fcaddd",
   "metadata": {
    "execution": {
     "iopub.execute_input": "2022-02-10T01:20:00.512602Z",
     "iopub.status.busy": "2022-02-10T01:20:00.511674Z",
     "iopub.status.idle": "2022-02-10T01:20:00.514744Z",
     "shell.execute_reply": "2022-02-10T01:20:00.515151Z",
     "shell.execute_reply.started": "2022-02-10T01:08:28.916757Z"
    },
    "papermill": {
     "duration": 0.083158,
     "end_time": "2022-02-10T01:20:00.515284",
     "exception": false,
     "start_time": "2022-02-10T01:20:00.432126",
     "status": "completed"
    },
    "tags": []
   },
   "outputs": [
    {
     "data": {
      "text/html": [
       "<div>\n",
       "<style scoped>\n",
       "    .dataframe tbody tr th:only-of-type {\n",
       "        vertical-align: middle;\n",
       "    }\n",
       "\n",
       "    .dataframe tbody tr th {\n",
       "        vertical-align: top;\n",
       "    }\n",
       "\n",
       "    .dataframe thead th {\n",
       "        text-align: right;\n",
       "    }\n",
       "</style>\n",
       "<table border=\"1\" class=\"dataframe\">\n",
       "  <thead>\n",
       "    <tr style=\"text-align: right;\">\n",
       "      <th></th>\n",
       "      <th>id</th>\n",
       "      <th>season</th>\n",
       "      <th>match_no</th>\n",
       "      <th>date</th>\n",
       "      <th>player_name</th>\n",
       "      <th>comment</th>\n",
       "      <th>R</th>\n",
       "      <th>B</th>\n",
       "      <th>M</th>\n",
       "      <th>fours</th>\n",
       "      <th>sixs</th>\n",
       "      <th>SR</th>\n",
       "    </tr>\n",
       "  </thead>\n",
       "  <tbody>\n",
       "    <tr>\n",
       "      <th>0</th>\n",
       "      <td>31</td>\n",
       "      <td>2011/12</td>\n",
       "      <td>2nd</td>\n",
       "      <td>Feb 10 2012</td>\n",
       "      <td>Tamim Iqbal</td>\n",
       "      <td>c Samuels b Mohammad Sami</td>\n",
       "      <td>3</td>\n",
       "      <td>7</td>\n",
       "      <td>10</td>\n",
       "      <td>0</td>\n",
       "      <td>0</td>\n",
       "      <td>42.85</td>\n",
       "    </tr>\n",
       "    <tr>\n",
       "      <th>1</th>\n",
       "      <td>31</td>\n",
       "      <td>2011/12</td>\n",
       "      <td>2nd</td>\n",
       "      <td>Feb 10 2012</td>\n",
       "      <td>Jahurul Islam</td>\n",
       "      <td>c †Mushfiqur Rahim b Ervine</td>\n",
       "      <td>11</td>\n",
       "      <td>13</td>\n",
       "      <td>21</td>\n",
       "      <td>0</td>\n",
       "      <td>1</td>\n",
       "      <td>84.61</td>\n",
       "    </tr>\n",
       "    <tr>\n",
       "      <th>2</th>\n",
       "      <td>0</td>\n",
       "      <td>2011/12</td>\n",
       "      <td>Final</td>\n",
       "      <td>Feb 29 2012</td>\n",
       "      <td>Ahmed Shehzad</td>\n",
       "      <td>NaN</td>\n",
       "      <td>28</td>\n",
       "      <td>20</td>\n",
       "      <td>21</td>\n",
       "      <td>3</td>\n",
       "      <td>1</td>\n",
       "      <td>140.00</td>\n",
       "    </tr>\n",
       "    <tr>\n",
       "      <th>3</th>\n",
       "      <td>30</td>\n",
       "      <td>2011/12</td>\n",
       "      <td>3rd</td>\n",
       "      <td>Feb 11 2012</td>\n",
       "      <td>Shivnarine Chanderpaul</td>\n",
       "      <td>b Azhar Mahmood</td>\n",
       "      <td>19</td>\n",
       "      <td>15</td>\n",
       "      <td>24</td>\n",
       "      <td>2</td>\n",
       "      <td>1</td>\n",
       "      <td>126.66</td>\n",
       "    </tr>\n",
       "    <tr>\n",
       "      <th>4</th>\n",
       "      <td>29</td>\n",
       "      <td>2011/12</td>\n",
       "      <td>4th</td>\n",
       "      <td>Feb 11 2012</td>\n",
       "      <td>Ahmed Shehzad</td>\n",
       "      <td>c Syed Rasel b Abdul Razzaq</td>\n",
       "      <td>67</td>\n",
       "      <td>40</td>\n",
       "      <td>62</td>\n",
       "      <td>4</td>\n",
       "      <td>6</td>\n",
       "      <td>167.50</td>\n",
       "    </tr>\n",
       "  </tbody>\n",
       "</table>\n",
       "</div>"
      ],
      "text/plain": [
       "   id   season match_no         date             player_name  \\\n",
       "0  31  2011/12      2nd  Feb 10 2012             Tamim Iqbal   \n",
       "1  31  2011/12      2nd  Feb 10 2012           Jahurul Islam   \n",
       "2   0  2011/12    Final  Feb 29 2012           Ahmed Shehzad   \n",
       "3  30  2011/12      3rd  Feb 11 2012  Shivnarine Chanderpaul   \n",
       "4  29  2011/12      4th  Feb 11 2012           Ahmed Shehzad   \n",
       "\n",
       "                       comment   R   B   M fours sixs      SR  \n",
       "0    c Samuels b Mohammad Sami   3   7  10     0    0   42.85  \n",
       "1  c †Mushfiqur Rahim b Ervine  11  13  21     0    1   84.61  \n",
       "2                          NaN  28  20  21     3    1  140.00  \n",
       "3              b Azhar Mahmood  19  15  24     2    1  126.66  \n",
       "4  c Syed Rasel b Abdul Razzaq  67  40  62     4    6  167.50  "
      ]
     },
     "execution_count": 8,
     "metadata": {},
     "output_type": "execute_result"
    }
   ],
   "source": [
    "batsman.head()"
   ]
  },
  {
   "cell_type": "code",
   "execution_count": 9,
   "id": "2b3f0b8b",
   "metadata": {
    "execution": {
     "iopub.execute_input": "2022-02-10T01:20:00.657197Z",
     "iopub.status.busy": "2022-02-10T01:20:00.655003Z",
     "iopub.status.idle": "2022-02-10T01:20:00.660859Z",
     "shell.execute_reply": "2022-02-10T01:20:00.661233Z",
     "shell.execute_reply.started": "2022-02-10T01:08:28.938913Z"
    },
    "papermill": {
     "duration": 0.078823,
     "end_time": "2022-02-10T01:20:00.661369",
     "exception": false,
     "start_time": "2022-02-10T01:20:00.582546",
     "status": "completed"
    },
    "tags": []
   },
   "outputs": [
    {
     "data": {
      "text/plain": [
       "Int64Index([  0,   1,   2,   3,   4,   5,   6,   7,   8,   9,\n",
       "            ...\n",
       "            710, 711, 712, 713, 714, 715, 716, 717, 718, 719],\n",
       "           dtype='int64', length=291)"
      ]
     },
     "execution_count": 9,
     "metadata": {},
     "output_type": "execute_result"
    }
   ],
   "source": [
    "batsman['id'].value_counts().keys().sort_values()"
   ]
  },
  {
   "cell_type": "code",
   "execution_count": 10,
   "id": "9f90d8c4",
   "metadata": {
    "execution": {
     "iopub.execute_input": "2022-02-10T01:20:00.807706Z",
     "iopub.status.busy": "2022-02-10T01:20:00.806862Z",
     "iopub.status.idle": "2022-02-10T01:20:00.815827Z",
     "shell.execute_reply": "2022-02-10T01:20:00.816400Z",
     "shell.execute_reply.started": "2022-02-10T01:08:28.947966Z"
    },
    "papermill": {
     "duration": 0.087669,
     "end_time": "2022-02-10T01:20:00.816590",
     "exception": false,
     "start_time": "2022-02-10T01:20:00.728921",
     "status": "completed"
    },
    "tags": []
   },
   "outputs": [
    {
     "name": "stdout",
     "output_type": "stream",
     "text": [
      "<class 'pandas.core.frame.DataFrame'>\n",
      "RangeIndex: 5048 entries, 0 to 5047\n",
      "Data columns (total 12 columns):\n",
      " #   Column       Non-Null Count  Dtype \n",
      "---  ------       --------------  ----- \n",
      " 0   id           5048 non-null   int64 \n",
      " 1   season       5048 non-null   object\n",
      " 2   match_no     5048 non-null   object\n",
      " 3   date         5048 non-null   object\n",
      " 4   player_name  5048 non-null   object\n",
      " 5   comment      2254 non-null   object\n",
      " 6   R            5048 non-null   object\n",
      " 7   B            5048 non-null   object\n",
      " 8   M            5048 non-null   object\n",
      " 9   fours        5048 non-null   object\n",
      " 10  sixs         5048 non-null   object\n",
      " 11  SR           5048 non-null   object\n",
      "dtypes: int64(1), object(11)\n",
      "memory usage: 473.4+ KB\n"
     ]
    }
   ],
   "source": [
    "batsman.info()"
   ]
  },
  {
   "cell_type": "markdown",
   "id": "fc38644e",
   "metadata": {
    "papermill": {
     "duration": 0.067353,
     "end_time": "2022-02-10T01:20:00.952321",
     "exception": false,
     "start_time": "2022-02-10T01:20:00.884968",
     "status": "completed"
    },
    "tags": []
   },
   "source": [
    "## Bowler Data"
   ]
  },
  {
   "cell_type": "code",
   "execution_count": 11,
   "id": "b0e1fefc",
   "metadata": {
    "execution": {
     "iopub.execute_input": "2022-02-10T01:20:01.182569Z",
     "iopub.status.busy": "2022-02-10T01:20:01.181683Z",
     "iopub.status.idle": "2022-02-10T01:20:01.185213Z",
     "shell.execute_reply": "2022-02-10T01:20:01.183301Z",
     "shell.execute_reply.started": "2022-02-10T01:08:28.966220Z"
    },
    "papermill": {
     "duration": 0.136595,
     "end_time": "2022-02-10T01:20:01.185381",
     "exception": false,
     "start_time": "2022-02-10T01:20:01.048786",
     "status": "completed"
    },
    "tags": []
   },
   "outputs": [
    {
     "data": {
      "text/plain": [
       "(3601, 12)"
      ]
     },
     "execution_count": 11,
     "metadata": {},
     "output_type": "execute_result"
    }
   ],
   "source": [
    "bowler.shape"
   ]
  },
  {
   "cell_type": "code",
   "execution_count": 12,
   "id": "51a1e069",
   "metadata": {
    "execution": {
     "iopub.execute_input": "2022-02-10T01:20:01.415556Z",
     "iopub.status.busy": "2022-02-10T01:20:01.414759Z",
     "iopub.status.idle": "2022-02-10T01:20:01.430346Z",
     "shell.execute_reply": "2022-02-10T01:20:01.431300Z",
     "shell.execute_reply.started": "2022-02-10T01:08:28.973341Z"
    },
    "papermill": {
     "duration": 0.13418,
     "end_time": "2022-02-10T01:20:01.431490",
     "exception": false,
     "start_time": "2022-02-10T01:20:01.297310",
     "status": "completed"
    },
    "tags": []
   },
   "outputs": [
    {
     "data": {
      "text/html": [
       "<div>\n",
       "<style scoped>\n",
       "    .dataframe tbody tr th:only-of-type {\n",
       "        vertical-align: middle;\n",
       "    }\n",
       "\n",
       "    .dataframe tbody tr th {\n",
       "        vertical-align: top;\n",
       "    }\n",
       "\n",
       "    .dataframe thead th {\n",
       "        text-align: right;\n",
       "    }\n",
       "</style>\n",
       "<table border=\"1\" class=\"dataframe\">\n",
       "  <thead>\n",
       "    <tr style=\"text-align: right;\">\n",
       "      <th></th>\n",
       "      <th>id</th>\n",
       "      <th>season</th>\n",
       "      <th>match_no</th>\n",
       "      <th>date</th>\n",
       "      <th>player_name</th>\n",
       "      <th>O</th>\n",
       "      <th>M</th>\n",
       "      <th>R</th>\n",
       "      <th>W</th>\n",
       "      <th>ECON</th>\n",
       "      <th>WD</th>\n",
       "      <th>NB</th>\n",
       "    </tr>\n",
       "  </thead>\n",
       "  <tbody>\n",
       "    <tr>\n",
       "      <th>0</th>\n",
       "      <td>0</td>\n",
       "      <td>2011/12</td>\n",
       "      <td>Final</td>\n",
       "      <td>Feb 29 2012</td>\n",
       "      <td>Mashrafe Mortaza</td>\n",
       "      <td>2.0</td>\n",
       "      <td>0</td>\n",
       "      <td>17</td>\n",
       "      <td>0</td>\n",
       "      <td>8.50</td>\n",
       "      <td>0</td>\n",
       "      <td>0</td>\n",
       "    </tr>\n",
       "    <tr>\n",
       "      <th>1</th>\n",
       "      <td>0</td>\n",
       "      <td>2011/12</td>\n",
       "      <td>Final</td>\n",
       "      <td>Feb 29 2012</td>\n",
       "      <td>Azhar Mahmood</td>\n",
       "      <td>2.0</td>\n",
       "      <td>0</td>\n",
       "      <td>25</td>\n",
       "      <td>0</td>\n",
       "      <td>12.50</td>\n",
       "      <td>0</td>\n",
       "      <td>1</td>\n",
       "    </tr>\n",
       "    <tr>\n",
       "      <th>2</th>\n",
       "      <td>32</td>\n",
       "      <td>2011/12</td>\n",
       "      <td>1st</td>\n",
       "      <td>Feb 10 2012</td>\n",
       "      <td>Yasir Arafat</td>\n",
       "      <td>4.0</td>\n",
       "      <td>0</td>\n",
       "      <td>33</td>\n",
       "      <td>2</td>\n",
       "      <td>8.25</td>\n",
       "      <td>2</td>\n",
       "      <td>0</td>\n",
       "    </tr>\n",
       "    <tr>\n",
       "      <th>3</th>\n",
       "      <td>29</td>\n",
       "      <td>2011/12</td>\n",
       "      <td>4th</td>\n",
       "      <td>Feb 11 2012</td>\n",
       "      <td>Syed Rasel</td>\n",
       "      <td>3.0</td>\n",
       "      <td>0</td>\n",
       "      <td>33</td>\n",
       "      <td>0</td>\n",
       "      <td>11.00</td>\n",
       "      <td>2</td>\n",
       "      <td>0</td>\n",
       "    </tr>\n",
       "    <tr>\n",
       "      <th>4</th>\n",
       "      <td>28</td>\n",
       "      <td>2011/12</td>\n",
       "      <td>5th</td>\n",
       "      <td>Feb 12 2012</td>\n",
       "      <td>Dwayne Bravo</td>\n",
       "      <td>4.0</td>\n",
       "      <td>0</td>\n",
       "      <td>34</td>\n",
       "      <td>1</td>\n",
       "      <td>8.50</td>\n",
       "      <td>3</td>\n",
       "      <td>1</td>\n",
       "    </tr>\n",
       "  </tbody>\n",
       "</table>\n",
       "</div>"
      ],
      "text/plain": [
       "   id   season match_no         date       player_name    O  M   R  W   ECON  \\\n",
       "0   0  2011/12    Final  Feb 29 2012  Mashrafe Mortaza  2.0  0  17  0   8.50   \n",
       "1   0  2011/12    Final  Feb 29 2012     Azhar Mahmood  2.0  0  25  0  12.50   \n",
       "2  32  2011/12      1st  Feb 10 2012      Yasir Arafat  4.0  0  33  2   8.25   \n",
       "3  29  2011/12      4th  Feb 11 2012        Syed Rasel  3.0  0  33  0  11.00   \n",
       "4  28  2011/12      5th  Feb 12 2012      Dwayne Bravo  4.0  0  34  1   8.50   \n",
       "\n",
       "   WD  NB  \n",
       "0   0   0  \n",
       "1   0   1  \n",
       "2   2   0  \n",
       "3   2   0  \n",
       "4   3   1  "
      ]
     },
     "execution_count": 12,
     "metadata": {},
     "output_type": "execute_result"
    }
   ],
   "source": [
    "bowler.head()"
   ]
  },
  {
   "cell_type": "code",
   "execution_count": 13,
   "id": "95662c30",
   "metadata": {
    "execution": {
     "iopub.execute_input": "2022-02-10T01:20:01.639263Z",
     "iopub.status.busy": "2022-02-10T01:20:01.638666Z",
     "iopub.status.idle": "2022-02-10T01:20:01.641264Z",
     "shell.execute_reply": "2022-02-10T01:20:01.641679Z",
     "shell.execute_reply.started": "2022-02-10T01:08:28.992536Z"
    },
    "papermill": {
     "duration": 0.097148,
     "end_time": "2022-02-10T01:20:01.641815",
     "exception": false,
     "start_time": "2022-02-10T01:20:01.544667",
     "status": "completed"
    },
    "tags": []
   },
   "outputs": [
    {
     "data": {
      "text/plain": [
       "Int64Index([  0,   1,   2,   3,   4,   5,   6,   7,   8,   9,\n",
       "            ...\n",
       "            710, 711, 712, 713, 714, 715, 716, 717, 718, 719],\n",
       "           dtype='int64', length=291)"
      ]
     },
     "execution_count": 13,
     "metadata": {},
     "output_type": "execute_result"
    }
   ],
   "source": [
    "bowler['id'].value_counts().keys().sort_values()"
   ]
  },
  {
   "cell_type": "code",
   "execution_count": 14,
   "id": "e188d156",
   "metadata": {
    "execution": {
     "iopub.execute_input": "2022-02-10T01:20:01.785621Z",
     "iopub.status.busy": "2022-02-10T01:20:01.784826Z",
     "iopub.status.idle": "2022-02-10T01:20:01.794692Z",
     "shell.execute_reply": "2022-02-10T01:20:01.795137Z",
     "shell.execute_reply.started": "2022-02-10T01:08:29.001626Z"
    },
    "papermill": {
     "duration": 0.084683,
     "end_time": "2022-02-10T01:20:01.795286",
     "exception": false,
     "start_time": "2022-02-10T01:20:01.710603",
     "status": "completed"
    },
    "tags": []
   },
   "outputs": [
    {
     "name": "stdout",
     "output_type": "stream",
     "text": [
      "<class 'pandas.core.frame.DataFrame'>\n",
      "RangeIndex: 3601 entries, 0 to 3600\n",
      "Data columns (total 12 columns):\n",
      " #   Column       Non-Null Count  Dtype  \n",
      "---  ------       --------------  -----  \n",
      " 0   id           3601 non-null   int64  \n",
      " 1   season       3601 non-null   object \n",
      " 2   match_no     3601 non-null   object \n",
      " 3   date         3601 non-null   object \n",
      " 4   player_name  3601 non-null   object \n",
      " 5   O            3601 non-null   float64\n",
      " 6   M            3601 non-null   int64  \n",
      " 7   R            3601 non-null   int64  \n",
      " 8   W            3601 non-null   int64  \n",
      " 9   ECON         3601 non-null   float64\n",
      " 10  WD           3601 non-null   int64  \n",
      " 11  NB           3601 non-null   int64  \n",
      "dtypes: float64(2), int64(6), object(4)\n",
      "memory usage: 337.7+ KB\n"
     ]
    }
   ],
   "source": [
    "bowler.info()"
   ]
  },
  {
   "cell_type": "markdown",
   "id": "63cef987",
   "metadata": {
    "papermill": {
     "duration": 0.068854,
     "end_time": "2022-02-10T01:20:01.933044",
     "exception": false,
     "start_time": "2022-02-10T01:20:01.864190",
     "status": "completed"
    },
    "tags": []
   },
   "source": [
    "## Data Cleaning and Processing \n",
    "### bpl "
   ]
  },
  {
   "cell_type": "code",
   "execution_count": 15,
   "id": "70e955ec",
   "metadata": {
    "execution": {
     "iopub.execute_input": "2022-02-10T01:20:02.078913Z",
     "iopub.status.busy": "2022-02-10T01:20:02.078125Z",
     "iopub.status.idle": "2022-02-10T01:20:02.081182Z",
     "shell.execute_reply": "2022-02-10T01:20:02.081596Z",
     "shell.execute_reply.started": "2022-02-10T01:08:29.017329Z"
    },
    "papermill": {
     "duration": 0.07976,
     "end_time": "2022-02-10T01:20:02.081742",
     "exception": false,
     "start_time": "2022-02-10T01:20:02.001982",
     "status": "completed"
    },
    "tags": []
   },
   "outputs": [
    {
     "data": {
      "text/plain": [
       "Chittagong Vikings        28\n",
       "Dhaka Dynamites           28\n",
       "Rangpur Riders            27\n",
       "Khulna Titans             24\n",
       "Comilla Victorians        23\n",
       "Rajshahi Kings            16\n",
       "Dhaka Gladiators          15\n",
       "Sylhet Sixers             15\n",
       "Khulna Royal Bengals      14\n",
       "Barisal Bulls             14\n",
       "Chattogram Challengers    13\n",
       "Chittagong Kings          12\n",
       "Barisal Burners           11\n",
       "Duronto Rajshahi          10\n",
       "Sylhet Royals             10\n",
       "Sylhet Thunder             9\n",
       "Dhaka Platoon              9\n",
       "Rangpur Rangers            6\n",
       "Khulna Tigers              6\n",
       "Rajshahi Royals            5\n",
       "Cumilla Warriors           4\n",
       "Fortune Barishal           4\n",
       "Minister Group Dhaka       3\n",
       "Sylhet Sunrisers           3\n",
       "Sylhet Super Stars         2\n",
       "Name: team_1, dtype: int64"
      ]
     },
     "execution_count": 15,
     "metadata": {},
     "output_type": "execute_result"
    }
   ],
   "source": [
    "bpl['team_1'].value_counts()"
   ]
  },
  {
   "cell_type": "code",
   "execution_count": 16,
   "id": "534e5e91",
   "metadata": {
    "execution": {
     "iopub.execute_input": "2022-02-10T01:20:02.225559Z",
     "iopub.status.busy": "2022-02-10T01:20:02.224770Z",
     "iopub.status.idle": "2022-02-10T01:20:02.233828Z",
     "shell.execute_reply": "2022-02-10T01:20:02.234274Z",
     "shell.execute_reply.started": "2022-02-10T01:08:29.026144Z"
    },
    "papermill": {
     "duration": 0.081949,
     "end_time": "2022-02-10T01:20:02.234409",
     "exception": false,
     "start_time": "2022-02-10T01:20:02.152460",
     "status": "completed"
    },
    "tags": []
   },
   "outputs": [
    {
     "data": {
      "text/plain": [
       "Rangpur Riders            38\n",
       "Comilla Victorians        34\n",
       "Dhaka Dynamites           24\n",
       "Rajshahi Kings            23\n",
       "Chittagong Vikings        19\n",
       "Khulna Titans             14\n",
       "Duronto Rajshahi          14\n",
       "Khulna Tigers             14\n",
       "Chittagong Kings          13\n",
       "Barisal Burners           13\n",
       "Sylhet Royals             13\n",
       "Dhaka Gladiators          11\n",
       "Rajshahi Royals           10\n",
       "Barisal Bulls             10\n",
       "Chattogram Challengers     9\n",
       "Khulna Royal Bengals       8\n",
       "Sylhet Sixers              8\n",
       "Sylhet Super Stars         8\n",
       "Cumilla Warriors           8\n",
       "Rangpur Rangers            6\n",
       "Dhaka Platoon              4\n",
       "Sylhet Thunder             3\n",
       "Minister Group Dhaka       3\n",
       "Fortune Barishal           2\n",
       "Sylhet Sunrisers           2\n",
       "Name: team_2, dtype: int64"
      ]
     },
     "execution_count": 16,
     "metadata": {},
     "output_type": "execute_result"
    }
   ],
   "source": [
    "bpl['team_2'].value_counts()"
   ]
  },
  {
   "cell_type": "code",
   "execution_count": 17,
   "id": "01afdaa0",
   "metadata": {
    "execution": {
     "iopub.execute_input": "2022-02-10T01:20:02.380462Z",
     "iopub.status.busy": "2022-02-10T01:20:02.379831Z",
     "iopub.status.idle": "2022-02-10T01:20:02.382352Z",
     "shell.execute_reply": "2022-02-10T01:20:02.382781Z",
     "shell.execute_reply.started": "2022-02-10T01:08:29.037859Z"
    },
    "papermill": {
     "duration": 0.078646,
     "end_time": "2022-02-10T01:20:02.382918",
     "exception": false,
     "start_time": "2022-02-10T01:20:02.304272",
     "status": "completed"
    },
    "tags": []
   },
   "outputs": [
    {
     "data": {
      "text/plain": [
       "Victorians     37\n",
       "Riders         35\n",
       "Dynamites      30\n",
       "Dhaka          21\n",
       "Royals         21\n",
       "Kings          18\n",
       "Vikings        17\n",
       "Titans         16\n",
       "Chittagong     13\n",
       "Challengers    12\n",
       "Rajshahi       12\n",
       "Bulls          12\n",
       "Tigers         12\n",
       "Barisal        11\n",
       "Sixers          9\n",
       "Khulna          8\n",
       "Platoon         7\n",
       "Rangers         5\n",
       "Warriors        4\n",
       "Barishal        4\n",
       "Super           3\n",
       "Match           2\n",
       "Thunder         1\n",
       "Sunrisers       1\n",
       "Name: winner, dtype: int64"
      ]
     },
     "execution_count": 17,
     "metadata": {},
     "output_type": "execute_result"
    }
   ],
   "source": [
    "bpl['winner'].value_counts()"
   ]
  },
  {
   "cell_type": "code",
   "execution_count": 18,
   "id": "c58734cc",
   "metadata": {
    "execution": {
     "iopub.execute_input": "2022-02-10T01:20:02.529890Z",
     "iopub.status.busy": "2022-02-10T01:20:02.529296Z",
     "iopub.status.idle": "2022-02-10T01:20:02.531919Z",
     "shell.execute_reply": "2022-02-10T01:20:02.532318Z",
     "shell.execute_reply.started": "2022-02-10T01:08:29.049691Z"
    },
    "papermill": {
     "duration": 0.07929,
     "end_time": "2022-02-10T01:20:02.532448",
     "exception": false,
     "start_time": "2022-02-10T01:20:02.453158",
     "status": "completed"
    },
    "tags": []
   },
   "outputs": [
    {
     "data": {
      "text/plain": [
       "Rangpur Riders            34\n",
       "Comilla Victorians        27\n",
       "Dhaka Dynamites           25\n",
       "Rajshahi Kings            22\n",
       "Khulna Titans             21\n",
       "Chittagong Vikings        21\n",
       "Dhaka Gladiators          15\n",
       "Barisal Burners           13\n",
       "Khulna Tigers             13\n",
       "Khulna Royal Bengals      12\n",
       "Sylhet Royals             12\n",
       "Sylhet Sixers             11\n",
       "Barisal Bulls             11\n",
       "Duronto Rajshahi          11\n",
       "Chittagong Kings          10\n",
       "Rajshahi Royals            9\n",
       "Chattogram Challengers     8\n",
       "Cumilla Warriors           8\n",
       "Rangpur Rangers            6\n",
       "Sylhet Super Stars         5\n",
       "Sylhet Thunder             5\n",
       "Fortune Barishal           4\n",
       "Dhaka Platoon              3\n",
       "Minister Group Dhaka       3\n",
       "Sylhet Sunrisers           2\n",
       "Name: toss_winner, dtype: int64"
      ]
     },
     "execution_count": 18,
     "metadata": {},
     "output_type": "execute_result"
    }
   ],
   "source": [
    "bpl['toss_winner'].value_counts()"
   ]
  },
  {
   "cell_type": "markdown",
   "id": "28cca495",
   "metadata": {
    "papermill": {
     "duration": 0.070483,
     "end_time": "2022-02-10T01:20:02.673053",
     "exception": false,
     "start_time": "2022-02-10T01:20:02.602570",
     "status": "completed"
    },
    "tags": []
   },
   "source": [
    "### Team name convert in their own division in winner, toss_winner, team_1 and team_2 columns"
   ]
  },
  {
   "cell_type": "code",
   "execution_count": 19,
   "id": "e1ba5383",
   "metadata": {
    "execution": {
     "iopub.execute_input": "2022-02-10T01:20:02.823704Z",
     "iopub.status.busy": "2022-02-10T01:20:02.823028Z",
     "iopub.status.idle": "2022-02-10T01:20:02.825867Z",
     "shell.execute_reply": "2022-02-10T01:20:02.826347Z",
     "shell.execute_reply.started": "2022-02-10T01:08:29.060079Z"
    },
    "papermill": {
     "duration": 0.083014,
     "end_time": "2022-02-10T01:20:02.826501",
     "exception": false,
     "start_time": "2022-02-10T01:20:02.743487",
     "status": "completed"
    },
    "tags": []
   },
   "outputs": [
    {
     "data": {
      "text/plain": [
       "Victorians     37\n",
       "Riders         35\n",
       "Dynamites      30\n",
       "Dhaka          21\n",
       "Royals         21\n",
       "Kings          18\n",
       "Vikings        17\n",
       "Titans         16\n",
       "Chittagong     13\n",
       "Challengers    12\n",
       "Rajshahi       12\n",
       "Bulls          12\n",
       "Tigers         12\n",
       "Barisal        11\n",
       "Sixers          9\n",
       "Khulna          8\n",
       "Platoon         7\n",
       "Rangers         5\n",
       "Warriors        4\n",
       "Barishal        4\n",
       "Super           3\n",
       "Match           2\n",
       "Thunder         1\n",
       "Sunrisers       1\n",
       "Name: winner, dtype: int64"
      ]
     },
     "execution_count": 19,
     "metadata": {},
     "output_type": "execute_result"
    }
   ],
   "source": [
    "bpl['winner'].value_counts()"
   ]
  },
  {
   "cell_type": "code",
   "execution_count": 20,
   "id": "d79eb23b",
   "metadata": {
    "execution": {
     "iopub.execute_input": "2022-02-10T01:20:02.977131Z",
     "iopub.status.busy": "2022-02-10T01:20:02.976282Z",
     "iopub.status.idle": "2022-02-10T01:20:02.978039Z",
     "shell.execute_reply": "2022-02-10T01:20:02.978477Z",
     "shell.execute_reply.started": "2022-02-10T01:08:29.069325Z"
    },
    "papermill": {
     "duration": 0.079222,
     "end_time": "2022-02-10T01:20:02.978635",
     "exception": false,
     "start_time": "2022-02-10T01:20:02.899413",
     "status": "completed"
    },
    "tags": []
   },
   "outputs": [],
   "source": [
    "# Match means is tied \n",
    "bpl['winner'].replace('', 'NaN', inplace=True)"
   ]
  },
  {
   "cell_type": "code",
   "execution_count": 21,
   "id": "324a031e",
   "metadata": {
    "execution": {
     "iopub.execute_input": "2022-02-10T01:20:03.129226Z",
     "iopub.status.busy": "2022-02-10T01:20:03.128122Z",
     "iopub.status.idle": "2022-02-10T01:20:03.137754Z",
     "shell.execute_reply": "2022-02-10T01:20:03.138216Z",
     "shell.execute_reply.started": "2022-02-10T01:08:29.076998Z"
    },
    "papermill": {
     "duration": 0.08891,
     "end_time": "2022-02-10T01:20:03.138357",
     "exception": false,
     "start_time": "2022-02-10T01:20:03.049447",
     "status": "completed"
    },
    "tags": []
   },
   "outputs": [
    {
     "data": {
      "text/html": [
       "<div>\n",
       "<style scoped>\n",
       "    .dataframe tbody tr th:only-of-type {\n",
       "        vertical-align: middle;\n",
       "    }\n",
       "\n",
       "    .dataframe tbody tr th {\n",
       "        vertical-align: top;\n",
       "    }\n",
       "\n",
       "    .dataframe thead th {\n",
       "        text-align: right;\n",
       "    }\n",
       "</style>\n",
       "<table border=\"1\" class=\"dataframe\">\n",
       "  <thead>\n",
       "    <tr style=\"text-align: right;\">\n",
       "      <th></th>\n",
       "      <th>id</th>\n",
       "      <th>season</th>\n",
       "      <th>match_no</th>\n",
       "      <th>date</th>\n",
       "      <th>team_1</th>\n",
       "      <th>team_1_score</th>\n",
       "      <th>team_2</th>\n",
       "      <th>team_2_score</th>\n",
       "      <th>player_of_match</th>\n",
       "      <th>toss_winner</th>\n",
       "      <th>toss_decision</th>\n",
       "      <th>winner</th>\n",
       "      <th>venue</th>\n",
       "      <th>city</th>\n",
       "      <th>win_by_wickets</th>\n",
       "      <th>win_by_runs</th>\n",
       "      <th>result</th>\n",
       "      <th>umpire_1</th>\n",
       "      <th>umpire_2</th>\n",
       "    </tr>\n",
       "  </thead>\n",
       "  <tbody>\n",
       "  </tbody>\n",
       "</table>\n",
       "</div>"
      ],
      "text/plain": [
       "Empty DataFrame\n",
       "Columns: [id, season, match_no, date, team_1, team_1_score, team_2, team_2_score, player_of_match, toss_winner, toss_decision, winner, venue, city, win_by_wickets, win_by_runs, result, umpire_1, umpire_2]\n",
       "Index: []"
      ]
     },
     "execution_count": 21,
     "metadata": {},
     "output_type": "execute_result"
    }
   ],
   "source": [
    "bpl[bpl['winner'] == 'NaN']"
   ]
  },
  {
   "cell_type": "markdown",
   "id": "42e57cce",
   "metadata": {
    "papermill": {
     "duration": 0.071134,
     "end_time": "2022-02-10T01:20:03.282069",
     "exception": false,
     "start_time": "2022-02-10T01:20:03.210935",
     "status": "completed"
    },
    "tags": []
   },
   "source": [
    "#### Team 1 and team 2 name correction"
   ]
  },
  {
   "cell_type": "code",
   "execution_count": 22,
   "id": "9f5c4ce4",
   "metadata": {
    "execution": {
     "iopub.execute_input": "2022-02-10T01:20:03.433834Z",
     "iopub.status.busy": "2022-02-10T01:20:03.432977Z",
     "iopub.status.idle": "2022-02-10T01:20:03.466976Z",
     "shell.execute_reply": "2022-02-10T01:20:03.466453Z",
     "shell.execute_reply.started": "2022-02-10T01:08:29.092752Z"
    },
    "papermill": {
     "duration": 0.113075,
     "end_time": "2022-02-10T01:20:03.467130",
     "exception": false,
     "start_time": "2022-02-10T01:20:03.354055",
     "status": "completed"
    },
    "tags": []
   },
   "outputs": [],
   "source": [
    "teams = {\n",
    "    \"Dhaka\": ['Dhaka Dynamites', 'Dhaka Platoon', 'Minister Group Dhaka', 'Dhaka Gladiators'], \n",
    "    \"Chittagong\": ['Chattogram Challengers', 'Chittagong Vikings', 'Chittagong Kings'],\n",
    "    \"Barishal\": ['Fortune Barishal', 'Barisal Burners', 'Barisal', 'Barishal', 'Barisal Bulls'],\n",
    "    \"Sylhet\": ['Sylhet Sunrisers', 'Sylhet Royals', 'Sylhet Sixers', 'Sylhet Super Stars', 'Sylhet Thunder'],\n",
    "    \"Rajshahi\": ['Rajshahi Kings', 'Rajshahi Royals', 'Duronto Rajshahi'],\n",
    "    \"Comilla\": ['Comilla Victorians', 'Cumilla Warriors'],\n",
    "    \"Khulna\": ['Khulna Titans', 'Khulna Royal Bengals', 'Khulna Tigers'],\n",
    "    \"Rangpur\": ['Rangpur Rangers', 'Rangpur Riders']    \n",
    "}\n",
    "\n",
    "for k, v in teams.items():\n",
    "    for name in v:\n",
    "        bpl['team_1'].replace(name, k, inplace=True)\n",
    "        bpl['team_2'].replace(name, k, inplace=True)\n",
    "        bpl['toss_winner'].replace(name, k, inplace=True)\n",
    "        for n in name.split(' '):\n",
    "            bpl['winner'].replace(n, k, inplace=True)"
   ]
  },
  {
   "cell_type": "code",
   "execution_count": 23,
   "id": "e5099a2c",
   "metadata": {
    "execution": {
     "iopub.execute_input": "2022-02-10T01:20:03.613441Z",
     "iopub.status.busy": "2022-02-10T01:20:03.612655Z",
     "iopub.status.idle": "2022-02-10T01:20:03.619116Z",
     "shell.execute_reply": "2022-02-10T01:20:03.619554Z",
     "shell.execute_reply.started": "2022-02-10T01:08:29.143874Z"
    },
    "papermill": {
     "duration": 0.081414,
     "end_time": "2022-02-10T01:20:03.619715",
     "exception": false,
     "start_time": "2022-02-10T01:20:03.538301",
     "status": "completed"
    },
    "tags": []
   },
   "outputs": [
    {
     "data": {
      "text/plain": [
       "Dhaka         55\n",
       "Chittagong    53\n",
       "Khulna        44\n",
       "Sylhet        39\n",
       "Rangpur       33\n",
       "Rajshahi      31\n",
       "Barishal      29\n",
       "Comilla       27\n",
       "Name: team_1, dtype: int64"
      ]
     },
     "execution_count": 23,
     "metadata": {},
     "output_type": "execute_result"
    }
   ],
   "source": [
    "bpl['team_1'].value_counts()"
   ]
  },
  {
   "cell_type": "code",
   "execution_count": 24,
   "id": "504f363e",
   "metadata": {
    "execution": {
     "iopub.execute_input": "2022-02-10T01:20:03.769437Z",
     "iopub.status.busy": "2022-02-10T01:20:03.768841Z",
     "iopub.status.idle": "2022-02-10T01:20:03.771411Z",
     "shell.execute_reply": "2022-02-10T01:20:03.771853Z",
     "shell.execute_reply.started": "2022-02-10T01:08:29.160253Z"
    },
    "papermill": {
     "duration": 0.080916,
     "end_time": "2022-02-10T01:20:03.771995",
     "exception": false,
     "start_time": "2022-02-10T01:20:03.691079",
     "status": "completed"
    },
    "tags": []
   },
   "outputs": [
    {
     "data": {
      "text/plain": [
       "Rajshahi      47\n",
       "Rangpur       44\n",
       "Dhaka         42\n",
       "Comilla       42\n",
       "Chittagong    41\n",
       "Khulna        36\n",
       "Sylhet        34\n",
       "Barishal      25\n",
       "Name: team_2, dtype: int64"
      ]
     },
     "execution_count": 24,
     "metadata": {},
     "output_type": "execute_result"
    }
   ],
   "source": [
    "bpl['team_2'].value_counts()"
   ]
  },
  {
   "cell_type": "code",
   "execution_count": 25,
   "id": "3201c272",
   "metadata": {
    "execution": {
     "iopub.execute_input": "2022-02-10T01:20:03.922020Z",
     "iopub.status.busy": "2022-02-10T01:20:03.921401Z",
     "iopub.status.idle": "2022-02-10T01:20:03.923981Z",
     "shell.execute_reply": "2022-02-10T01:20:03.924384Z",
     "shell.execute_reply.started": "2022-02-10T01:08:29.169128Z"
    },
    "papermill": {
     "duration": 0.081065,
     "end_time": "2022-02-10T01:20:03.924517",
     "exception": false,
     "start_time": "2022-02-10T01:20:03.843452",
     "status": "completed"
    },
    "tags": []
   },
   "outputs": [
    {
     "data": {
      "text/plain": [
       "Dhaka         46\n",
       "Khulna        46\n",
       "Rajshahi      42\n",
       "Rangpur       40\n",
       "Chittagong    39\n",
       "Sylhet        35\n",
       "Comilla       35\n",
       "Barishal      28\n",
       "Name: toss_winner, dtype: int64"
      ]
     },
     "execution_count": 25,
     "metadata": {},
     "output_type": "execute_result"
    }
   ],
   "source": [
    "bpl['toss_winner'].value_counts()"
   ]
  },
  {
   "cell_type": "code",
   "execution_count": 26,
   "id": "852bed7c",
   "metadata": {
    "execution": {
     "iopub.execute_input": "2022-02-10T01:20:04.075355Z",
     "iopub.status.busy": "2022-02-10T01:20:04.074041Z",
     "iopub.status.idle": "2022-02-10T01:20:04.078134Z",
     "shell.execute_reply": "2022-02-10T01:20:04.078494Z",
     "shell.execute_reply.started": "2022-02-10T01:08:29.180999Z"
    },
    "papermill": {
     "duration": 0.081619,
     "end_time": "2022-02-10T01:20:04.078657",
     "exception": false,
     "start_time": "2022-02-10T01:20:03.997038",
     "status": "completed"
    },
    "tags": []
   },
   "outputs": [
    {
     "data": {
      "text/plain": [
       "Chittagong    60\n",
       "Dhaka         58\n",
       "Comilla       41\n",
       "Rangpur       40\n",
       "Khulna        36\n",
       "Sylhet        35\n",
       "Barishal      27\n",
       "Rajshahi      12\n",
       "Match          2\n",
       "Name: winner, dtype: int64"
      ]
     },
     "execution_count": 26,
     "metadata": {},
     "output_type": "execute_result"
    }
   ],
   "source": [
    "bpl['winner'].value_counts()"
   ]
  },
  {
   "cell_type": "code",
   "execution_count": 27,
   "id": "5a272bae",
   "metadata": {
    "execution": {
     "iopub.execute_input": "2022-02-10T01:20:04.246564Z",
     "iopub.status.busy": "2022-02-10T01:20:04.245601Z",
     "iopub.status.idle": "2022-02-10T01:20:04.248909Z",
     "shell.execute_reply": "2022-02-10T01:20:04.249303Z",
     "shell.execute_reply.started": "2022-02-10T01:08:29.190289Z"
    },
    "papermill": {
     "duration": 0.093295,
     "end_time": "2022-02-10T01:20:04.249434",
     "exception": false,
     "start_time": "2022-02-10T01:20:04.156139",
     "status": "completed"
    },
    "tags": []
   },
   "outputs": [
    {
     "data": {
      "text/html": [
       "<div>\n",
       "<style scoped>\n",
       "    .dataframe tbody tr th:only-of-type {\n",
       "        vertical-align: middle;\n",
       "    }\n",
       "\n",
       "    .dataframe tbody tr th {\n",
       "        vertical-align: top;\n",
       "    }\n",
       "\n",
       "    .dataframe thead th {\n",
       "        text-align: right;\n",
       "    }\n",
       "</style>\n",
       "<table border=\"1\" class=\"dataframe\">\n",
       "  <thead>\n",
       "    <tr style=\"text-align: right;\">\n",
       "      <th></th>\n",
       "      <th>id</th>\n",
       "      <th>season</th>\n",
       "      <th>match_no</th>\n",
       "      <th>date</th>\n",
       "      <th>team_1</th>\n",
       "      <th>team_1_score</th>\n",
       "      <th>team_2</th>\n",
       "      <th>team_2_score</th>\n",
       "      <th>player_of_match</th>\n",
       "      <th>toss_winner</th>\n",
       "      <th>toss_decision</th>\n",
       "      <th>winner</th>\n",
       "      <th>venue</th>\n",
       "      <th>city</th>\n",
       "      <th>win_by_wickets</th>\n",
       "      <th>win_by_runs</th>\n",
       "      <th>result</th>\n",
       "      <th>umpire_1</th>\n",
       "      <th>umpire_2</th>\n",
       "    </tr>\n",
       "  </thead>\n",
       "  <tbody>\n",
       "    <tr>\n",
       "      <th>0</th>\n",
       "      <td>0</td>\n",
       "      <td>2011/12</td>\n",
       "      <td>Final</td>\n",
       "      <td>Feb 29 2012</td>\n",
       "      <td>Barishal</td>\n",
       "      <td>140/7</td>\n",
       "      <td>Dhaka</td>\n",
       "      <td>144/2</td>\n",
       "      <td>Imran Nazir</td>\n",
       "      <td>Dhaka</td>\n",
       "      <td>field first</td>\n",
       "      <td>Dhaka</td>\n",
       "      <td>Shere Bangla National Stadium, Mirpur</td>\n",
       "      <td>Mirpur</td>\n",
       "      <td>8</td>\n",
       "      <td>0</td>\n",
       "      <td>8 wickets</td>\n",
       "      <td>David Orchard</td>\n",
       "      <td>Enamul Haque</td>\n",
       "    </tr>\n",
       "    <tr>\n",
       "      <th>1</th>\n",
       "      <td>30</td>\n",
       "      <td>2011/12</td>\n",
       "      <td>3rd</td>\n",
       "      <td>Feb 11 2012</td>\n",
       "      <td>Khulna</td>\n",
       "      <td>175/5</td>\n",
       "      <td>Dhaka</td>\n",
       "      <td>156/7</td>\n",
       "      <td>Andre Russell</td>\n",
       "      <td>Khulna</td>\n",
       "      <td>bat first</td>\n",
       "      <td>Khulna</td>\n",
       "      <td>Shere Bangla National Stadium, Mirpur</td>\n",
       "      <td>Mirpur</td>\n",
       "      <td>0</td>\n",
       "      <td>19</td>\n",
       "      <td>19 runs</td>\n",
       "      <td>Jeremy Lloyds</td>\n",
       "      <td>Sharfuddoula</td>\n",
       "    </tr>\n",
       "    <tr>\n",
       "      <th>2</th>\n",
       "      <td>26</td>\n",
       "      <td>2011/12</td>\n",
       "      <td>7th</td>\n",
       "      <td>Feb 13 2012</td>\n",
       "      <td>Barishal</td>\n",
       "      <td>125</td>\n",
       "      <td>Khulna</td>\n",
       "      <td>131/3</td>\n",
       "      <td>Dwayne Smith</td>\n",
       "      <td>Khulna</td>\n",
       "      <td>field first</td>\n",
       "      <td>Khulna</td>\n",
       "      <td>Shere Bangla National Stadium, Mirpur</td>\n",
       "      <td>Mirpur</td>\n",
       "      <td>7</td>\n",
       "      <td>0</td>\n",
       "      <td>7 wickets</td>\n",
       "      <td>Enamul Haque</td>\n",
       "      <td>Jeremy Lloyds</td>\n",
       "    </tr>\n",
       "    <tr>\n",
       "      <th>3</th>\n",
       "      <td>29</td>\n",
       "      <td>2011/12</td>\n",
       "      <td>4th</td>\n",
       "      <td>Feb 11 2012</td>\n",
       "      <td>Barishal</td>\n",
       "      <td>180/2</td>\n",
       "      <td>Rajshahi</td>\n",
       "      <td>158/9</td>\n",
       "      <td>Ahmed Shehzad</td>\n",
       "      <td>Barishal</td>\n",
       "      <td>bat first</td>\n",
       "      <td>Barishal</td>\n",
       "      <td>Shere Bangla National Stadium, Mirpur</td>\n",
       "      <td>Mirpur</td>\n",
       "      <td>0</td>\n",
       "      <td>22</td>\n",
       "      <td>22 runs</td>\n",
       "      <td>David Orchard</td>\n",
       "      <td>Gazi Sohel</td>\n",
       "    </tr>\n",
       "    <tr>\n",
       "      <th>4</th>\n",
       "      <td>28</td>\n",
       "      <td>2011/12</td>\n",
       "      <td>5th</td>\n",
       "      <td>Feb 12 2012</td>\n",
       "      <td>Khulna</td>\n",
       "      <td>171/3</td>\n",
       "      <td>Chittagong</td>\n",
       "      <td>174/4</td>\n",
       "      <td>Nasir Jamshed</td>\n",
       "      <td>Khulna</td>\n",
       "      <td>bat first</td>\n",
       "      <td>Chittagong</td>\n",
       "      <td>Shere Bangla National Stadium, Mirpur</td>\n",
       "      <td>Mirpur</td>\n",
       "      <td>6</td>\n",
       "      <td>0</td>\n",
       "      <td>6 wickets</td>\n",
       "      <td>David Orchard</td>\n",
       "      <td>Enamul Haque</td>\n",
       "    </tr>\n",
       "  </tbody>\n",
       "</table>\n",
       "</div>"
      ],
      "text/plain": [
       "   id   season match_no         date    team_1 team_1_score      team_2  \\\n",
       "0   0  2011/12    Final  Feb 29 2012  Barishal        140/7       Dhaka   \n",
       "1  30  2011/12      3rd  Feb 11 2012    Khulna        175/5       Dhaka   \n",
       "2  26  2011/12      7th  Feb 13 2012  Barishal          125      Khulna   \n",
       "3  29  2011/12      4th  Feb 11 2012  Barishal        180/2    Rajshahi   \n",
       "4  28  2011/12      5th  Feb 12 2012    Khulna        171/3  Chittagong   \n",
       "\n",
       "  team_2_score player_of_match toss_winner toss_decision      winner  \\\n",
       "0        144/2     Imran Nazir       Dhaka   field first       Dhaka   \n",
       "1        156/7   Andre Russell      Khulna     bat first      Khulna   \n",
       "2        131/3    Dwayne Smith      Khulna   field first      Khulna   \n",
       "3        158/9   Ahmed Shehzad    Barishal     bat first    Barishal   \n",
       "4        174/4   Nasir Jamshed      Khulna     bat first  Chittagong   \n",
       "\n",
       "                                   venue    city  win_by_wickets  win_by_runs  \\\n",
       "0  Shere Bangla National Stadium, Mirpur  Mirpur               8            0   \n",
       "1  Shere Bangla National Stadium, Mirpur  Mirpur               0           19   \n",
       "2  Shere Bangla National Stadium, Mirpur  Mirpur               7            0   \n",
       "3  Shere Bangla National Stadium, Mirpur  Mirpur               0           22   \n",
       "4  Shere Bangla National Stadium, Mirpur  Mirpur               6            0   \n",
       "\n",
       "      result       umpire_1       umpire_2  \n",
       "0  8 wickets  David Orchard   Enamul Haque  \n",
       "1    19 runs  Jeremy Lloyds   Sharfuddoula  \n",
       "2  7 wickets   Enamul Haque  Jeremy Lloyds  \n",
       "3    22 runs  David Orchard     Gazi Sohel  \n",
       "4  6 wickets  David Orchard   Enamul Haque  "
      ]
     },
     "execution_count": 27,
     "metadata": {},
     "output_type": "execute_result"
    }
   ],
   "source": [
    "bpl.head()"
   ]
  },
  {
   "cell_type": "code",
   "execution_count": 28,
   "id": "aa27c437",
   "metadata": {
    "execution": {
     "iopub.execute_input": "2022-02-10T01:20:04.403504Z",
     "iopub.status.busy": "2022-02-10T01:20:04.402695Z",
     "iopub.status.idle": "2022-02-10T01:20:04.427589Z",
     "shell.execute_reply": "2022-02-10T01:20:04.427168Z",
     "shell.execute_reply.started": "2022-02-10T01:08:29.218588Z"
    },
    "papermill": {
     "duration": 0.105888,
     "end_time": "2022-02-10T01:20:04.427726",
     "exception": false,
     "start_time": "2022-02-10T01:20:04.321838",
     "status": "completed"
    },
    "tags": []
   },
   "outputs": [
    {
     "data": {
      "text/html": [
       "<div>\n",
       "<style scoped>\n",
       "    .dataframe tbody tr th:only-of-type {\n",
       "        vertical-align: middle;\n",
       "    }\n",
       "\n",
       "    .dataframe tbody tr th {\n",
       "        vertical-align: top;\n",
       "    }\n",
       "\n",
       "    .dataframe thead th {\n",
       "        text-align: right;\n",
       "    }\n",
       "</style>\n",
       "<table border=\"1\" class=\"dataframe\">\n",
       "  <thead>\n",
       "    <tr style=\"text-align: right;\">\n",
       "      <th></th>\n",
       "      <th>id</th>\n",
       "      <th>season</th>\n",
       "      <th>match_no</th>\n",
       "      <th>date</th>\n",
       "      <th>team_1</th>\n",
       "      <th>team_1_score</th>\n",
       "      <th>team_2</th>\n",
       "      <th>team_2_score</th>\n",
       "      <th>player_of_match</th>\n",
       "      <th>toss_winner</th>\n",
       "      <th>...</th>\n",
       "      <th>city</th>\n",
       "      <th>win_by_wickets</th>\n",
       "      <th>win_by_runs</th>\n",
       "      <th>result</th>\n",
       "      <th>umpire_1</th>\n",
       "      <th>umpire_2</th>\n",
       "      <th>team_1_run</th>\n",
       "      <th>team_1_wicket</th>\n",
       "      <th>team_2_run</th>\n",
       "      <th>team_2_wicket</th>\n",
       "    </tr>\n",
       "  </thead>\n",
       "  <tbody>\n",
       "    <tr>\n",
       "      <th>0</th>\n",
       "      <td>0</td>\n",
       "      <td>2011/12</td>\n",
       "      <td>Final</td>\n",
       "      <td>Feb 29 2012</td>\n",
       "      <td>Barishal</td>\n",
       "      <td>140/7</td>\n",
       "      <td>Dhaka</td>\n",
       "      <td>144/2</td>\n",
       "      <td>Imran Nazir</td>\n",
       "      <td>Dhaka</td>\n",
       "      <td>...</td>\n",
       "      <td>Mirpur</td>\n",
       "      <td>8</td>\n",
       "      <td>0</td>\n",
       "      <td>8 wickets</td>\n",
       "      <td>David Orchard</td>\n",
       "      <td>Enamul Haque</td>\n",
       "      <td>140</td>\n",
       "      <td>7</td>\n",
       "      <td>144</td>\n",
       "      <td>2</td>\n",
       "    </tr>\n",
       "    <tr>\n",
       "      <th>1</th>\n",
       "      <td>30</td>\n",
       "      <td>2011/12</td>\n",
       "      <td>3rd</td>\n",
       "      <td>Feb 11 2012</td>\n",
       "      <td>Khulna</td>\n",
       "      <td>175/5</td>\n",
       "      <td>Dhaka</td>\n",
       "      <td>156/7</td>\n",
       "      <td>Andre Russell</td>\n",
       "      <td>Khulna</td>\n",
       "      <td>...</td>\n",
       "      <td>Mirpur</td>\n",
       "      <td>0</td>\n",
       "      <td>19</td>\n",
       "      <td>19 runs</td>\n",
       "      <td>Jeremy Lloyds</td>\n",
       "      <td>Sharfuddoula</td>\n",
       "      <td>175</td>\n",
       "      <td>5</td>\n",
       "      <td>156</td>\n",
       "      <td>7</td>\n",
       "    </tr>\n",
       "    <tr>\n",
       "      <th>2</th>\n",
       "      <td>26</td>\n",
       "      <td>2011/12</td>\n",
       "      <td>7th</td>\n",
       "      <td>Feb 13 2012</td>\n",
       "      <td>Barishal</td>\n",
       "      <td>125</td>\n",
       "      <td>Khulna</td>\n",
       "      <td>131/3</td>\n",
       "      <td>Dwayne Smith</td>\n",
       "      <td>Khulna</td>\n",
       "      <td>...</td>\n",
       "      <td>Mirpur</td>\n",
       "      <td>7</td>\n",
       "      <td>0</td>\n",
       "      <td>7 wickets</td>\n",
       "      <td>Enamul Haque</td>\n",
       "      <td>Jeremy Lloyds</td>\n",
       "      <td>125</td>\n",
       "      <td>0</td>\n",
       "      <td>131</td>\n",
       "      <td>3</td>\n",
       "    </tr>\n",
       "    <tr>\n",
       "      <th>3</th>\n",
       "      <td>29</td>\n",
       "      <td>2011/12</td>\n",
       "      <td>4th</td>\n",
       "      <td>Feb 11 2012</td>\n",
       "      <td>Barishal</td>\n",
       "      <td>180/2</td>\n",
       "      <td>Rajshahi</td>\n",
       "      <td>158/9</td>\n",
       "      <td>Ahmed Shehzad</td>\n",
       "      <td>Barishal</td>\n",
       "      <td>...</td>\n",
       "      <td>Mirpur</td>\n",
       "      <td>0</td>\n",
       "      <td>22</td>\n",
       "      <td>22 runs</td>\n",
       "      <td>David Orchard</td>\n",
       "      <td>Gazi Sohel</td>\n",
       "      <td>180</td>\n",
       "      <td>2</td>\n",
       "      <td>158</td>\n",
       "      <td>9</td>\n",
       "    </tr>\n",
       "    <tr>\n",
       "      <th>4</th>\n",
       "      <td>28</td>\n",
       "      <td>2011/12</td>\n",
       "      <td>5th</td>\n",
       "      <td>Feb 12 2012</td>\n",
       "      <td>Khulna</td>\n",
       "      <td>171/3</td>\n",
       "      <td>Chittagong</td>\n",
       "      <td>174/4</td>\n",
       "      <td>Nasir Jamshed</td>\n",
       "      <td>Khulna</td>\n",
       "      <td>...</td>\n",
       "      <td>Mirpur</td>\n",
       "      <td>6</td>\n",
       "      <td>0</td>\n",
       "      <td>6 wickets</td>\n",
       "      <td>David Orchard</td>\n",
       "      <td>Enamul Haque</td>\n",
       "      <td>171</td>\n",
       "      <td>3</td>\n",
       "      <td>174</td>\n",
       "      <td>4</td>\n",
       "    </tr>\n",
       "  </tbody>\n",
       "</table>\n",
       "<p>5 rows × 23 columns</p>\n",
       "</div>"
      ],
      "text/plain": [
       "   id   season match_no         date    team_1 team_1_score      team_2  \\\n",
       "0   0  2011/12    Final  Feb 29 2012  Barishal        140/7       Dhaka   \n",
       "1  30  2011/12      3rd  Feb 11 2012    Khulna        175/5       Dhaka   \n",
       "2  26  2011/12      7th  Feb 13 2012  Barishal          125      Khulna   \n",
       "3  29  2011/12      4th  Feb 11 2012  Barishal        180/2    Rajshahi   \n",
       "4  28  2011/12      5th  Feb 12 2012    Khulna        171/3  Chittagong   \n",
       "\n",
       "  team_2_score player_of_match toss_winner  ...    city win_by_wickets  \\\n",
       "0        144/2     Imran Nazir       Dhaka  ...  Mirpur              8   \n",
       "1        156/7   Andre Russell      Khulna  ...  Mirpur              0   \n",
       "2        131/3    Dwayne Smith      Khulna  ...  Mirpur              7   \n",
       "3        158/9   Ahmed Shehzad    Barishal  ...  Mirpur              0   \n",
       "4        174/4   Nasir Jamshed      Khulna  ...  Mirpur              6   \n",
       "\n",
       "  win_by_runs     result       umpire_1       umpire_2 team_1_run  \\\n",
       "0           0  8 wickets  David Orchard   Enamul Haque        140   \n",
       "1          19    19 runs  Jeremy Lloyds   Sharfuddoula        175   \n",
       "2           0  7 wickets   Enamul Haque  Jeremy Lloyds        125   \n",
       "3          22    22 runs  David Orchard     Gazi Sohel        180   \n",
       "4           0  6 wickets  David Orchard   Enamul Haque        171   \n",
       "\n",
       "  team_1_wicket team_2_run  team_2_wicket  \n",
       "0             7        144              2  \n",
       "1             5        156              7  \n",
       "2             0        131              3  \n",
       "3             2        158              9  \n",
       "4             3        174              4  \n",
       "\n",
       "[5 rows x 23 columns]"
      ]
     },
     "execution_count": 28,
     "metadata": {},
     "output_type": "execute_result"
    }
   ],
   "source": [
    "bpl[['team_1_run','team_1_wicket']] = bpl.team_1_score.str.split('/',expand=True)\n",
    "bpl[\"team_1_wicket\"].fillna(0, inplace = True)\n",
    "bpl['team_1_wicket'] = pd.to_numeric(bpl['team_1_wicket'])\n",
    "bpl['team_1_run'] = pd.to_numeric(bpl['team_1_run'])\n",
    "\n",
    "\n",
    "bpl[['team_2_run','team_2_wicket']] = bpl.team_2_score.str.split('/',expand=True)\n",
    "bpl[\"team_2_wicket\"].fillna(0, inplace = True)\n",
    "bpl['team_2_wicket'] = pd.to_numeric(bpl['team_2_wicket'])\n",
    "bpl['team_2_run'] = pd.to_numeric(bpl['team_2_run'])\n",
    "\n",
    "bpl.head()"
   ]
  },
  {
   "cell_type": "code",
   "execution_count": 29,
   "id": "6ae51cda",
   "metadata": {
    "execution": {
     "iopub.execute_input": "2022-02-10T01:20:04.581279Z",
     "iopub.status.busy": "2022-02-10T01:20:04.580542Z",
     "iopub.status.idle": "2022-02-10T01:20:04.583132Z",
     "shell.execute_reply": "2022-02-10T01:20:04.582705Z",
     "shell.execute_reply.started": "2022-02-10T01:08:29.255186Z"
    },
    "papermill": {
     "duration": 0.081627,
     "end_time": "2022-02-10T01:20:04.583240",
     "exception": false,
     "start_time": "2022-02-10T01:20:04.501613",
     "status": "completed"
    },
    "tags": []
   },
   "outputs": [],
   "source": [
    "bpl.drop('team_1_score', axis=1, inplace=True)\n",
    "bpl.drop('team_2_score', axis=1, inplace=True)"
   ]
  },
  {
   "cell_type": "code",
   "execution_count": 30,
   "id": "6a6ece7c",
   "metadata": {
    "execution": {
     "iopub.execute_input": "2022-02-10T01:20:04.750098Z",
     "iopub.status.busy": "2022-02-10T01:20:04.749453Z",
     "iopub.status.idle": "2022-02-10T01:20:04.752458Z",
     "shell.execute_reply": "2022-02-10T01:20:04.752872Z",
     "shell.execute_reply.started": "2022-02-10T01:08:29.263599Z"
    },
    "papermill": {
     "duration": 0.096546,
     "end_time": "2022-02-10T01:20:04.753008",
     "exception": false,
     "start_time": "2022-02-10T01:20:04.656462",
     "status": "completed"
    },
    "tags": []
   },
   "outputs": [
    {
     "data": {
      "text/html": [
       "<div>\n",
       "<style scoped>\n",
       "    .dataframe tbody tr th:only-of-type {\n",
       "        vertical-align: middle;\n",
       "    }\n",
       "\n",
       "    .dataframe tbody tr th {\n",
       "        vertical-align: top;\n",
       "    }\n",
       "\n",
       "    .dataframe thead th {\n",
       "        text-align: right;\n",
       "    }\n",
       "</style>\n",
       "<table border=\"1\" class=\"dataframe\">\n",
       "  <thead>\n",
       "    <tr style=\"text-align: right;\">\n",
       "      <th></th>\n",
       "      <th>id</th>\n",
       "      <th>season</th>\n",
       "      <th>match_no</th>\n",
       "      <th>date</th>\n",
       "      <th>team_1</th>\n",
       "      <th>team_2</th>\n",
       "      <th>player_of_match</th>\n",
       "      <th>toss_winner</th>\n",
       "      <th>toss_decision</th>\n",
       "      <th>winner</th>\n",
       "      <th>...</th>\n",
       "      <th>city</th>\n",
       "      <th>win_by_wickets</th>\n",
       "      <th>win_by_runs</th>\n",
       "      <th>result</th>\n",
       "      <th>umpire_1</th>\n",
       "      <th>umpire_2</th>\n",
       "      <th>team_1_run</th>\n",
       "      <th>team_1_wicket</th>\n",
       "      <th>team_2_run</th>\n",
       "      <th>team_2_wicket</th>\n",
       "    </tr>\n",
       "  </thead>\n",
       "  <tbody>\n",
       "    <tr>\n",
       "      <th>0</th>\n",
       "      <td>0</td>\n",
       "      <td>2011/12</td>\n",
       "      <td>Final</td>\n",
       "      <td>Feb 29 2012</td>\n",
       "      <td>Barishal</td>\n",
       "      <td>Dhaka</td>\n",
       "      <td>Imran Nazir</td>\n",
       "      <td>Dhaka</td>\n",
       "      <td>field first</td>\n",
       "      <td>Dhaka</td>\n",
       "      <td>...</td>\n",
       "      <td>Mirpur</td>\n",
       "      <td>8</td>\n",
       "      <td>0</td>\n",
       "      <td>8 wickets</td>\n",
       "      <td>David Orchard</td>\n",
       "      <td>Enamul Haque</td>\n",
       "      <td>140</td>\n",
       "      <td>7</td>\n",
       "      <td>144</td>\n",
       "      <td>2</td>\n",
       "    </tr>\n",
       "    <tr>\n",
       "      <th>1</th>\n",
       "      <td>30</td>\n",
       "      <td>2011/12</td>\n",
       "      <td>3rd</td>\n",
       "      <td>Feb 11 2012</td>\n",
       "      <td>Khulna</td>\n",
       "      <td>Dhaka</td>\n",
       "      <td>Andre Russell</td>\n",
       "      <td>Khulna</td>\n",
       "      <td>bat first</td>\n",
       "      <td>Khulna</td>\n",
       "      <td>...</td>\n",
       "      <td>Mirpur</td>\n",
       "      <td>0</td>\n",
       "      <td>19</td>\n",
       "      <td>19 runs</td>\n",
       "      <td>Jeremy Lloyds</td>\n",
       "      <td>Sharfuddoula</td>\n",
       "      <td>175</td>\n",
       "      <td>5</td>\n",
       "      <td>156</td>\n",
       "      <td>7</td>\n",
       "    </tr>\n",
       "    <tr>\n",
       "      <th>2</th>\n",
       "      <td>26</td>\n",
       "      <td>2011/12</td>\n",
       "      <td>7th</td>\n",
       "      <td>Feb 13 2012</td>\n",
       "      <td>Barishal</td>\n",
       "      <td>Khulna</td>\n",
       "      <td>Dwayne Smith</td>\n",
       "      <td>Khulna</td>\n",
       "      <td>field first</td>\n",
       "      <td>Khulna</td>\n",
       "      <td>...</td>\n",
       "      <td>Mirpur</td>\n",
       "      <td>7</td>\n",
       "      <td>0</td>\n",
       "      <td>7 wickets</td>\n",
       "      <td>Enamul Haque</td>\n",
       "      <td>Jeremy Lloyds</td>\n",
       "      <td>125</td>\n",
       "      <td>0</td>\n",
       "      <td>131</td>\n",
       "      <td>3</td>\n",
       "    </tr>\n",
       "    <tr>\n",
       "      <th>3</th>\n",
       "      <td>29</td>\n",
       "      <td>2011/12</td>\n",
       "      <td>4th</td>\n",
       "      <td>Feb 11 2012</td>\n",
       "      <td>Barishal</td>\n",
       "      <td>Rajshahi</td>\n",
       "      <td>Ahmed Shehzad</td>\n",
       "      <td>Barishal</td>\n",
       "      <td>bat first</td>\n",
       "      <td>Barishal</td>\n",
       "      <td>...</td>\n",
       "      <td>Mirpur</td>\n",
       "      <td>0</td>\n",
       "      <td>22</td>\n",
       "      <td>22 runs</td>\n",
       "      <td>David Orchard</td>\n",
       "      <td>Gazi Sohel</td>\n",
       "      <td>180</td>\n",
       "      <td>2</td>\n",
       "      <td>158</td>\n",
       "      <td>9</td>\n",
       "    </tr>\n",
       "    <tr>\n",
       "      <th>4</th>\n",
       "      <td>28</td>\n",
       "      <td>2011/12</td>\n",
       "      <td>5th</td>\n",
       "      <td>Feb 12 2012</td>\n",
       "      <td>Khulna</td>\n",
       "      <td>Chittagong</td>\n",
       "      <td>Nasir Jamshed</td>\n",
       "      <td>Khulna</td>\n",
       "      <td>bat first</td>\n",
       "      <td>Chittagong</td>\n",
       "      <td>...</td>\n",
       "      <td>Mirpur</td>\n",
       "      <td>6</td>\n",
       "      <td>0</td>\n",
       "      <td>6 wickets</td>\n",
       "      <td>David Orchard</td>\n",
       "      <td>Enamul Haque</td>\n",
       "      <td>171</td>\n",
       "      <td>3</td>\n",
       "      <td>174</td>\n",
       "      <td>4</td>\n",
       "    </tr>\n",
       "  </tbody>\n",
       "</table>\n",
       "<p>5 rows × 21 columns</p>\n",
       "</div>"
      ],
      "text/plain": [
       "   id   season match_no         date    team_1      team_2 player_of_match  \\\n",
       "0   0  2011/12    Final  Feb 29 2012  Barishal       Dhaka     Imran Nazir   \n",
       "1  30  2011/12      3rd  Feb 11 2012    Khulna       Dhaka   Andre Russell   \n",
       "2  26  2011/12      7th  Feb 13 2012  Barishal      Khulna    Dwayne Smith   \n",
       "3  29  2011/12      4th  Feb 11 2012  Barishal    Rajshahi   Ahmed Shehzad   \n",
       "4  28  2011/12      5th  Feb 12 2012    Khulna  Chittagong   Nasir Jamshed   \n",
       "\n",
       "  toss_winner toss_decision      winner  ...    city win_by_wickets  \\\n",
       "0       Dhaka   field first       Dhaka  ...  Mirpur              8   \n",
       "1      Khulna     bat first      Khulna  ...  Mirpur              0   \n",
       "2      Khulna   field first      Khulna  ...  Mirpur              7   \n",
       "3    Barishal     bat first    Barishal  ...  Mirpur              0   \n",
       "4      Khulna     bat first  Chittagong  ...  Mirpur              6   \n",
       "\n",
       "   win_by_runs     result       umpire_1       umpire_2 team_1_run  \\\n",
       "0            0  8 wickets  David Orchard   Enamul Haque        140   \n",
       "1           19    19 runs  Jeremy Lloyds   Sharfuddoula        175   \n",
       "2            0  7 wickets   Enamul Haque  Jeremy Lloyds        125   \n",
       "3           22    22 runs  David Orchard     Gazi Sohel        180   \n",
       "4            0  6 wickets  David Orchard   Enamul Haque        171   \n",
       "\n",
       "   team_1_wicket  team_2_run  team_2_wicket  \n",
       "0              7         144              2  \n",
       "1              5         156              7  \n",
       "2              0         131              3  \n",
       "3              2         158              9  \n",
       "4              3         174              4  \n",
       "\n",
       "[5 rows x 21 columns]"
      ]
     },
     "execution_count": 30,
     "metadata": {},
     "output_type": "execute_result"
    }
   ],
   "source": [
    "bpl.head()"
   ]
  },
  {
   "cell_type": "code",
   "execution_count": 31,
   "id": "b08a9488",
   "metadata": {
    "execution": {
     "iopub.execute_input": "2022-02-10T01:20:04.912116Z",
     "iopub.status.busy": "2022-02-10T01:20:04.911346Z",
     "iopub.status.idle": "2022-02-10T01:20:04.914154Z",
     "shell.execute_reply": "2022-02-10T01:20:04.914726Z",
     "shell.execute_reply.started": "2022-02-10T01:08:29.288523Z"
    },
    "papermill": {
     "duration": 0.088176,
     "end_time": "2022-02-10T01:20:04.914910",
     "exception": false,
     "start_time": "2022-02-10T01:20:04.826734",
     "status": "completed"
    },
    "tags": []
   },
   "outputs": [
    {
     "name": "stdout",
     "output_type": "stream",
     "text": [
      "<class 'pandas.core.frame.DataFrame'>\n",
      "RangeIndex: 311 entries, 0 to 310\n",
      "Data columns (total 21 columns):\n",
      " #   Column           Non-Null Count  Dtype \n",
      "---  ------           --------------  ----- \n",
      " 0   id               311 non-null    int64 \n",
      " 1   season           311 non-null    object\n",
      " 2   match_no         311 non-null    object\n",
      " 3   date             311 non-null    object\n",
      " 4   team_1           311 non-null    object\n",
      " 5   team_2           311 non-null    object\n",
      " 6   player_of_match  311 non-null    object\n",
      " 7   toss_winner      311 non-null    object\n",
      " 8   toss_decision    311 non-null    object\n",
      " 9   winner           311 non-null    object\n",
      " 10  venue            311 non-null    object\n",
      " 11  city             311 non-null    object\n",
      " 12  win_by_wickets   311 non-null    int64 \n",
      " 13  win_by_runs      311 non-null    int64 \n",
      " 14  result           311 non-null    object\n",
      " 15  umpire_1         311 non-null    object\n",
      " 16  umpire_2         311 non-null    object\n",
      " 17  team_1_run       311 non-null    int64 \n",
      " 18  team_1_wicket    311 non-null    int64 \n",
      " 19  team_2_run       311 non-null    int64 \n",
      " 20  team_2_wicket    311 non-null    int64 \n",
      "dtypes: int64(7), object(14)\n",
      "memory usage: 51.1+ KB\n"
     ]
    }
   ],
   "source": [
    "bpl.info()"
   ]
  },
  {
   "cell_type": "code",
   "execution_count": 32,
   "id": "62224919",
   "metadata": {
    "execution": {
     "iopub.execute_input": "2022-02-10T01:20:05.071307Z",
     "iopub.status.busy": "2022-02-10T01:20:05.070508Z",
     "iopub.status.idle": "2022-02-10T01:20:05.092629Z",
     "shell.execute_reply": "2022-02-10T01:20:05.092130Z",
     "shell.execute_reply.started": "2022-02-10T01:08:29.304909Z"
    },
    "papermill": {
     "duration": 0.102706,
     "end_time": "2022-02-10T01:20:05.092751",
     "exception": false,
     "start_time": "2022-02-10T01:20:04.990045",
     "status": "completed"
    },
    "tags": []
   },
   "outputs": [
    {
     "data": {
      "text/html": [
       "<div>\n",
       "<style scoped>\n",
       "    .dataframe tbody tr th:only-of-type {\n",
       "        vertical-align: middle;\n",
       "    }\n",
       "\n",
       "    .dataframe tbody tr th {\n",
       "        vertical-align: top;\n",
       "    }\n",
       "\n",
       "    .dataframe thead th {\n",
       "        text-align: right;\n",
       "    }\n",
       "</style>\n",
       "<table border=\"1\" class=\"dataframe\">\n",
       "  <thead>\n",
       "    <tr style=\"text-align: right;\">\n",
       "      <th></th>\n",
       "      <th>id</th>\n",
       "      <th>win_by_wickets</th>\n",
       "      <th>win_by_runs</th>\n",
       "      <th>team_1_run</th>\n",
       "      <th>team_1_wicket</th>\n",
       "      <th>team_2_run</th>\n",
       "      <th>team_2_wicket</th>\n",
       "    </tr>\n",
       "  </thead>\n",
       "  <tbody>\n",
       "    <tr>\n",
       "      <th>count</th>\n",
       "      <td>311.000000</td>\n",
       "      <td>311.000000</td>\n",
       "      <td>311.000000</td>\n",
       "      <td>311.000000</td>\n",
       "      <td>311.000000</td>\n",
       "      <td>311.000000</td>\n",
       "      <td>311.000000</td>\n",
       "    </tr>\n",
       "    <tr>\n",
       "      <th>mean</th>\n",
       "      <td>284.755627</td>\n",
       "      <td>3.186495</td>\n",
       "      <td>15.627010</td>\n",
       "      <td>154.733119</td>\n",
       "      <td>5.450161</td>\n",
       "      <td>140.254019</td>\n",
       "      <td>4.019293</td>\n",
       "    </tr>\n",
       "    <tr>\n",
       "      <th>std</th>\n",
       "      <td>228.051532</td>\n",
       "      <td>3.449723</td>\n",
       "      <td>24.626548</td>\n",
       "      <td>32.516837</td>\n",
       "      <td>2.613228</td>\n",
       "      <td>30.119811</td>\n",
       "      <td>3.054285</td>\n",
       "    </tr>\n",
       "    <tr>\n",
       "      <th>min</th>\n",
       "      <td>0.000000</td>\n",
       "      <td>0.000000</td>\n",
       "      <td>0.000000</td>\n",
       "      <td>44.000000</td>\n",
       "      <td>0.000000</td>\n",
       "      <td>45.000000</td>\n",
       "      <td>0.000000</td>\n",
       "    </tr>\n",
       "    <tr>\n",
       "      <th>25%</th>\n",
       "      <td>57.500000</td>\n",
       "      <td>0.000000</td>\n",
       "      <td>0.000000</td>\n",
       "      <td>135.000000</td>\n",
       "      <td>4.000000</td>\n",
       "      <td>125.500000</td>\n",
       "      <td>1.000000</td>\n",
       "    </tr>\n",
       "    <tr>\n",
       "      <th>50%</th>\n",
       "      <td>230.000000</td>\n",
       "      <td>2.000000</td>\n",
       "      <td>0.000000</td>\n",
       "      <td>156.000000</td>\n",
       "      <td>6.000000</td>\n",
       "      <td>142.000000</td>\n",
       "      <td>4.000000</td>\n",
       "    </tr>\n",
       "    <tr>\n",
       "      <th>75%</th>\n",
       "      <td>513.500000</td>\n",
       "      <td>6.000000</td>\n",
       "      <td>23.000000</td>\n",
       "      <td>176.000000</td>\n",
       "      <td>7.000000</td>\n",
       "      <td>160.000000</td>\n",
       "      <td>7.000000</td>\n",
       "    </tr>\n",
       "    <tr>\n",
       "      <th>max</th>\n",
       "      <td>719.000000</td>\n",
       "      <td>10.000000</td>\n",
       "      <td>119.000000</td>\n",
       "      <td>239.000000</td>\n",
       "      <td>9.000000</td>\n",
       "      <td>222.000000</td>\n",
       "      <td>9.000000</td>\n",
       "    </tr>\n",
       "  </tbody>\n",
       "</table>\n",
       "</div>"
      ],
      "text/plain": [
       "               id  win_by_wickets  win_by_runs  team_1_run  team_1_wicket  \\\n",
       "count  311.000000      311.000000   311.000000  311.000000     311.000000   \n",
       "mean   284.755627        3.186495    15.627010  154.733119       5.450161   \n",
       "std    228.051532        3.449723    24.626548   32.516837       2.613228   \n",
       "min      0.000000        0.000000     0.000000   44.000000       0.000000   \n",
       "25%     57.500000        0.000000     0.000000  135.000000       4.000000   \n",
       "50%    230.000000        2.000000     0.000000  156.000000       6.000000   \n",
       "75%    513.500000        6.000000    23.000000  176.000000       7.000000   \n",
       "max    719.000000       10.000000   119.000000  239.000000       9.000000   \n",
       "\n",
       "       team_2_run  team_2_wicket  \n",
       "count  311.000000     311.000000  \n",
       "mean   140.254019       4.019293  \n",
       "std     30.119811       3.054285  \n",
       "min     45.000000       0.000000  \n",
       "25%    125.500000       1.000000  \n",
       "50%    142.000000       4.000000  \n",
       "75%    160.000000       7.000000  \n",
       "max    222.000000       9.000000  "
      ]
     },
     "execution_count": 32,
     "metadata": {},
     "output_type": "execute_result"
    }
   ],
   "source": [
    "bpl.describe()"
   ]
  },
  {
   "cell_type": "code",
   "execution_count": 33,
   "id": "e26d77c1",
   "metadata": {
    "execution": {
     "iopub.execute_input": "2022-02-10T01:20:05.264498Z",
     "iopub.status.busy": "2022-02-10T01:20:05.263829Z",
     "iopub.status.idle": "2022-02-10T01:20:05.267035Z",
     "shell.execute_reply": "2022-02-10T01:20:05.267435Z",
     "shell.execute_reply.started": "2022-02-10T01:08:29.335502Z"
    },
    "papermill": {
     "duration": 0.097268,
     "end_time": "2022-02-10T01:20:05.267565",
     "exception": false,
     "start_time": "2022-02-10T01:20:05.170297",
     "status": "completed"
    },
    "tags": []
   },
   "outputs": [
    {
     "data": {
      "text/html": [
       "<div>\n",
       "<style scoped>\n",
       "    .dataframe tbody tr th:only-of-type {\n",
       "        vertical-align: middle;\n",
       "    }\n",
       "\n",
       "    .dataframe tbody tr th {\n",
       "        vertical-align: top;\n",
       "    }\n",
       "\n",
       "    .dataframe thead th {\n",
       "        text-align: right;\n",
       "    }\n",
       "</style>\n",
       "<table border=\"1\" class=\"dataframe\">\n",
       "  <thead>\n",
       "    <tr style=\"text-align: right;\">\n",
       "      <th></th>\n",
       "      <th>id</th>\n",
       "      <th>season</th>\n",
       "      <th>match_no</th>\n",
       "      <th>date</th>\n",
       "      <th>team_1</th>\n",
       "      <th>team_2</th>\n",
       "      <th>player_of_match</th>\n",
       "      <th>toss_winner</th>\n",
       "      <th>toss_decision</th>\n",
       "      <th>winner</th>\n",
       "      <th>...</th>\n",
       "      <th>city</th>\n",
       "      <th>win_by_wickets</th>\n",
       "      <th>win_by_runs</th>\n",
       "      <th>result</th>\n",
       "      <th>umpire_1</th>\n",
       "      <th>umpire_2</th>\n",
       "      <th>team_1_run</th>\n",
       "      <th>team_1_wicket</th>\n",
       "      <th>team_2_run</th>\n",
       "      <th>team_2_wicket</th>\n",
       "    </tr>\n",
       "  </thead>\n",
       "  <tbody>\n",
       "    <tr>\n",
       "      <th>70</th>\n",
       "      <td>541</td>\n",
       "      <td>2018/19</td>\n",
       "      <td>5th</td>\n",
       "      <td>Jan 8 2019</td>\n",
       "      <td>Dhaka</td>\n",
       "      <td>Khulna</td>\n",
       "      <td>Hazratullah Zazai</td>\n",
       "      <td>Khulna</td>\n",
       "      <td>field first</td>\n",
       "      <td>Dhaka</td>\n",
       "      <td>...</td>\n",
       "      <td>Mirpur</td>\n",
       "      <td>0</td>\n",
       "      <td>105</td>\n",
       "      <td>105 runs</td>\n",
       "      <td>Alex Wharf</td>\n",
       "      <td>Nadir Shah</td>\n",
       "      <td>192</td>\n",
       "      <td>6</td>\n",
       "      <td>87</td>\n",
       "      <td>0</td>\n",
       "    </tr>\n",
       "    <tr>\n",
       "      <th>140</th>\n",
       "      <td>644</td>\n",
       "      <td>2019/20</td>\n",
       "      <td>2nd</td>\n",
       "      <td>Dec 11 2019</td>\n",
       "      <td>Comilla</td>\n",
       "      <td>Rangpur</td>\n",
       "      <td>Dasun Shanaka</td>\n",
       "      <td>Comilla</td>\n",
       "      <td>bat first</td>\n",
       "      <td>Comilla</td>\n",
       "      <td>...</td>\n",
       "      <td>Mirpur</td>\n",
       "      <td>0</td>\n",
       "      <td>105</td>\n",
       "      <td>105 runs</td>\n",
       "      <td>Masudur Rahman</td>\n",
       "      <td>Tanvir Ahmed</td>\n",
       "      <td>173</td>\n",
       "      <td>7</td>\n",
       "      <td>68</td>\n",
       "      <td>0</td>\n",
       "    </tr>\n",
       "    <tr>\n",
       "      <th>276</th>\n",
       "      <td>115</td>\n",
       "      <td>2012/13</td>\n",
       "      <td>32nd</td>\n",
       "      <td>Feb 8 2013</td>\n",
       "      <td>Chittagong</td>\n",
       "      <td>Sylhet</td>\n",
       "      <td>Brendan Taylor</td>\n",
       "      <td>Sylhet</td>\n",
       "      <td>field first</td>\n",
       "      <td>Chittagong</td>\n",
       "      <td>...</td>\n",
       "      <td>Mirpur</td>\n",
       "      <td>0</td>\n",
       "      <td>119</td>\n",
       "      <td>119 runs</td>\n",
       "      <td>Gazi Sohel</td>\n",
       "      <td>Richard Illingworth</td>\n",
       "      <td>193</td>\n",
       "      <td>4</td>\n",
       "      <td>74</td>\n",
       "      <td>0</td>\n",
       "    </tr>\n",
       "  </tbody>\n",
       "</table>\n",
       "<p>3 rows × 21 columns</p>\n",
       "</div>"
      ],
      "text/plain": [
       "      id   season match_no         date      team_1   team_2  \\\n",
       "70   541  2018/19      5th   Jan 8 2019       Dhaka   Khulna   \n",
       "140  644  2019/20      2nd  Dec 11 2019     Comilla  Rangpur   \n",
       "276  115  2012/13     32nd   Feb 8 2013  Chittagong   Sylhet   \n",
       "\n",
       "       player_of_match toss_winner toss_decision      winner  ...    city  \\\n",
       "70   Hazratullah Zazai      Khulna   field first       Dhaka  ...  Mirpur   \n",
       "140      Dasun Shanaka     Comilla     bat first     Comilla  ...  Mirpur   \n",
       "276     Brendan Taylor      Sylhet   field first  Chittagong  ...  Mirpur   \n",
       "\n",
       "    win_by_wickets  win_by_runs    result        umpire_1  \\\n",
       "70               0          105  105 runs      Alex Wharf   \n",
       "140              0          105  105 runs  Masudur Rahman   \n",
       "276              0          119  119 runs      Gazi Sohel   \n",
       "\n",
       "                umpire_2 team_1_run  team_1_wicket  team_2_run  team_2_wicket  \n",
       "70            Nadir Shah        192              6          87              0  \n",
       "140         Tanvir Ahmed        173              7          68              0  \n",
       "276  Richard Illingworth        193              4          74              0  \n",
       "\n",
       "[3 rows x 21 columns]"
      ]
     },
     "execution_count": 33,
     "metadata": {},
     "output_type": "execute_result"
    }
   ],
   "source": [
    "bpl[bpl['win_by_runs'] > 100]"
   ]
  },
  {
   "cell_type": "code",
   "execution_count": 34,
   "id": "7cfb2ab2",
   "metadata": {
    "execution": {
     "iopub.execute_input": "2022-02-10T01:20:05.426420Z",
     "iopub.status.busy": "2022-02-10T01:20:05.421454Z",
     "iopub.status.idle": "2022-02-10T01:20:05.434443Z",
     "shell.execute_reply": "2022-02-10T01:20:05.435047Z",
     "shell.execute_reply.started": "2022-02-10T01:08:29.358530Z"
    },
    "papermill": {
     "duration": 0.092879,
     "end_time": "2022-02-10T01:20:05.435223",
     "exception": false,
     "start_time": "2022-02-10T01:20:05.342344",
     "status": "completed"
    },
    "tags": []
   },
   "outputs": [
    {
     "name": "stdout",
     "output_type": "stream",
     "text": [
      "<class 'pandas.core.frame.DataFrame'>\n",
      "RangeIndex: 5048 entries, 0 to 5047\n",
      "Data columns (total 12 columns):\n",
      " #   Column       Non-Null Count  Dtype \n",
      "---  ------       --------------  ----- \n",
      " 0   id           5048 non-null   int64 \n",
      " 1   season       5048 non-null   object\n",
      " 2   match_no     5048 non-null   object\n",
      " 3   date         5048 non-null   object\n",
      " 4   player_name  5048 non-null   object\n",
      " 5   comment      2254 non-null   object\n",
      " 6   R            5048 non-null   object\n",
      " 7   B            5048 non-null   object\n",
      " 8   M            5048 non-null   object\n",
      " 9   fours        5048 non-null   object\n",
      " 10  sixs         5048 non-null   object\n",
      " 11  SR           5048 non-null   object\n",
      "dtypes: int64(1), object(11)\n",
      "memory usage: 473.4+ KB\n"
     ]
    }
   ],
   "source": [
    "batsman.info()"
   ]
  },
  {
   "cell_type": "markdown",
   "id": "bdff0d04",
   "metadata": {
    "papermill": {
     "duration": 0.074885,
     "end_time": "2022-02-10T01:20:05.586919",
     "exception": false,
     "start_time": "2022-02-10T01:20:05.512034",
     "status": "completed"
    },
    "tags": []
   },
   "source": [
    "### Batsman data processing"
   ]
  },
  {
   "cell_type": "code",
   "execution_count": 35,
   "id": "d3e916fa",
   "metadata": {
    "execution": {
     "iopub.execute_input": "2022-02-10T01:20:05.752997Z",
     "iopub.status.busy": "2022-02-10T01:20:05.751488Z",
     "iopub.status.idle": "2022-02-10T01:20:05.771616Z",
     "shell.execute_reply": "2022-02-10T01:20:05.771181Z",
     "shell.execute_reply.started": "2022-02-10T01:08:29.378567Z"
    },
    "papermill": {
     "duration": 0.109839,
     "end_time": "2022-02-10T01:20:05.771742",
     "exception": false,
     "start_time": "2022-02-10T01:20:05.661903",
     "status": "completed"
    },
    "tags": []
   },
   "outputs": [],
   "source": [
    "batsman['R'] = pd.to_numeric(batsman['R'].replace('-', 0))\n",
    "batsman['B'] = pd.to_numeric(batsman['B'].replace('-', 0))\n",
    "batsman['M'] = pd.to_numeric(batsman['M'].replace('-', 0))\n",
    "batsman['fours'] = pd.to_numeric(batsman['fours'].replace('-', 0))\n",
    "batsman['sixs'] = pd.to_numeric(batsman['sixs'].replace('-', 0))\n",
    "batsman['SR'] = pd.to_numeric(batsman['SR'].replace('-', 0))"
   ]
  },
  {
   "cell_type": "code",
   "execution_count": 36,
   "id": "701dad44",
   "metadata": {
    "execution": {
     "iopub.execute_input": "2022-02-10T01:20:05.925488Z",
     "iopub.status.busy": "2022-02-10T01:20:05.924706Z",
     "iopub.status.idle": "2022-02-10T01:20:05.938358Z",
     "shell.execute_reply": "2022-02-10T01:20:05.938839Z",
     "shell.execute_reply.started": "2022-02-10T01:08:29.413156Z"
    },
    "papermill": {
     "duration": 0.09202,
     "end_time": "2022-02-10T01:20:05.938992",
     "exception": false,
     "start_time": "2022-02-10T01:20:05.846972",
     "status": "completed"
    },
    "tags": []
   },
   "outputs": [
    {
     "name": "stdout",
     "output_type": "stream",
     "text": [
      "<class 'pandas.core.frame.DataFrame'>\n",
      "RangeIndex: 5048 entries, 0 to 5047\n",
      "Data columns (total 12 columns):\n",
      " #   Column       Non-Null Count  Dtype  \n",
      "---  ------       --------------  -----  \n",
      " 0   id           5048 non-null   int64  \n",
      " 1   season       5048 non-null   object \n",
      " 2   match_no     5048 non-null   object \n",
      " 3   date         5048 non-null   object \n",
      " 4   player_name  5048 non-null   object \n",
      " 5   comment      2254 non-null   object \n",
      " 6   R            5048 non-null   int64  \n",
      " 7   B            5048 non-null   int64  \n",
      " 8   M            5048 non-null   int64  \n",
      " 9   fours        5048 non-null   int64  \n",
      " 10  sixs         5048 non-null   int64  \n",
      " 11  SR           5048 non-null   float64\n",
      "dtypes: float64(1), int64(6), object(5)\n",
      "memory usage: 473.4+ KB\n"
     ]
    }
   ],
   "source": [
    "batsman.info()"
   ]
  },
  {
   "cell_type": "code",
   "execution_count": 37,
   "id": "e73d4339",
   "metadata": {
    "execution": {
     "iopub.execute_input": "2022-02-10T01:20:06.105572Z",
     "iopub.status.busy": "2022-02-10T01:20:06.104699Z",
     "iopub.status.idle": "2022-02-10T01:20:06.147808Z",
     "shell.execute_reply": "2022-02-10T01:20:06.149120Z",
     "shell.execute_reply.started": "2022-02-10T01:08:29.431313Z"
    },
    "papermill": {
     "duration": 0.133581,
     "end_time": "2022-02-10T01:20:06.149417",
     "exception": false,
     "start_time": "2022-02-10T01:20:06.015836",
     "status": "completed"
    },
    "tags": []
   },
   "outputs": [
    {
     "data": {
      "text/html": [
       "<div>\n",
       "<style scoped>\n",
       "    .dataframe tbody tr th:only-of-type {\n",
       "        vertical-align: middle;\n",
       "    }\n",
       "\n",
       "    .dataframe tbody tr th {\n",
       "        vertical-align: top;\n",
       "    }\n",
       "\n",
       "    .dataframe thead th {\n",
       "        text-align: right;\n",
       "    }\n",
       "</style>\n",
       "<table border=\"1\" class=\"dataframe\">\n",
       "  <thead>\n",
       "    <tr style=\"text-align: right;\">\n",
       "      <th></th>\n",
       "      <th>id</th>\n",
       "      <th>R</th>\n",
       "      <th>B</th>\n",
       "      <th>M</th>\n",
       "      <th>fours</th>\n",
       "      <th>sixs</th>\n",
       "      <th>SR</th>\n",
       "    </tr>\n",
       "  </thead>\n",
       "  <tbody>\n",
       "    <tr>\n",
       "      <th>count</th>\n",
       "      <td>5048.000000</td>\n",
       "      <td>5048.000000</td>\n",
       "      <td>5048.000000</td>\n",
       "      <td>5048.000000</td>\n",
       "      <td>5048.000000</td>\n",
       "      <td>5048.000000</td>\n",
       "      <td>5048.000000</td>\n",
       "    </tr>\n",
       "    <tr>\n",
       "      <th>mean</th>\n",
       "      <td>283.641244</td>\n",
       "      <td>17.306062</td>\n",
       "      <td>14.234350</td>\n",
       "      <td>11.635301</td>\n",
       "      <td>1.491878</td>\n",
       "      <td>0.674128</td>\n",
       "      <td>102.256389</td>\n",
       "    </tr>\n",
       "    <tr>\n",
       "      <th>std</th>\n",
       "      <td>228.449500</td>\n",
       "      <td>19.332040</td>\n",
       "      <td>12.772194</td>\n",
       "      <td>18.523472</td>\n",
       "      <td>1.993534</td>\n",
       "      <td>1.259082</td>\n",
       "      <td>66.884194</td>\n",
       "    </tr>\n",
       "    <tr>\n",
       "      <th>min</th>\n",
       "      <td>0.000000</td>\n",
       "      <td>0.000000</td>\n",
       "      <td>0.000000</td>\n",
       "      <td>0.000000</td>\n",
       "      <td>0.000000</td>\n",
       "      <td>0.000000</td>\n",
       "      <td>0.000000</td>\n",
       "    </tr>\n",
       "    <tr>\n",
       "      <th>25%</th>\n",
       "      <td>56.000000</td>\n",
       "      <td>3.000000</td>\n",
       "      <td>4.000000</td>\n",
       "      <td>0.000000</td>\n",
       "      <td>0.000000</td>\n",
       "      <td>0.000000</td>\n",
       "      <td>56.452500</td>\n",
       "    </tr>\n",
       "    <tr>\n",
       "      <th>50%</th>\n",
       "      <td>229.000000</td>\n",
       "      <td>10.000000</td>\n",
       "      <td>10.000000</td>\n",
       "      <td>2.000000</td>\n",
       "      <td>1.000000</td>\n",
       "      <td>0.000000</td>\n",
       "      <td>100.000000</td>\n",
       "    </tr>\n",
       "    <tr>\n",
       "      <th>75%</th>\n",
       "      <td>514.000000</td>\n",
       "      <td>25.000000</td>\n",
       "      <td>21.000000</td>\n",
       "      <td>16.000000</td>\n",
       "      <td>2.000000</td>\n",
       "      <td>1.000000</td>\n",
       "      <td>140.000000</td>\n",
       "    </tr>\n",
       "    <tr>\n",
       "      <th>max</th>\n",
       "      <td>719.000000</td>\n",
       "      <td>146.000000</td>\n",
       "      <td>73.000000</td>\n",
       "      <td>103.000000</td>\n",
       "      <td>17.000000</td>\n",
       "      <td>18.000000</td>\n",
       "      <td>600.000000</td>\n",
       "    </tr>\n",
       "  </tbody>\n",
       "</table>\n",
       "</div>"
      ],
      "text/plain": [
       "                id            R            B            M        fours  \\\n",
       "count  5048.000000  5048.000000  5048.000000  5048.000000  5048.000000   \n",
       "mean    283.641244    17.306062    14.234350    11.635301     1.491878   \n",
       "std     228.449500    19.332040    12.772194    18.523472     1.993534   \n",
       "min       0.000000     0.000000     0.000000     0.000000     0.000000   \n",
       "25%      56.000000     3.000000     4.000000     0.000000     0.000000   \n",
       "50%     229.000000    10.000000    10.000000     2.000000     1.000000   \n",
       "75%     514.000000    25.000000    21.000000    16.000000     2.000000   \n",
       "max     719.000000   146.000000    73.000000   103.000000    17.000000   \n",
       "\n",
       "              sixs           SR  \n",
       "count  5048.000000  5048.000000  \n",
       "mean      0.674128   102.256389  \n",
       "std       1.259082    66.884194  \n",
       "min       0.000000     0.000000  \n",
       "25%       0.000000    56.452500  \n",
       "50%       0.000000   100.000000  \n",
       "75%       1.000000   140.000000  \n",
       "max      18.000000   600.000000  "
      ]
     },
     "execution_count": 37,
     "metadata": {},
     "output_type": "execute_result"
    }
   ],
   "source": [
    "batsman.describe()"
   ]
  },
  {
   "cell_type": "code",
   "execution_count": 38,
   "id": "dd454972",
   "metadata": {
    "execution": {
     "iopub.execute_input": "2022-02-10T01:20:06.418573Z",
     "iopub.status.busy": "2022-02-10T01:20:06.417796Z",
     "iopub.status.idle": "2022-02-10T01:20:06.426959Z",
     "shell.execute_reply": "2022-02-10T01:20:06.427984Z",
     "shell.execute_reply.started": "2022-02-10T01:08:29.458558Z"
    },
    "papermill": {
     "duration": 0.143956,
     "end_time": "2022-02-10T01:20:06.428184",
     "exception": false,
     "start_time": "2022-02-10T01:20:06.284228",
     "status": "completed"
    },
    "tags": []
   },
   "outputs": [
    {
     "data": {
      "text/html": [
       "<div>\n",
       "<style scoped>\n",
       "    .dataframe tbody tr th:only-of-type {\n",
       "        vertical-align: middle;\n",
       "    }\n",
       "\n",
       "    .dataframe tbody tr th {\n",
       "        vertical-align: top;\n",
       "    }\n",
       "\n",
       "    .dataframe thead th {\n",
       "        text-align: right;\n",
       "    }\n",
       "</style>\n",
       "<table border=\"1\" class=\"dataframe\">\n",
       "  <thead>\n",
       "    <tr style=\"text-align: right;\">\n",
       "      <th></th>\n",
       "      <th>id</th>\n",
       "      <th>season</th>\n",
       "      <th>match_no</th>\n",
       "      <th>date</th>\n",
       "      <th>player_name</th>\n",
       "      <th>comment</th>\n",
       "      <th>R</th>\n",
       "      <th>B</th>\n",
       "      <th>M</th>\n",
       "      <th>fours</th>\n",
       "      <th>sixs</th>\n",
       "      <th>SR</th>\n",
       "    </tr>\n",
       "  </thead>\n",
       "  <tbody>\n",
       "    <tr>\n",
       "      <th>4491</th>\n",
       "      <td>40</td>\n",
       "      <td>2017/18</td>\n",
       "      <td>Final</td>\n",
       "      <td>Dec 12 2017</td>\n",
       "      <td>Chris Gayle</td>\n",
       "      <td>not out</td>\n",
       "      <td>146</td>\n",
       "      <td>69</td>\n",
       "      <td>0</td>\n",
       "      <td>5</td>\n",
       "      <td>18</td>\n",
       "      <td>211.59</td>\n",
       "    </tr>\n",
       "  </tbody>\n",
       "</table>\n",
       "</div>"
      ],
      "text/plain": [
       "      id   season match_no         date  player_name   comment    R   B  M  \\\n",
       "4491  40  2017/18    Final  Dec 12 2017  Chris Gayle  not out   146  69  0   \n",
       "\n",
       "      fours  sixs      SR  \n",
       "4491      5    18  211.59  "
      ]
     },
     "execution_count": 38,
     "metadata": {},
     "output_type": "execute_result"
    }
   ],
   "source": [
    "batsman[batsman['R'] >= 146]"
   ]
  },
  {
   "cell_type": "code",
   "execution_count": 39,
   "id": "ee1a6ac4",
   "metadata": {
    "execution": {
     "iopub.execute_input": "2022-02-10T01:20:06.682540Z",
     "iopub.status.busy": "2022-02-10T01:20:06.681779Z",
     "iopub.status.idle": "2022-02-10T01:20:06.718337Z",
     "shell.execute_reply": "2022-02-10T01:20:06.719323Z",
     "shell.execute_reply.started": "2022-02-10T01:08:29.474642Z"
    },
    "papermill": {
     "duration": 0.16942,
     "end_time": "2022-02-10T01:20:06.719523",
     "exception": false,
     "start_time": "2022-02-10T01:20:06.550103",
     "status": "completed"
    },
    "tags": []
   },
   "outputs": [
    {
     "data": {
      "text/html": [
       "<div>\n",
       "<style scoped>\n",
       "    .dataframe tbody tr th:only-of-type {\n",
       "        vertical-align: middle;\n",
       "    }\n",
       "\n",
       "    .dataframe tbody tr th {\n",
       "        vertical-align: top;\n",
       "    }\n",
       "\n",
       "    .dataframe thead th {\n",
       "        text-align: right;\n",
       "    }\n",
       "</style>\n",
       "<table border=\"1\" class=\"dataframe\">\n",
       "  <thead>\n",
       "    <tr style=\"text-align: right;\">\n",
       "      <th></th>\n",
       "      <th>id</th>\n",
       "      <th>season</th>\n",
       "      <th>match_no</th>\n",
       "      <th>date</th>\n",
       "      <th>player_name</th>\n",
       "      <th>comment</th>\n",
       "      <th>R</th>\n",
       "      <th>B</th>\n",
       "      <th>M</th>\n",
       "      <th>fours</th>\n",
       "      <th>sixs</th>\n",
       "      <th>SR</th>\n",
       "    </tr>\n",
       "  </thead>\n",
       "  <tbody>\n",
       "    <tr>\n",
       "      <th>63</th>\n",
       "      <td>32</td>\n",
       "      <td>2011/12</td>\n",
       "      <td>1st</td>\n",
       "      <td>Feb 10 2012</td>\n",
       "      <td>Scott Styris</td>\n",
       "      <td>not out</td>\n",
       "      <td>7</td>\n",
       "      <td>2</td>\n",
       "      <td>3</td>\n",
       "      <td>0</td>\n",
       "      <td>1</td>\n",
       "      <td>350.00</td>\n",
       "    </tr>\n",
       "    <tr>\n",
       "      <th>64</th>\n",
       "      <td>28</td>\n",
       "      <td>2011/12</td>\n",
       "      <td>5th</td>\n",
       "      <td>Feb 12 2012</td>\n",
       "      <td>Shakib Al Hasan</td>\n",
       "      <td>not out</td>\n",
       "      <td>4</td>\n",
       "      <td>1</td>\n",
       "      <td>1</td>\n",
       "      <td>1</td>\n",
       "      <td>0</td>\n",
       "      <td>400.00</td>\n",
       "    </tr>\n",
       "    <tr>\n",
       "      <th>212</th>\n",
       "      <td>24</td>\n",
       "      <td>2011/12</td>\n",
       "      <td>9th</td>\n",
       "      <td>Feb 14 2012</td>\n",
       "      <td>Syed Rasel</td>\n",
       "      <td>not out</td>\n",
       "      <td>6</td>\n",
       "      <td>2</td>\n",
       "      <td>3</td>\n",
       "      <td>1</td>\n",
       "      <td>0</td>\n",
       "      <td>300.00</td>\n",
       "    </tr>\n",
       "    <tr>\n",
       "      <th>509</th>\n",
       "      <td>624</td>\n",
       "      <td>2019/20</td>\n",
       "      <td>22nd</td>\n",
       "      <td>Dec 27 2019</td>\n",
       "      <td>Robbie Frylinck</td>\n",
       "      <td>run out (Mohammad Nabi/†Jahurul Islam)</td>\n",
       "      <td>9</td>\n",
       "      <td>3</td>\n",
       "      <td>0</td>\n",
       "      <td>0</td>\n",
       "      <td>1</td>\n",
       "      <td>300.00</td>\n",
       "    </tr>\n",
       "    <tr>\n",
       "      <th>552</th>\n",
       "      <td>615</td>\n",
       "      <td>2019/20</td>\n",
       "      <td>31st</td>\n",
       "      <td>Jan 3 2020</td>\n",
       "      <td>Asif Ali</td>\n",
       "      <td>not out</td>\n",
       "      <td>39</td>\n",
       "      <td>13</td>\n",
       "      <td>0</td>\n",
       "      <td>2</td>\n",
       "      <td>4</td>\n",
       "      <td>300.00</td>\n",
       "    </tr>\n",
       "    <tr>\n",
       "      <th>612</th>\n",
       "      <td>634</td>\n",
       "      <td>2019/20</td>\n",
       "      <td>12th</td>\n",
       "      <td>Dec 18 2019</td>\n",
       "      <td>Mashrafe Mortaza</td>\n",
       "      <td>c Imrul Kayes b Nasir Hossain</td>\n",
       "      <td>23</td>\n",
       "      <td>6</td>\n",
       "      <td>0</td>\n",
       "      <td>1</td>\n",
       "      <td>3</td>\n",
       "      <td>383.33</td>\n",
       "    </tr>\n",
       "    <tr>\n",
       "      <th>724</th>\n",
       "      <td>619</td>\n",
       "      <td>2019/20</td>\n",
       "      <td>27th</td>\n",
       "      <td>Dec 31 2019</td>\n",
       "      <td>Mujeeb Ur Rahman</td>\n",
       "      <td>not out</td>\n",
       "      <td>4</td>\n",
       "      <td>1</td>\n",
       "      <td>0</td>\n",
       "      <td>1</td>\n",
       "      <td>0</td>\n",
       "      <td>400.00</td>\n",
       "    </tr>\n",
       "    <tr>\n",
       "      <th>849</th>\n",
       "      <td>65</td>\n",
       "      <td>2019/20</td>\n",
       "      <td>41st</td>\n",
       "      <td>Jan 11 2020</td>\n",
       "      <td>Ziaur Rahman</td>\n",
       "      <td>not out</td>\n",
       "      <td>7</td>\n",
       "      <td>2</td>\n",
       "      <td>0</td>\n",
       "      <td>0</td>\n",
       "      <td>1</td>\n",
       "      <td>350.00</td>\n",
       "    </tr>\n",
       "    <tr>\n",
       "      <th>873</th>\n",
       "      <td>718</td>\n",
       "      <td>2021/22</td>\n",
       "      <td>2nd</td>\n",
       "      <td>Jan 21 2022</td>\n",
       "      <td>Isuru Udana</td>\n",
       "      <td>not out</td>\n",
       "      <td>6</td>\n",
       "      <td>2</td>\n",
       "      <td>2</td>\n",
       "      <td>1</td>\n",
       "      <td>0</td>\n",
       "      <td>300.00</td>\n",
       "    </tr>\n",
       "    <tr>\n",
       "      <th>874</th>\n",
       "      <td>68</td>\n",
       "      <td>2019/20</td>\n",
       "      <td>38th</td>\n",
       "      <td>Jan 8 2020</td>\n",
       "      <td>Mashrafe Mortaza</td>\n",
       "      <td>c Mohammad Nabi b Mustafizur Rahman</td>\n",
       "      <td>6</td>\n",
       "      <td>2</td>\n",
       "      <td>0</td>\n",
       "      <td>0</td>\n",
       "      <td>1</td>\n",
       "      <td>300.00</td>\n",
       "    </tr>\n",
       "    <tr>\n",
       "      <th>1074</th>\n",
       "      <td>714</td>\n",
       "      <td>2021/22</td>\n",
       "      <td>6th</td>\n",
       "      <td>Jan 24 2022</td>\n",
       "      <td>Naeem Islam</td>\n",
       "      <td>NaN</td>\n",
       "      <td>15</td>\n",
       "      <td>5</td>\n",
       "      <td>7</td>\n",
       "      <td>0</td>\n",
       "      <td>2</td>\n",
       "      <td>300.00</td>\n",
       "    </tr>\n",
       "    <tr>\n",
       "      <th>1109</th>\n",
       "      <td>78</td>\n",
       "      <td>2021/22</td>\n",
       "      <td>12th</td>\n",
       "      <td>Jan 29 2022</td>\n",
       "      <td>Mehidy Hasan Miraz</td>\n",
       "      <td>not out</td>\n",
       "      <td>13</td>\n",
       "      <td>4</td>\n",
       "      <td>9</td>\n",
       "      <td>0</td>\n",
       "      <td>2</td>\n",
       "      <td>325.00</td>\n",
       "    </tr>\n",
       "    <tr>\n",
       "      <th>1114</th>\n",
       "      <td>73</td>\n",
       "      <td>2021/22</td>\n",
       "      <td>17th</td>\n",
       "      <td>Feb 3 2022</td>\n",
       "      <td>Nadif Chowdhury</td>\n",
       "      <td>not out</td>\n",
       "      <td>6</td>\n",
       "      <td>1</td>\n",
       "      <td>1</td>\n",
       "      <td>0</td>\n",
       "      <td>1</td>\n",
       "      <td>600.00</td>\n",
       "    </tr>\n",
       "    <tr>\n",
       "      <th>1240</th>\n",
       "      <td>76</td>\n",
       "      <td>2021/22</td>\n",
       "      <td>14th</td>\n",
       "      <td>Jan 31 2022</td>\n",
       "      <td>Mahedi Hasan</td>\n",
       "      <td>not out</td>\n",
       "      <td>6</td>\n",
       "      <td>1</td>\n",
       "      <td>4</td>\n",
       "      <td>0</td>\n",
       "      <td>1</td>\n",
       "      <td>600.00</td>\n",
       "    </tr>\n",
       "    <tr>\n",
       "      <th>1244</th>\n",
       "      <td>74</td>\n",
       "      <td>2021/22</td>\n",
       "      <td>16th</td>\n",
       "      <td>Feb 1 2022</td>\n",
       "      <td>Shoriful Islam</td>\n",
       "      <td>NaN</td>\n",
       "      <td>10</td>\n",
       "      <td>3</td>\n",
       "      <td>5</td>\n",
       "      <td>1</td>\n",
       "      <td>1</td>\n",
       "      <td>333.33</td>\n",
       "    </tr>\n",
       "    <tr>\n",
       "      <th>1337</th>\n",
       "      <td>230</td>\n",
       "      <td>2015/16</td>\n",
       "      <td>4th</td>\n",
       "      <td>Nov 23 2015</td>\n",
       "      <td>Seekkuge Prasanna</td>\n",
       "      <td>NaN</td>\n",
       "      <td>12</td>\n",
       "      <td>4</td>\n",
       "      <td>15</td>\n",
       "      <td>1</td>\n",
       "      <td>1</td>\n",
       "      <td>300.00</td>\n",
       "    </tr>\n",
       "    <tr>\n",
       "      <th>1340</th>\n",
       "      <td>233</td>\n",
       "      <td>2015/16</td>\n",
       "      <td>1st</td>\n",
       "      <td>Nov 22 2015</td>\n",
       "      <td>Shafiul Islam</td>\n",
       "      <td>not out</td>\n",
       "      <td>4</td>\n",
       "      <td>1</td>\n",
       "      <td>1</td>\n",
       "      <td>1</td>\n",
       "      <td>0</td>\n",
       "      <td>400.00</td>\n",
       "    </tr>\n",
       "    <tr>\n",
       "      <th>1369</th>\n",
       "      <td>230</td>\n",
       "      <td>2015/16</td>\n",
       "      <td>4th</td>\n",
       "      <td>Nov 23 2015</td>\n",
       "      <td>Mohammad Sami</td>\n",
       "      <td>NaN</td>\n",
       "      <td>15</td>\n",
       "      <td>5</td>\n",
       "      <td>4</td>\n",
       "      <td>2</td>\n",
       "      <td>1</td>\n",
       "      <td>300.00</td>\n",
       "    </tr>\n",
       "    <tr>\n",
       "      <th>1476</th>\n",
       "      <td>220</td>\n",
       "      <td>2015/16</td>\n",
       "      <td>14th</td>\n",
       "      <td>Nov 30 2015</td>\n",
       "      <td>Nazmul Hossain Milon</td>\n",
       "      <td>not out</td>\n",
       "      <td>6</td>\n",
       "      <td>1</td>\n",
       "      <td>1</td>\n",
       "      <td>0</td>\n",
       "      <td>1</td>\n",
       "      <td>600.00</td>\n",
       "    </tr>\n",
       "    <tr>\n",
       "      <th>1638</th>\n",
       "      <td>27</td>\n",
       "      <td>2015/16</td>\n",
       "      <td>27th</td>\n",
       "      <td>Dec 9 2015</td>\n",
       "      <td>Mosaddek Hossain</td>\n",
       "      <td>not out</td>\n",
       "      <td>13</td>\n",
       "      <td>4</td>\n",
       "      <td>5</td>\n",
       "      <td>3</td>\n",
       "      <td>0</td>\n",
       "      <td>325.00</td>\n",
       "    </tr>\n",
       "    <tr>\n",
       "      <th>1757</th>\n",
       "      <td>28</td>\n",
       "      <td>2015/16</td>\n",
       "      <td>26th</td>\n",
       "      <td>Dec 8 2015</td>\n",
       "      <td>Abu Hider</td>\n",
       "      <td>not out</td>\n",
       "      <td>18</td>\n",
       "      <td>6</td>\n",
       "      <td>9</td>\n",
       "      <td>0</td>\n",
       "      <td>2</td>\n",
       "      <td>300.00</td>\n",
       "    </tr>\n",
       "    <tr>\n",
       "      <th>1862</th>\n",
       "      <td>444</td>\n",
       "      <td>2017/18</td>\n",
       "      <td>2nd</td>\n",
       "      <td>Nov 4 2017</td>\n",
       "      <td>Mehidy Hasan Miraz</td>\n",
       "      <td>NaN</td>\n",
       "      <td>15</td>\n",
       "      <td>5</td>\n",
       "      <td>0</td>\n",
       "      <td>3</td>\n",
       "      <td>0</td>\n",
       "      <td>300.00</td>\n",
       "    </tr>\n",
       "    <tr>\n",
       "      <th>1965</th>\n",
       "      <td>443</td>\n",
       "      <td>2017/18</td>\n",
       "      <td>3rd</td>\n",
       "      <td>Nov 5 2017</td>\n",
       "      <td>Nurul Hasan</td>\n",
       "      <td>not out</td>\n",
       "      <td>11</td>\n",
       "      <td>3</td>\n",
       "      <td>0</td>\n",
       "      <td>1</td>\n",
       "      <td>1</td>\n",
       "      <td>366.66</td>\n",
       "    </tr>\n",
       "    <tr>\n",
       "      <th>1969</th>\n",
       "      <td>21</td>\n",
       "      <td>2015/16</td>\n",
       "      <td>Qualifier</td>\n",
       "      <td>Dec 13 2015</td>\n",
       "      <td>Kevon Cooper</td>\n",
       "      <td>not out</td>\n",
       "      <td>10</td>\n",
       "      <td>3</td>\n",
       "      <td>5</td>\n",
       "      <td>2</td>\n",
       "      <td>0</td>\n",
       "      <td>333.33</td>\n",
       "    </tr>\n",
       "    <tr>\n",
       "      <th>2056</th>\n",
       "      <td>49</td>\n",
       "      <td>2017/18</td>\n",
       "      <td>37th</td>\n",
       "      <td>Dec 3 2017</td>\n",
       "      <td>Luke Ronchi</td>\n",
       "      <td>NaN</td>\n",
       "      <td>6</td>\n",
       "      <td>2</td>\n",
       "      <td>0</td>\n",
       "      <td>0</td>\n",
       "      <td>1</td>\n",
       "      <td>300.00</td>\n",
       "    </tr>\n",
       "    <tr>\n",
       "      <th>2101</th>\n",
       "      <td>429</td>\n",
       "      <td>2017/18</td>\n",
       "      <td>17th</td>\n",
       "      <td>Nov 17 2017</td>\n",
       "      <td>Liam Plunkett</td>\n",
       "      <td>not out</td>\n",
       "      <td>6</td>\n",
       "      <td>2</td>\n",
       "      <td>0</td>\n",
       "      <td>1</td>\n",
       "      <td>0</td>\n",
       "      <td>300.00</td>\n",
       "    </tr>\n",
       "    <tr>\n",
       "      <th>2132</th>\n",
       "      <td>419</td>\n",
       "      <td>2017/18</td>\n",
       "      <td>27th</td>\n",
       "      <td>Nov 25 2017</td>\n",
       "      <td>Daren Sammy</td>\n",
       "      <td>not out</td>\n",
       "      <td>47</td>\n",
       "      <td>14</td>\n",
       "      <td>0</td>\n",
       "      <td>1</td>\n",
       "      <td>6</td>\n",
       "      <td>335.71</td>\n",
       "    </tr>\n",
       "    <tr>\n",
       "      <th>2137</th>\n",
       "      <td>415</td>\n",
       "      <td>2017/18</td>\n",
       "      <td>31st</td>\n",
       "      <td>Nov 28 2017</td>\n",
       "      <td>Tim Bresnan</td>\n",
       "      <td>not out</td>\n",
       "      <td>16</td>\n",
       "      <td>5</td>\n",
       "      <td>0</td>\n",
       "      <td>2</td>\n",
       "      <td>1</td>\n",
       "      <td>320.00</td>\n",
       "    </tr>\n",
       "    <tr>\n",
       "      <th>2163</th>\n",
       "      <td>425</td>\n",
       "      <td>2017/18</td>\n",
       "      <td>21st</td>\n",
       "      <td>Nov 20 2017</td>\n",
       "      <td>Mohammad Amir</td>\n",
       "      <td>not out</td>\n",
       "      <td>6</td>\n",
       "      <td>2</td>\n",
       "      <td>0</td>\n",
       "      <td>1</td>\n",
       "      <td>0</td>\n",
       "      <td>300.00</td>\n",
       "    </tr>\n",
       "    <tr>\n",
       "      <th>2199</th>\n",
       "      <td>47</td>\n",
       "      <td>2017/18</td>\n",
       "      <td>39th</td>\n",
       "      <td>Dec 5 2017</td>\n",
       "      <td>Benny Howell</td>\n",
       "      <td>not out</td>\n",
       "      <td>9</td>\n",
       "      <td>3</td>\n",
       "      <td>0</td>\n",
       "      <td>2</td>\n",
       "      <td>0</td>\n",
       "      <td>300.00</td>\n",
       "    </tr>\n",
       "    <tr>\n",
       "      <th>2215</th>\n",
       "      <td>412</td>\n",
       "      <td>2017/18</td>\n",
       "      <td>34th</td>\n",
       "      <td>Nov 29 2017</td>\n",
       "      <td>Hasan Ali</td>\n",
       "      <td>not out</td>\n",
       "      <td>8</td>\n",
       "      <td>2</td>\n",
       "      <td>0</td>\n",
       "      <td>0</td>\n",
       "      <td>1</td>\n",
       "      <td>400.00</td>\n",
       "    </tr>\n",
       "    <tr>\n",
       "      <th>2249</th>\n",
       "      <td>428</td>\n",
       "      <td>2017/18</td>\n",
       "      <td>18th</td>\n",
       "      <td>Nov 17 2017</td>\n",
       "      <td>Carlos Brathwaite</td>\n",
       "      <td>not out</td>\n",
       "      <td>10</td>\n",
       "      <td>2</td>\n",
       "      <td>0</td>\n",
       "      <td>1</td>\n",
       "      <td>1</td>\n",
       "      <td>500.00</td>\n",
       "    </tr>\n",
       "    <tr>\n",
       "      <th>2276</th>\n",
       "      <td>414</td>\n",
       "      <td>2017/18</td>\n",
       "      <td>32nd</td>\n",
       "      <td>Nov 28 2017</td>\n",
       "      <td>Abu Jayed</td>\n",
       "      <td>not out</td>\n",
       "      <td>4</td>\n",
       "      <td>1</td>\n",
       "      <td>0</td>\n",
       "      <td>1</td>\n",
       "      <td>0</td>\n",
       "      <td>400.00</td>\n",
       "    </tr>\n",
       "    <tr>\n",
       "      <th>2378</th>\n",
       "      <td>411</td>\n",
       "      <td>2017/18</td>\n",
       "      <td>35th</td>\n",
       "      <td>Dec 2 2017</td>\n",
       "      <td>Hasan Ali</td>\n",
       "      <td>not out</td>\n",
       "      <td>6</td>\n",
       "      <td>1</td>\n",
       "      <td>0</td>\n",
       "      <td>0</td>\n",
       "      <td>1</td>\n",
       "      <td>600.00</td>\n",
       "    </tr>\n",
       "    <tr>\n",
       "      <th>2424</th>\n",
       "      <td>43</td>\n",
       "      <td>2017/18</td>\n",
       "      <td>Eliminator,</td>\n",
       "      <td>Dec 8 2017</td>\n",
       "      <td>Mahmudullah</td>\n",
       "      <td>NaN</td>\n",
       "      <td>20</td>\n",
       "      <td>6</td>\n",
       "      <td>0</td>\n",
       "      <td>2</td>\n",
       "      <td>2</td>\n",
       "      <td>333.33</td>\n",
       "    </tr>\n",
       "    <tr>\n",
       "      <th>2486</th>\n",
       "      <td>138</td>\n",
       "      <td>2012/13</td>\n",
       "      <td>9th</td>\n",
       "      <td>Jan 23 2013</td>\n",
       "      <td>Kevin O'Brien</td>\n",
       "      <td>not out</td>\n",
       "      <td>6</td>\n",
       "      <td>2</td>\n",
       "      <td>2</td>\n",
       "      <td>1</td>\n",
       "      <td>0</td>\n",
       "      <td>300.00</td>\n",
       "    </tr>\n",
       "    <tr>\n",
       "      <th>2865</th>\n",
       "      <td>132</td>\n",
       "      <td>2012/13</td>\n",
       "      <td>15th</td>\n",
       "      <td>Jan 28 2013</td>\n",
       "      <td>Sohrawordi Shuvo</td>\n",
       "      <td>not out</td>\n",
       "      <td>4</td>\n",
       "      <td>1</td>\n",
       "      <td>3</td>\n",
       "      <td>1</td>\n",
       "      <td>0</td>\n",
       "      <td>400.00</td>\n",
       "    </tr>\n",
       "    <tr>\n",
       "      <th>2954</th>\n",
       "      <td>19</td>\n",
       "      <td>2012/13</td>\n",
       "      <td>38th</td>\n",
       "      <td>Feb 12 2013</td>\n",
       "      <td>Shakib Al Hasan</td>\n",
       "      <td>NaN</td>\n",
       "      <td>8</td>\n",
       "      <td>2</td>\n",
       "      <td>9</td>\n",
       "      <td>0</td>\n",
       "      <td>1</td>\n",
       "      <td>400.00</td>\n",
       "    </tr>\n",
       "    <tr>\n",
       "      <th>2985</th>\n",
       "      <td>118</td>\n",
       "      <td>2012/13</td>\n",
       "      <td>29th</td>\n",
       "      <td>Feb 7 2013</td>\n",
       "      <td>Kevon Cooper</td>\n",
       "      <td>not out</td>\n",
       "      <td>15</td>\n",
       "      <td>5</td>\n",
       "      <td>10</td>\n",
       "      <td>2</td>\n",
       "      <td>1</td>\n",
       "      <td>300.00</td>\n",
       "    </tr>\n",
       "    <tr>\n",
       "      <th>3194</th>\n",
       "      <td>110</td>\n",
       "      <td>2012/13</td>\n",
       "      <td>37th</td>\n",
       "      <td>Feb 12 2013</td>\n",
       "      <td>Noor Hossain</td>\n",
       "      <td>not out</td>\n",
       "      <td>4</td>\n",
       "      <td>1</td>\n",
       "      <td>1</td>\n",
       "      <td>1</td>\n",
       "      <td>0</td>\n",
       "      <td>400.00</td>\n",
       "    </tr>\n",
       "    <tr>\n",
       "      <th>3432</th>\n",
       "      <td>524</td>\n",
       "      <td>2018/19</td>\n",
       "      <td>22nd</td>\n",
       "      <td>Jan 19 2019</td>\n",
       "      <td>Najibullah Zadran</td>\n",
       "      <td>not out</td>\n",
       "      <td>16</td>\n",
       "      <td>5</td>\n",
       "      <td>0</td>\n",
       "      <td>2</td>\n",
       "      <td>1</td>\n",
       "      <td>320.00</td>\n",
       "    </tr>\n",
       "    <tr>\n",
       "      <th>3535</th>\n",
       "      <td>525</td>\n",
       "      <td>2018/19</td>\n",
       "      <td>21st</td>\n",
       "      <td>Jan 19 2019</td>\n",
       "      <td>Farhad Reza</td>\n",
       "      <td>not out</td>\n",
       "      <td>18</td>\n",
       "      <td>6</td>\n",
       "      <td>0</td>\n",
       "      <td>2</td>\n",
       "      <td>1</td>\n",
       "      <td>300.00</td>\n",
       "    </tr>\n",
       "    <tr>\n",
       "      <th>3700</th>\n",
       "      <td>59</td>\n",
       "      <td>2018/19</td>\n",
       "      <td>37th</td>\n",
       "      <td>Jan 30 2019</td>\n",
       "      <td>Sikandar Raza</td>\n",
       "      <td>not out</td>\n",
       "      <td>6</td>\n",
       "      <td>2</td>\n",
       "      <td>0</td>\n",
       "      <td>0</td>\n",
       "      <td>1</td>\n",
       "      <td>300.00</td>\n",
       "    </tr>\n",
       "    <tr>\n",
       "      <th>3757</th>\n",
       "      <td>521</td>\n",
       "      <td>2018/19</td>\n",
       "      <td>25th</td>\n",
       "      <td>Jan 22 2019</td>\n",
       "      <td>Rilee Rossouw</td>\n",
       "      <td>not out</td>\n",
       "      <td>10</td>\n",
       "      <td>3</td>\n",
       "      <td>0</td>\n",
       "      <td>0</td>\n",
       "      <td>1</td>\n",
       "      <td>333.33</td>\n",
       "    </tr>\n",
       "    <tr>\n",
       "      <th>3762</th>\n",
       "      <td>510</td>\n",
       "      <td>2018/19</td>\n",
       "      <td>36th</td>\n",
       "      <td>Jan 29 2019</td>\n",
       "      <td>Mustafizur Rahman</td>\n",
       "      <td>not out</td>\n",
       "      <td>4</td>\n",
       "      <td>1</td>\n",
       "      <td>0</td>\n",
       "      <td>1</td>\n",
       "      <td>0</td>\n",
       "      <td>400.00</td>\n",
       "    </tr>\n",
       "    <tr>\n",
       "      <th>4072</th>\n",
       "      <td>343</td>\n",
       "      <td>2016/17</td>\n",
       "      <td>3rd</td>\n",
       "      <td>Nov 9 2016</td>\n",
       "      <td>Mohammad Asghar</td>\n",
       "      <td>not out</td>\n",
       "      <td>8</td>\n",
       "      <td>2</td>\n",
       "      <td>2</td>\n",
       "      <td>2</td>\n",
       "      <td>0</td>\n",
       "      <td>400.00</td>\n",
       "    </tr>\n",
       "    <tr>\n",
       "      <th>4275</th>\n",
       "      <td>324</td>\n",
       "      <td>2016/17</td>\n",
       "      <td>22nd</td>\n",
       "      <td>Nov 21 2016</td>\n",
       "      <td>Ryan ten Doeschate</td>\n",
       "      <td>not out</td>\n",
       "      <td>9</td>\n",
       "      <td>3</td>\n",
       "      <td>6</td>\n",
       "      <td>0</td>\n",
       "      <td>1</td>\n",
       "      <td>300.00</td>\n",
       "    </tr>\n",
       "    <tr>\n",
       "      <th>4423</th>\n",
       "      <td>331</td>\n",
       "      <td>2016/17</td>\n",
       "      <td>15th</td>\n",
       "      <td>Nov 17 2016</td>\n",
       "      <td>Taijul Islam</td>\n",
       "      <td>NaN</td>\n",
       "      <td>6</td>\n",
       "      <td>2</td>\n",
       "      <td>3</td>\n",
       "      <td>0</td>\n",
       "      <td>1</td>\n",
       "      <td>300.00</td>\n",
       "    </tr>\n",
       "    <tr>\n",
       "      <th>4427</th>\n",
       "      <td>317</td>\n",
       "      <td>2016/17</td>\n",
       "      <td>29th</td>\n",
       "      <td>Nov 27 2016</td>\n",
       "      <td>Dwayne Bravo</td>\n",
       "      <td>not out</td>\n",
       "      <td>6</td>\n",
       "      <td>2</td>\n",
       "      <td>2</td>\n",
       "      <td>1</td>\n",
       "      <td>0</td>\n",
       "      <td>300.00</td>\n",
       "    </tr>\n",
       "    <tr>\n",
       "      <th>4548</th>\n",
       "      <td>37</td>\n",
       "      <td>2016/17</td>\n",
       "      <td>39th</td>\n",
       "      <td>Dec 3 2016</td>\n",
       "      <td>Liam Dawson</td>\n",
       "      <td>not out</td>\n",
       "      <td>7</td>\n",
       "      <td>2</td>\n",
       "      <td>4</td>\n",
       "      <td>0</td>\n",
       "      <td>1</td>\n",
       "      <td>350.00</td>\n",
       "    </tr>\n",
       "    <tr>\n",
       "      <th>4562</th>\n",
       "      <td>20</td>\n",
       "      <td>2015/16</td>\n",
       "      <td>Final</td>\n",
       "      <td>Dec 15 2015</td>\n",
       "      <td>Kevon Cooper</td>\n",
       "      <td>not out</td>\n",
       "      <td>7</td>\n",
       "      <td>2</td>\n",
       "      <td>2</td>\n",
       "      <td>0</td>\n",
       "      <td>1</td>\n",
       "      <td>350.00</td>\n",
       "    </tr>\n",
       "    <tr>\n",
       "      <th>4926</th>\n",
       "      <td>2</td>\n",
       "      <td>2011/12</td>\n",
       "      <td>1st</td>\n",
       "      <td>Feb 28 2012</td>\n",
       "      <td>Mohammad Sami</td>\n",
       "      <td>not out</td>\n",
       "      <td>6</td>\n",
       "      <td>1</td>\n",
       "      <td>1</td>\n",
       "      <td>0</td>\n",
       "      <td>1</td>\n",
       "      <td>600.00</td>\n",
       "    </tr>\n",
       "    <tr>\n",
       "      <th>4976</th>\n",
       "      <td>12</td>\n",
       "      <td>2011/12</td>\n",
       "      <td>21st</td>\n",
       "      <td>Feb 22 2012</td>\n",
       "      <td>Kieron Pollard</td>\n",
       "      <td>not out</td>\n",
       "      <td>22</td>\n",
       "      <td>6</td>\n",
       "      <td>0</td>\n",
       "      <td>0</td>\n",
       "      <td>3</td>\n",
       "      <td>366.66</td>\n",
       "    </tr>\n",
       "  </tbody>\n",
       "</table>\n",
       "</div>"
      ],
      "text/plain": [
       "       id   season     match_no         date           player_name  \\\n",
       "63     32  2011/12          1st  Feb 10 2012          Scott Styris   \n",
       "64     28  2011/12          5th  Feb 12 2012       Shakib Al Hasan   \n",
       "212    24  2011/12          9th  Feb 14 2012            Syed Rasel   \n",
       "509   624  2019/20         22nd  Dec 27 2019       Robbie Frylinck   \n",
       "552   615  2019/20         31st   Jan 3 2020              Asif Ali   \n",
       "612   634  2019/20         12th  Dec 18 2019      Mashrafe Mortaza   \n",
       "724   619  2019/20         27th  Dec 31 2019      Mujeeb Ur Rahman   \n",
       "849    65  2019/20         41st  Jan 11 2020          Ziaur Rahman   \n",
       "873   718  2021/22          2nd  Jan 21 2022           Isuru Udana   \n",
       "874    68  2019/20         38th   Jan 8 2020      Mashrafe Mortaza   \n",
       "1074  714  2021/22          6th  Jan 24 2022           Naeem Islam   \n",
       "1109   78  2021/22         12th  Jan 29 2022    Mehidy Hasan Miraz   \n",
       "1114   73  2021/22         17th   Feb 3 2022       Nadif Chowdhury   \n",
       "1240   76  2021/22         14th  Jan 31 2022          Mahedi Hasan   \n",
       "1244   74  2021/22         16th   Feb 1 2022        Shoriful Islam   \n",
       "1337  230  2015/16          4th  Nov 23 2015     Seekkuge Prasanna   \n",
       "1340  233  2015/16          1st  Nov 22 2015         Shafiul Islam   \n",
       "1369  230  2015/16          4th  Nov 23 2015         Mohammad Sami   \n",
       "1476  220  2015/16         14th  Nov 30 2015  Nazmul Hossain Milon   \n",
       "1638   27  2015/16         27th   Dec 9 2015      Mosaddek Hossain   \n",
       "1757   28  2015/16         26th   Dec 8 2015             Abu Hider   \n",
       "1862  444  2017/18          2nd   Nov 4 2017    Mehidy Hasan Miraz   \n",
       "1965  443  2017/18          3rd   Nov 5 2017           Nurul Hasan   \n",
       "1969   21  2015/16    Qualifier  Dec 13 2015          Kevon Cooper   \n",
       "2056   49  2017/18         37th   Dec 3 2017           Luke Ronchi   \n",
       "2101  429  2017/18         17th  Nov 17 2017         Liam Plunkett   \n",
       "2132  419  2017/18         27th  Nov 25 2017           Daren Sammy   \n",
       "2137  415  2017/18         31st  Nov 28 2017           Tim Bresnan   \n",
       "2163  425  2017/18         21st  Nov 20 2017         Mohammad Amir   \n",
       "2199   47  2017/18         39th   Dec 5 2017          Benny Howell   \n",
       "2215  412  2017/18         34th  Nov 29 2017             Hasan Ali   \n",
       "2249  428  2017/18         18th  Nov 17 2017     Carlos Brathwaite   \n",
       "2276  414  2017/18         32nd  Nov 28 2017             Abu Jayed   \n",
       "2378  411  2017/18         35th   Dec 2 2017             Hasan Ali   \n",
       "2424   43  2017/18  Eliminator,   Dec 8 2017           Mahmudullah   \n",
       "2486  138  2012/13          9th  Jan 23 2013         Kevin O'Brien   \n",
       "2865  132  2012/13         15th  Jan 28 2013      Sohrawordi Shuvo   \n",
       "2954   19  2012/13         38th  Feb 12 2013       Shakib Al Hasan   \n",
       "2985  118  2012/13         29th   Feb 7 2013          Kevon Cooper   \n",
       "3194  110  2012/13         37th  Feb 12 2013          Noor Hossain   \n",
       "3432  524  2018/19         22nd  Jan 19 2019     Najibullah Zadran   \n",
       "3535  525  2018/19         21st  Jan 19 2019           Farhad Reza   \n",
       "3700   59  2018/19         37th  Jan 30 2019         Sikandar Raza   \n",
       "3757  521  2018/19         25th  Jan 22 2019         Rilee Rossouw   \n",
       "3762  510  2018/19         36th  Jan 29 2019     Mustafizur Rahman   \n",
       "4072  343  2016/17          3rd   Nov 9 2016       Mohammad Asghar   \n",
       "4275  324  2016/17         22nd  Nov 21 2016    Ryan ten Doeschate   \n",
       "4423  331  2016/17         15th  Nov 17 2016          Taijul Islam   \n",
       "4427  317  2016/17         29th  Nov 27 2016          Dwayne Bravo   \n",
       "4548   37  2016/17         39th   Dec 3 2016           Liam Dawson   \n",
       "4562   20  2015/16        Final  Dec 15 2015          Kevon Cooper   \n",
       "4926    2  2011/12          1st  Feb 28 2012         Mohammad Sami   \n",
       "4976   12  2011/12         21st  Feb 22 2012        Kieron Pollard   \n",
       "\n",
       "                                     comment   R   B   M  fours  sixs      SR  \n",
       "63                                  not out    7   2   3      0     1  350.00  \n",
       "64                                  not out    4   1   1      1     0  400.00  \n",
       "212                                 not out    6   2   3      1     0  300.00  \n",
       "509   run out (Mohammad Nabi/†Jahurul Islam)   9   3   0      0     1  300.00  \n",
       "552                                 not out   39  13   0      2     4  300.00  \n",
       "612            c Imrul Kayes b Nasir Hossain  23   6   0      1     3  383.33  \n",
       "724                                 not out    4   1   0      1     0  400.00  \n",
       "849                                 not out    7   2   0      0     1  350.00  \n",
       "873                                 not out    6   2   2      1     0  300.00  \n",
       "874      c Mohammad Nabi b Mustafizur Rahman   6   2   0      0     1  300.00  \n",
       "1074                                     NaN  15   5   7      0     2  300.00  \n",
       "1109                                not out   13   4   9      0     2  325.00  \n",
       "1114                                not out    6   1   1      0     1  600.00  \n",
       "1240                                not out    6   1   4      0     1  600.00  \n",
       "1244                                     NaN  10   3   5      1     1  333.33  \n",
       "1337                                     NaN  12   4  15      1     1  300.00  \n",
       "1340                                not out    4   1   1      1     0  400.00  \n",
       "1369                                     NaN  15   5   4      2     1  300.00  \n",
       "1476                                not out    6   1   1      0     1  600.00  \n",
       "1638                                not out   13   4   5      3     0  325.00  \n",
       "1757                                not out   18   6   9      0     2  300.00  \n",
       "1862                                     NaN  15   5   0      3     0  300.00  \n",
       "1965                                not out   11   3   0      1     1  366.66  \n",
       "1969                                not out   10   3   5      2     0  333.33  \n",
       "2056                                     NaN   6   2   0      0     1  300.00  \n",
       "2101                                not out    6   2   0      1     0  300.00  \n",
       "2132                                not out   47  14   0      1     6  335.71  \n",
       "2137                                not out   16   5   0      2     1  320.00  \n",
       "2163                                not out    6   2   0      1     0  300.00  \n",
       "2199                                not out    9   3   0      2     0  300.00  \n",
       "2215                                not out    8   2   0      0     1  400.00  \n",
       "2249                                not out   10   2   0      1     1  500.00  \n",
       "2276                                not out    4   1   0      1     0  400.00  \n",
       "2378                                not out    6   1   0      0     1  600.00  \n",
       "2424                                     NaN  20   6   0      2     2  333.33  \n",
       "2486                                not out    6   2   2      1     0  300.00  \n",
       "2865                                not out    4   1   3      1     0  400.00  \n",
       "2954                                     NaN   8   2   9      0     1  400.00  \n",
       "2985                                not out   15   5  10      2     1  300.00  \n",
       "3194                                not out    4   1   1      1     0  400.00  \n",
       "3432                                not out   16   5   0      2     1  320.00  \n",
       "3535                                not out   18   6   0      2     1  300.00  \n",
       "3700                                not out    6   2   0      0     1  300.00  \n",
       "3757                                not out   10   3   0      0     1  333.33  \n",
       "3762                                not out    4   1   0      1     0  400.00  \n",
       "4072                                not out    8   2   2      2     0  400.00  \n",
       "4275                                not out    9   3   6      0     1  300.00  \n",
       "4423                                     NaN   6   2   3      0     1  300.00  \n",
       "4427                                not out    6   2   2      1     0  300.00  \n",
       "4548                                not out    7   2   4      0     1  350.00  \n",
       "4562                                not out    7   2   2      0     1  350.00  \n",
       "4926                                not out    6   1   1      0     1  600.00  \n",
       "4976                                not out   22   6   0      0     3  366.66  "
      ]
     },
     "execution_count": 39,
     "metadata": {},
     "output_type": "execute_result"
    }
   ],
   "source": [
    "batsman[batsman['SR'] >= 300]"
   ]
  },
  {
   "cell_type": "code",
   "execution_count": 40,
   "id": "66f33d21",
   "metadata": {
    "execution": {
     "iopub.execute_input": "2022-02-10T01:20:06.988532Z",
     "iopub.status.busy": "2022-02-10T01:20:06.987797Z",
     "iopub.status.idle": "2022-02-10T01:20:07.001204Z",
     "shell.execute_reply": "2022-02-10T01:20:07.002181Z",
     "shell.execute_reply.started": "2022-02-10T01:08:29.507073Z"
    },
    "papermill": {
     "duration": 0.153709,
     "end_time": "2022-02-10T01:20:07.002387",
     "exception": false,
     "start_time": "2022-02-10T01:20:06.848678",
     "status": "completed"
    },
    "tags": []
   },
   "outputs": [
    {
     "data": {
      "text/html": [
       "<div>\n",
       "<style scoped>\n",
       "    .dataframe tbody tr th:only-of-type {\n",
       "        vertical-align: middle;\n",
       "    }\n",
       "\n",
       "    .dataframe tbody tr th {\n",
       "        vertical-align: top;\n",
       "    }\n",
       "\n",
       "    .dataframe thead th {\n",
       "        text-align: right;\n",
       "    }\n",
       "</style>\n",
       "<table border=\"1\" class=\"dataframe\">\n",
       "  <thead>\n",
       "    <tr style=\"text-align: right;\">\n",
       "      <th></th>\n",
       "      <th>id</th>\n",
       "      <th>season</th>\n",
       "      <th>match_no</th>\n",
       "      <th>date</th>\n",
       "      <th>player_name</th>\n",
       "      <th>comment</th>\n",
       "      <th>R</th>\n",
       "      <th>B</th>\n",
       "      <th>M</th>\n",
       "      <th>fours</th>\n",
       "      <th>sixs</th>\n",
       "      <th>SR</th>\n",
       "    </tr>\n",
       "  </thead>\n",
       "  <tbody>\n",
       "    <tr>\n",
       "      <th>135</th>\n",
       "      <td>32</td>\n",
       "      <td>2011/12</td>\n",
       "      <td>1st</td>\n",
       "      <td>Feb 10 2012</td>\n",
       "      <td>Chris Gayle</td>\n",
       "      <td>not out</td>\n",
       "      <td>101</td>\n",
       "      <td>44</td>\n",
       "      <td>56</td>\n",
       "      <td>7</td>\n",
       "      <td>10</td>\n",
       "      <td>229.54</td>\n",
       "    </tr>\n",
       "    <tr>\n",
       "      <th>201</th>\n",
       "      <td>23</td>\n",
       "      <td>2011/12</td>\n",
       "      <td>10th</td>\n",
       "      <td>Feb 14 2012</td>\n",
       "      <td>Chris Gayle</td>\n",
       "      <td>b Azhar Mahmood</td>\n",
       "      <td>116</td>\n",
       "      <td>61</td>\n",
       "      <td>84</td>\n",
       "      <td>6</td>\n",
       "      <td>11</td>\n",
       "      <td>190.16</td>\n",
       "    </tr>\n",
       "    <tr>\n",
       "      <th>2504</th>\n",
       "      <td>43</td>\n",
       "      <td>2017/18</td>\n",
       "      <td>Eliminator,</td>\n",
       "      <td>Dec 8 2017</td>\n",
       "      <td>Chris Gayle</td>\n",
       "      <td>not out</td>\n",
       "      <td>126</td>\n",
       "      <td>51</td>\n",
       "      <td>0</td>\n",
       "      <td>6</td>\n",
       "      <td>14</td>\n",
       "      <td>247.05</td>\n",
       "    </tr>\n",
       "    <tr>\n",
       "      <th>2989</th>\n",
       "      <td>14</td>\n",
       "      <td>2012/13</td>\n",
       "      <td>Race</td>\n",
       "      <td>Feb 15 2013</td>\n",
       "      <td>Chris Gayle</td>\n",
       "      <td>NaN</td>\n",
       "      <td>114</td>\n",
       "      <td>51</td>\n",
       "      <td>90</td>\n",
       "      <td>5</td>\n",
       "      <td>12</td>\n",
       "      <td>223.52</td>\n",
       "    </tr>\n",
       "    <tr>\n",
       "      <th>3630</th>\n",
       "      <td>513</td>\n",
       "      <td>2018/19</td>\n",
       "      <td>33rd</td>\n",
       "      <td>Jan 28 2019</td>\n",
       "      <td>Evin Lewis</td>\n",
       "      <td>not out</td>\n",
       "      <td>109</td>\n",
       "      <td>49</td>\n",
       "      <td>0</td>\n",
       "      <td>5</td>\n",
       "      <td>10</td>\n",
       "      <td>222.44</td>\n",
       "    </tr>\n",
       "    <tr>\n",
       "      <th>4491</th>\n",
       "      <td>40</td>\n",
       "      <td>2017/18</td>\n",
       "      <td>Final</td>\n",
       "      <td>Dec 12 2017</td>\n",
       "      <td>Chris Gayle</td>\n",
       "      <td>not out</td>\n",
       "      <td>146</td>\n",
       "      <td>69</td>\n",
       "      <td>0</td>\n",
       "      <td>5</td>\n",
       "      <td>18</td>\n",
       "      <td>211.59</td>\n",
       "    </tr>\n",
       "    <tr>\n",
       "      <th>4739</th>\n",
       "      <td>50</td>\n",
       "      <td>2018/19</td>\n",
       "      <td>Final</td>\n",
       "      <td>Feb 8 2019</td>\n",
       "      <td>Tamim Iqbal</td>\n",
       "      <td>not out</td>\n",
       "      <td>141</td>\n",
       "      <td>61</td>\n",
       "      <td>0</td>\n",
       "      <td>10</td>\n",
       "      <td>11</td>\n",
       "      <td>231.14</td>\n",
       "    </tr>\n",
       "  </tbody>\n",
       "</table>\n",
       "</div>"
      ],
      "text/plain": [
       "       id   season     match_no         date  player_name           comment  \\\n",
       "135    32  2011/12          1st  Feb 10 2012  Chris Gayle          not out    \n",
       "201    23  2011/12         10th  Feb 14 2012  Chris Gayle   b Azhar Mahmood   \n",
       "2504   43  2017/18  Eliminator,   Dec 8 2017  Chris Gayle          not out    \n",
       "2989   14  2012/13         Race  Feb 15 2013  Chris Gayle               NaN   \n",
       "3630  513  2018/19         33rd  Jan 28 2019   Evin Lewis          not out    \n",
       "4491   40  2017/18        Final  Dec 12 2017  Chris Gayle          not out    \n",
       "4739   50  2018/19        Final   Feb 8 2019  Tamim Iqbal          not out    \n",
       "\n",
       "        R   B   M  fours  sixs      SR  \n",
       "135   101  44  56      7    10  229.54  \n",
       "201   116  61  84      6    11  190.16  \n",
       "2504  126  51   0      6    14  247.05  \n",
       "2989  114  51  90      5    12  223.52  \n",
       "3630  109  49   0      5    10  222.44  \n",
       "4491  146  69   0      5    18  211.59  \n",
       "4739  141  61   0     10    11  231.14  "
      ]
     },
     "execution_count": 40,
     "metadata": {},
     "output_type": "execute_result"
    }
   ],
   "source": [
    "batsman[batsman['sixs'] >= 10]"
   ]
  },
  {
   "cell_type": "code",
   "execution_count": 41,
   "id": "e77ec4b9",
   "metadata": {
    "execution": {
     "iopub.execute_input": "2022-02-10T01:20:07.271545Z",
     "iopub.status.busy": "2022-02-10T01:20:07.270722Z",
     "iopub.status.idle": "2022-02-10T01:20:07.278094Z",
     "shell.execute_reply": "2022-02-10T01:20:07.278534Z",
     "shell.execute_reply.started": "2022-02-10T01:08:29.523819Z"
    },
    "papermill": {
     "duration": 0.146999,
     "end_time": "2022-02-10T01:20:07.278701",
     "exception": false,
     "start_time": "2022-02-10T01:20:07.131702",
     "status": "completed"
    },
    "tags": []
   },
   "outputs": [
    {
     "name": "stdout",
     "output_type": "stream",
     "text": [
      "<class 'pandas.core.frame.DataFrame'>\n",
      "RangeIndex: 3601 entries, 0 to 3600\n",
      "Data columns (total 12 columns):\n",
      " #   Column       Non-Null Count  Dtype  \n",
      "---  ------       --------------  -----  \n",
      " 0   id           3601 non-null   int64  \n",
      " 1   season       3601 non-null   object \n",
      " 2   match_no     3601 non-null   object \n",
      " 3   date         3601 non-null   object \n",
      " 4   player_name  3601 non-null   object \n",
      " 5   O            3601 non-null   float64\n",
      " 6   M            3601 non-null   int64  \n",
      " 7   R            3601 non-null   int64  \n",
      " 8   W            3601 non-null   int64  \n",
      " 9   ECON         3601 non-null   float64\n",
      " 10  WD           3601 non-null   int64  \n",
      " 11  NB           3601 non-null   int64  \n",
      "dtypes: float64(2), int64(6), object(4)\n",
      "memory usage: 337.7+ KB\n"
     ]
    }
   ],
   "source": [
    "bowler.info()"
   ]
  },
  {
   "cell_type": "code",
   "execution_count": 42,
   "id": "cc826abb",
   "metadata": {
    "execution": {
     "iopub.execute_input": "2022-02-10T01:20:07.442502Z",
     "iopub.status.busy": "2022-02-10T01:20:07.441685Z",
     "iopub.status.idle": "2022-02-10T01:20:07.466994Z",
     "shell.execute_reply": "2022-02-10T01:20:07.466385Z",
     "shell.execute_reply.started": "2022-02-10T01:08:29.538374Z"
    },
    "papermill": {
     "duration": 0.109503,
     "end_time": "2022-02-10T01:20:07.467129",
     "exception": false,
     "start_time": "2022-02-10T01:20:07.357626",
     "status": "completed"
    },
    "tags": []
   },
   "outputs": [
    {
     "data": {
      "text/html": [
       "<div>\n",
       "<style scoped>\n",
       "    .dataframe tbody tr th:only-of-type {\n",
       "        vertical-align: middle;\n",
       "    }\n",
       "\n",
       "    .dataframe tbody tr th {\n",
       "        vertical-align: top;\n",
       "    }\n",
       "\n",
       "    .dataframe thead th {\n",
       "        text-align: right;\n",
       "    }\n",
       "</style>\n",
       "<table border=\"1\" class=\"dataframe\">\n",
       "  <thead>\n",
       "    <tr style=\"text-align: right;\">\n",
       "      <th></th>\n",
       "      <th>id</th>\n",
       "      <th>O</th>\n",
       "      <th>M</th>\n",
       "      <th>R</th>\n",
       "      <th>W</th>\n",
       "      <th>ECON</th>\n",
       "      <th>WD</th>\n",
       "      <th>NB</th>\n",
       "    </tr>\n",
       "  </thead>\n",
       "  <tbody>\n",
       "    <tr>\n",
       "      <th>count</th>\n",
       "      <td>3601.00000</td>\n",
       "      <td>3601.000000</td>\n",
       "      <td>3601.000000</td>\n",
       "      <td>3601.000000</td>\n",
       "      <td>3601.000000</td>\n",
       "      <td>3601.000000</td>\n",
       "      <td>3601.000000</td>\n",
       "      <td>3601.000000</td>\n",
       "    </tr>\n",
       "    <tr>\n",
       "      <th>mean</th>\n",
       "      <td>282.93835</td>\n",
       "      <td>3.160233</td>\n",
       "      <td>0.037212</td>\n",
       "      <td>23.827270</td>\n",
       "      <td>0.990558</td>\n",
       "      <td>7.883838</td>\n",
       "      <td>0.590947</td>\n",
       "      <td>0.071924</td>\n",
       "    </tr>\n",
       "    <tr>\n",
       "      <th>std</th>\n",
       "      <td>227.61957</td>\n",
       "      <td>1.014769</td>\n",
       "      <td>0.190769</td>\n",
       "      <td>10.011113</td>\n",
       "      <td>1.024923</td>\n",
       "      <td>3.183889</td>\n",
       "      <td>0.895431</td>\n",
       "      <td>0.294567</td>\n",
       "    </tr>\n",
       "    <tr>\n",
       "      <th>min</th>\n",
       "      <td>0.00000</td>\n",
       "      <td>0.100000</td>\n",
       "      <td>0.000000</td>\n",
       "      <td>0.000000</td>\n",
       "      <td>0.000000</td>\n",
       "      <td>0.000000</td>\n",
       "      <td>0.000000</td>\n",
       "      <td>0.000000</td>\n",
       "    </tr>\n",
       "    <tr>\n",
       "      <th>25%</th>\n",
       "      <td>56.00000</td>\n",
       "      <td>2.300000</td>\n",
       "      <td>0.000000</td>\n",
       "      <td>17.000000</td>\n",
       "      <td>0.000000</td>\n",
       "      <td>5.750000</td>\n",
       "      <td>0.000000</td>\n",
       "      <td>0.000000</td>\n",
       "    </tr>\n",
       "    <tr>\n",
       "      <th>50%</th>\n",
       "      <td>230.00000</td>\n",
       "      <td>4.000000</td>\n",
       "      <td>0.000000</td>\n",
       "      <td>23.000000</td>\n",
       "      <td>1.000000</td>\n",
       "      <td>7.500000</td>\n",
       "      <td>0.000000</td>\n",
       "      <td>0.000000</td>\n",
       "    </tr>\n",
       "    <tr>\n",
       "      <th>75%</th>\n",
       "      <td>513.00000</td>\n",
       "      <td>4.000000</td>\n",
       "      <td>0.000000</td>\n",
       "      <td>30.000000</td>\n",
       "      <td>2.000000</td>\n",
       "      <td>9.500000</td>\n",
       "      <td>1.000000</td>\n",
       "      <td>0.000000</td>\n",
       "    </tr>\n",
       "    <tr>\n",
       "      <th>max</th>\n",
       "      <td>719.00000</td>\n",
       "      <td>4.000000</td>\n",
       "      <td>2.000000</td>\n",
       "      <td>60.000000</td>\n",
       "      <td>6.000000</td>\n",
       "      <td>27.000000</td>\n",
       "      <td>7.000000</td>\n",
       "      <td>3.000000</td>\n",
       "    </tr>\n",
       "  </tbody>\n",
       "</table>\n",
       "</div>"
      ],
      "text/plain": [
       "               id            O            M            R            W  \\\n",
       "count  3601.00000  3601.000000  3601.000000  3601.000000  3601.000000   \n",
       "mean    282.93835     3.160233     0.037212    23.827270     0.990558   \n",
       "std     227.61957     1.014769     0.190769    10.011113     1.024923   \n",
       "min       0.00000     0.100000     0.000000     0.000000     0.000000   \n",
       "25%      56.00000     2.300000     0.000000    17.000000     0.000000   \n",
       "50%     230.00000     4.000000     0.000000    23.000000     1.000000   \n",
       "75%     513.00000     4.000000     0.000000    30.000000     2.000000   \n",
       "max     719.00000     4.000000     2.000000    60.000000     6.000000   \n",
       "\n",
       "              ECON           WD           NB  \n",
       "count  3601.000000  3601.000000  3601.000000  \n",
       "mean      7.883838     0.590947     0.071924  \n",
       "std       3.183889     0.895431     0.294567  \n",
       "min       0.000000     0.000000     0.000000  \n",
       "25%       5.750000     0.000000     0.000000  \n",
       "50%       7.500000     0.000000     0.000000  \n",
       "75%       9.500000     1.000000     0.000000  \n",
       "max      27.000000     7.000000     3.000000  "
      ]
     },
     "execution_count": 42,
     "metadata": {},
     "output_type": "execute_result"
    }
   ],
   "source": [
    "bowler.describe()"
   ]
  },
  {
   "cell_type": "code",
   "execution_count": 43,
   "id": "686fe5d1",
   "metadata": {
    "execution": {
     "iopub.execute_input": "2022-02-10T01:20:07.633415Z",
     "iopub.status.busy": "2022-02-10T01:20:07.632616Z",
     "iopub.status.idle": "2022-02-10T01:20:07.648022Z",
     "shell.execute_reply": "2022-02-10T01:20:07.647573Z",
     "shell.execute_reply.started": "2022-02-10T01:08:29.568661Z"
    },
    "papermill": {
     "duration": 0.099728,
     "end_time": "2022-02-10T01:20:07.648142",
     "exception": false,
     "start_time": "2022-02-10T01:20:07.548414",
     "status": "completed"
    },
    "tags": []
   },
   "outputs": [
    {
     "data": {
      "text/html": [
       "<div>\n",
       "<style scoped>\n",
       "    .dataframe tbody tr th:only-of-type {\n",
       "        vertical-align: middle;\n",
       "    }\n",
       "\n",
       "    .dataframe tbody tr th {\n",
       "        vertical-align: top;\n",
       "    }\n",
       "\n",
       "    .dataframe thead th {\n",
       "        text-align: right;\n",
       "    }\n",
       "</style>\n",
       "<table border=\"1\" class=\"dataframe\">\n",
       "  <thead>\n",
       "    <tr style=\"text-align: right;\">\n",
       "      <th></th>\n",
       "      <th>id</th>\n",
       "      <th>season</th>\n",
       "      <th>match_no</th>\n",
       "      <th>date</th>\n",
       "      <th>player_name</th>\n",
       "      <th>O</th>\n",
       "      <th>M</th>\n",
       "      <th>R</th>\n",
       "      <th>W</th>\n",
       "      <th>ECON</th>\n",
       "      <th>WD</th>\n",
       "      <th>NB</th>\n",
       "    </tr>\n",
       "  </thead>\n",
       "  <tbody>\n",
       "    <tr>\n",
       "      <th>309</th>\n",
       "      <td>425</td>\n",
       "      <td>2017/18</td>\n",
       "      <td>21st</td>\n",
       "      <td>Nov 20 2017</td>\n",
       "      <td>Hasan Ali</td>\n",
       "      <td>3.3</td>\n",
       "      <td>0</td>\n",
       "      <td>20</td>\n",
       "      <td>5</td>\n",
       "      <td>5.71</td>\n",
       "      <td>0</td>\n",
       "      <td>0</td>\n",
       "    </tr>\n",
       "    <tr>\n",
       "      <th>397</th>\n",
       "      <td>422</td>\n",
       "      <td>2017/18</td>\n",
       "      <td>24th</td>\n",
       "      <td>Nov 21 2017</td>\n",
       "      <td>Shakib Al Hasan</td>\n",
       "      <td>3.5</td>\n",
       "      <td>0</td>\n",
       "      <td>16</td>\n",
       "      <td>5</td>\n",
       "      <td>4.17</td>\n",
       "      <td>0</td>\n",
       "      <td>0</td>\n",
       "    </tr>\n",
       "    <tr>\n",
       "      <th>498</th>\n",
       "      <td>49</td>\n",
       "      <td>2017/18</td>\n",
       "      <td>37th</td>\n",
       "      <td>Dec 3 2017</td>\n",
       "      <td>Nasir Hossain</td>\n",
       "      <td>4.0</td>\n",
       "      <td>0</td>\n",
       "      <td>31</td>\n",
       "      <td>5</td>\n",
       "      <td>7.75</td>\n",
       "      <td>1</td>\n",
       "      <td>0</td>\n",
       "    </tr>\n",
       "    <tr>\n",
       "      <th>551</th>\n",
       "      <td>416</td>\n",
       "      <td>2017/18</td>\n",
       "      <td>30th</td>\n",
       "      <td>Nov 27 2017</td>\n",
       "      <td>Shafiul Islam</td>\n",
       "      <td>4.0</td>\n",
       "      <td>0</td>\n",
       "      <td>26</td>\n",
       "      <td>5</td>\n",
       "      <td>6.50</td>\n",
       "      <td>1</td>\n",
       "      <td>0</td>\n",
       "    </tr>\n",
       "    <tr>\n",
       "      <th>1782</th>\n",
       "      <td>343</td>\n",
       "      <td>2016/17</td>\n",
       "      <td>3rd</td>\n",
       "      <td>Nov 9 2016</td>\n",
       "      <td>Abul Hasan</td>\n",
       "      <td>4.0</td>\n",
       "      <td>0</td>\n",
       "      <td>28</td>\n",
       "      <td>5</td>\n",
       "      <td>7.00</td>\n",
       "      <td>0</td>\n",
       "      <td>0</td>\n",
       "    </tr>\n",
       "    <tr>\n",
       "      <th>1881</th>\n",
       "      <td>228</td>\n",
       "      <td>2015/16</td>\n",
       "      <td>6th</td>\n",
       "      <td>Nov 24 2015</td>\n",
       "      <td>Al-Amin Hossain</td>\n",
       "      <td>4.0</td>\n",
       "      <td>0</td>\n",
       "      <td>36</td>\n",
       "      <td>5</td>\n",
       "      <td>9.00</td>\n",
       "      <td>0</td>\n",
       "      <td>0</td>\n",
       "    </tr>\n",
       "    <tr>\n",
       "      <th>1892</th>\n",
       "      <td>230</td>\n",
       "      <td>2015/16</td>\n",
       "      <td>4th</td>\n",
       "      <td>Nov 23 2015</td>\n",
       "      <td>Kevon Cooper</td>\n",
       "      <td>4.0</td>\n",
       "      <td>1</td>\n",
       "      <td>15</td>\n",
       "      <td>5</td>\n",
       "      <td>3.75</td>\n",
       "      <td>0</td>\n",
       "      <td>0</td>\n",
       "    </tr>\n",
       "    <tr>\n",
       "      <th>2162</th>\n",
       "      <td>23</td>\n",
       "      <td>2015/16</td>\n",
       "      <td>Qualifier</td>\n",
       "      <td>Dec 12 2015</td>\n",
       "      <td>Thisara Perera</td>\n",
       "      <td>4.0</td>\n",
       "      <td>0</td>\n",
       "      <td>26</td>\n",
       "      <td>5</td>\n",
       "      <td>6.50</td>\n",
       "      <td>3</td>\n",
       "      <td>0</td>\n",
       "    </tr>\n",
       "    <tr>\n",
       "      <th>2362</th>\n",
       "      <td>330</td>\n",
       "      <td>2016/17</td>\n",
       "      <td>16th</td>\n",
       "      <td>Nov 18 2016</td>\n",
       "      <td>Taskin Ahmed</td>\n",
       "      <td>4.0</td>\n",
       "      <td>0</td>\n",
       "      <td>31</td>\n",
       "      <td>5</td>\n",
       "      <td>7.75</td>\n",
       "      <td>0</td>\n",
       "      <td>0</td>\n",
       "    </tr>\n",
       "    <tr>\n",
       "      <th>2540</th>\n",
       "      <td>36</td>\n",
       "      <td>2016/17</td>\n",
       "      <td>40th</td>\n",
       "      <td>Dec 3 2016</td>\n",
       "      <td>Afif Hossain</td>\n",
       "      <td>4.0</td>\n",
       "      <td>1</td>\n",
       "      <td>21</td>\n",
       "      <td>5</td>\n",
       "      <td>5.25</td>\n",
       "      <td>0</td>\n",
       "      <td>0</td>\n",
       "    </tr>\n",
       "    <tr>\n",
       "      <th>2805</th>\n",
       "      <td>72</td>\n",
       "      <td>2021/22</td>\n",
       "      <td>18th</td>\n",
       "      <td>Feb 3 2022</td>\n",
       "      <td>Mustafizur Rahman</td>\n",
       "      <td>4.0</td>\n",
       "      <td>0</td>\n",
       "      <td>27</td>\n",
       "      <td>5</td>\n",
       "      <td>6.75</td>\n",
       "      <td>1</td>\n",
       "      <td>0</td>\n",
       "    </tr>\n",
       "    <tr>\n",
       "      <th>3023</th>\n",
       "      <td>640</td>\n",
       "      <td>2019/20</td>\n",
       "      <td>6th</td>\n",
       "      <td>Dec 13 2019</td>\n",
       "      <td>Thisara Perera</td>\n",
       "      <td>4.0</td>\n",
       "      <td>0</td>\n",
       "      <td>30</td>\n",
       "      <td>5</td>\n",
       "      <td>7.50</td>\n",
       "      <td>0</td>\n",
       "      <td>0</td>\n",
       "    </tr>\n",
       "    <tr>\n",
       "      <th>3278</th>\n",
       "      <td>69</td>\n",
       "      <td>2019/20</td>\n",
       "      <td>37th</td>\n",
       "      <td>Jan 8 2020</td>\n",
       "      <td>Robbie Frylinck</td>\n",
       "      <td>4.0</td>\n",
       "      <td>1</td>\n",
       "      <td>16</td>\n",
       "      <td>5</td>\n",
       "      <td>4.00</td>\n",
       "      <td>1</td>\n",
       "      <td>0</td>\n",
       "    </tr>\n",
       "    <tr>\n",
       "      <th>3287</th>\n",
       "      <td>620</td>\n",
       "      <td>2019/20</td>\n",
       "      <td>26th</td>\n",
       "      <td>Dec 30 2019</td>\n",
       "      <td>Wahab Riaz</td>\n",
       "      <td>3.4</td>\n",
       "      <td>1</td>\n",
       "      <td>8</td>\n",
       "      <td>5</td>\n",
       "      <td>2.18</td>\n",
       "      <td>1</td>\n",
       "      <td>0</td>\n",
       "    </tr>\n",
       "    <tr>\n",
       "      <th>3385</th>\n",
       "      <td>4</td>\n",
       "      <td>2011/12</td>\n",
       "      <td>29th</td>\n",
       "      <td>Feb 27 2012</td>\n",
       "      <td>Mohammad Sami</td>\n",
       "      <td>3.2</td>\n",
       "      <td>0</td>\n",
       "      <td>6</td>\n",
       "      <td>5</td>\n",
       "      <td>1.80</td>\n",
       "      <td>1</td>\n",
       "      <td>0</td>\n",
       "    </tr>\n",
       "    <tr>\n",
       "      <th>3428</th>\n",
       "      <td>62</td>\n",
       "      <td>2019/20</td>\n",
       "      <td>1st</td>\n",
       "      <td>Jan 13 2020</td>\n",
       "      <td>Mohammad Amir</td>\n",
       "      <td>4.0</td>\n",
       "      <td>0</td>\n",
       "      <td>17</td>\n",
       "      <td>6</td>\n",
       "      <td>4.25</td>\n",
       "      <td>0</td>\n",
       "      <td>0</td>\n",
       "    </tr>\n",
       "  </tbody>\n",
       "</table>\n",
       "</div>"
      ],
      "text/plain": [
       "       id   season   match_no         date        player_name    O  M   R  W  \\\n",
       "309   425  2017/18       21st  Nov 20 2017          Hasan Ali  3.3  0  20  5   \n",
       "397   422  2017/18       24th  Nov 21 2017    Shakib Al Hasan  3.5  0  16  5   \n",
       "498    49  2017/18       37th   Dec 3 2017      Nasir Hossain  4.0  0  31  5   \n",
       "551   416  2017/18       30th  Nov 27 2017      Shafiul Islam  4.0  0  26  5   \n",
       "1782  343  2016/17        3rd   Nov 9 2016         Abul Hasan  4.0  0  28  5   \n",
       "1881  228  2015/16        6th  Nov 24 2015    Al-Amin Hossain  4.0  0  36  5   \n",
       "1892  230  2015/16        4th  Nov 23 2015       Kevon Cooper  4.0  1  15  5   \n",
       "2162   23  2015/16  Qualifier  Dec 12 2015     Thisara Perera  4.0  0  26  5   \n",
       "2362  330  2016/17       16th  Nov 18 2016       Taskin Ahmed  4.0  0  31  5   \n",
       "2540   36  2016/17       40th   Dec 3 2016       Afif Hossain  4.0  1  21  5   \n",
       "2805   72  2021/22       18th   Feb 3 2022  Mustafizur Rahman  4.0  0  27  5   \n",
       "3023  640  2019/20        6th  Dec 13 2019     Thisara Perera  4.0  0  30  5   \n",
       "3278   69  2019/20       37th   Jan 8 2020    Robbie Frylinck  4.0  1  16  5   \n",
       "3287  620  2019/20       26th  Dec 30 2019         Wahab Riaz  3.4  1   8  5   \n",
       "3385    4  2011/12       29th  Feb 27 2012      Mohammad Sami  3.2  0   6  5   \n",
       "3428   62  2019/20        1st  Jan 13 2020      Mohammad Amir  4.0  0  17  6   \n",
       "\n",
       "      ECON  WD  NB  \n",
       "309   5.71   0   0  \n",
       "397   4.17   0   0  \n",
       "498   7.75   1   0  \n",
       "551   6.50   1   0  \n",
       "1782  7.00   0   0  \n",
       "1881  9.00   0   0  \n",
       "1892  3.75   0   0  \n",
       "2162  6.50   3   0  \n",
       "2362  7.75   0   0  \n",
       "2540  5.25   0   0  \n",
       "2805  6.75   1   0  \n",
       "3023  7.50   0   0  \n",
       "3278  4.00   1   0  \n",
       "3287  2.18   1   0  \n",
       "3385  1.80   1   0  \n",
       "3428  4.25   0   0  "
      ]
     },
     "execution_count": 43,
     "metadata": {},
     "output_type": "execute_result"
    }
   ],
   "source": [
    "bowler[bowler['W'] > 4]"
   ]
  },
  {
   "cell_type": "markdown",
   "id": "951ce096",
   "metadata": {
    "execution": {
     "iopub.execute_input": "2022-02-06T11:45:03.809528Z",
     "iopub.status.busy": "2022-02-06T11:45:03.808956Z",
     "iopub.status.idle": "2022-02-06T11:45:03.815888Z",
     "shell.execute_reply": "2022-02-06T11:45:03.815131Z",
     "shell.execute_reply.started": "2022-02-06T11:45:03.809488Z"
    },
    "papermill": {
     "duration": 0.079637,
     "end_time": "2022-02-10T01:20:07.808116",
     "exception": false,
     "start_time": "2022-02-10T01:20:07.728479",
     "status": "completed"
    },
    "tags": []
   },
   "source": [
    "## Data Visualization"
   ]
  },
  {
   "cell_type": "markdown",
   "id": "28c4f3b6",
   "metadata": {
    "papermill": {
     "duration": 0.080066,
     "end_time": "2022-02-10T01:20:07.968185",
     "exception": false,
     "start_time": "2022-02-10T01:20:07.888119",
     "status": "completed"
    },
    "tags": []
   },
   "source": [
    "### Winner Teams"
   ]
  },
  {
   "cell_type": "code",
   "execution_count": 44,
   "id": "a1929947",
   "metadata": {
    "execution": {
     "iopub.execute_input": "2022-02-10T01:20:08.136979Z",
     "iopub.status.busy": "2022-02-10T01:20:08.136263Z",
     "iopub.status.idle": "2022-02-10T01:20:08.140349Z",
     "shell.execute_reply": "2022-02-10T01:20:08.140744Z",
     "shell.execute_reply.started": "2022-02-10T01:08:29.589807Z"
    },
    "papermill": {
     "duration": 0.092268,
     "end_time": "2022-02-10T01:20:08.140891",
     "exception": false,
     "start_time": "2022-02-10T01:20:08.048623",
     "status": "completed"
    },
    "tags": []
   },
   "outputs": [
    {
     "data": {
      "text/plain": [
       "Chittagong    60\n",
       "Dhaka         58\n",
       "Comilla       41\n",
       "Rangpur       40\n",
       "Khulna        36\n",
       "Sylhet        35\n",
       "Barishal      27\n",
       "Rajshahi      12\n",
       "Match          2\n",
       "Name: winner, dtype: int64"
      ]
     },
     "execution_count": 44,
     "metadata": {},
     "output_type": "execute_result"
    }
   ],
   "source": [
    "winner_teams = bpl[bpl.winner != 'NaN']['winner'].value_counts()\n",
    "winner_teams"
   ]
  },
  {
   "cell_type": "code",
   "execution_count": 45,
   "id": "3045456d",
   "metadata": {
    "execution": {
     "iopub.execute_input": "2022-02-10T01:20:08.320843Z",
     "iopub.status.busy": "2022-02-10T01:20:08.320000Z",
     "iopub.status.idle": "2022-02-10T01:20:08.528012Z",
     "shell.execute_reply": "2022-02-10T01:20:08.527516Z",
     "shell.execute_reply.started": "2022-02-10T01:08:29.600970Z"
    },
    "papermill": {
     "duration": 0.302871,
     "end_time": "2022-02-10T01:20:08.528136",
     "exception": false,
     "start_time": "2022-02-10T01:20:08.225265",
     "status": "completed"
    },
    "tags": []
   },
   "outputs": [
    {
     "data": {
      "image/png": "[encoded data removed]",
      "text/plain": [
       "<Figure size 1080x360 with 1 Axes>"
      ]
     },
     "metadata": {
      "needs_background": "light"
     },
     "output_type": "display_data"
    }
   ],
   "source": [
    "plt.figure(figsize = (15, 5))\n",
    "\n",
    "sns.countplot(y = 'winner', data = bpl, order = winner_teams.index)\n",
    "\n",
    "plt.show()\n"
   ]
  },
  {
   "cell_type": "markdown",
   "id": "92652755",
   "metadata": {
    "papermill": {
     "duration": 0.080684,
     "end_time": "2022-02-10T01:20:08.690121",
     "exception": false,
     "start_time": "2022-02-10T01:20:08.609437",
     "status": "completed"
    },
    "tags": []
   },
   "source": [
    "### Winner Teams in each season"
   ]
  },
  {
   "cell_type": "code",
   "execution_count": 46,
   "id": "c79388e4",
   "metadata": {
    "execution": {
     "iopub.execute_input": "2022-02-10T01:20:08.859369Z",
     "iopub.status.busy": "2022-02-10T01:20:08.858730Z",
     "iopub.status.idle": "2022-02-10T01:20:08.861275Z",
     "shell.execute_reply": "2022-02-10T01:20:08.861697Z",
     "shell.execute_reply.started": "2022-02-10T01:08:29.796788Z"
    },
    "papermill": {
     "duration": 0.091419,
     "end_time": "2022-02-10T01:20:08.861847",
     "exception": false,
     "start_time": "2022-02-10T01:20:08.770428",
     "status": "completed"
    },
    "tags": []
   },
   "outputs": [
    {
     "data": {
      "text/plain": [
       "Dhaka         11\n",
       "Sylhet         9\n",
       "Chittagong     8\n",
       "Rajshahi       5\n",
       "Barishal       5\n",
       "Rangpur        5\n",
       "Khulna         3\n",
       "Name: winner, dtype: int64"
      ]
     },
     "execution_count": 46,
     "metadata": {},
     "output_type": "execute_result"
    }
   ],
   "source": [
    "bpl['season'].value_counts()\n",
    "bpl[bpl['season'] == '2012/13']['winner'].value_counts()"
   ]
  },
  {
   "cell_type": "code",
   "execution_count": 47,
   "id": "6a0a0834",
   "metadata": {
    "execution": {
     "iopub.execute_input": "2022-02-10T01:20:09.041208Z",
     "iopub.status.busy": "2022-02-10T01:20:09.040379Z",
     "iopub.status.idle": "2022-02-10T01:20:09.454794Z",
     "shell.execute_reply": "2022-02-10T01:20:09.454109Z",
     "shell.execute_reply.started": "2022-02-10T01:08:29.808304Z"
    },
    "papermill": {
     "duration": 0.512198,
     "end_time": "2022-02-10T01:20:09.454927",
     "exception": false,
     "start_time": "2022-02-10T01:20:08.942729",
     "status": "completed"
    },
    "tags": []
   },
   "outputs": [
    {
     "data": {
      "image/png": "[encoded data removed]",
      "text/plain": [
       "<Figure size 864x360 with 1 Axes>"
      ]
     },
     "metadata": {
      "needs_background": "light"
     },
     "output_type": "display_data"
    }
   ],
   "source": [
    "plt.figure(figsize = (12, 5))\n",
    "\n",
    "sns.countplot(x = 'winner', data = bpl, hue=\"season\")\n",
    "plt.grid(axis = 'y')\n",
    "plt.show()"
   ]
  },
  {
   "cell_type": "code",
   "execution_count": 48,
   "id": "048b56f1",
   "metadata": {
    "execution": {
     "iopub.execute_input": "2022-02-10T01:20:09.627950Z",
     "iopub.status.busy": "2022-02-10T01:20:09.627099Z",
     "iopub.status.idle": "2022-02-10T01:20:09.630419Z",
     "shell.execute_reply": "2022-02-10T01:20:09.630024Z",
     "shell.execute_reply.started": "2022-02-10T01:08:30.216861Z"
    },
    "papermill": {
     "duration": 0.09349,
     "end_time": "2022-02-10T01:20:09.630532",
     "exception": false,
     "start_time": "2022-02-10T01:20:09.537042",
     "status": "completed"
    },
    "tags": []
   },
   "outputs": [
    {
     "data": {
      "text/plain": [
       "season   winner    \n",
       "2011/12  Dhaka          7\n",
       "         Rajshahi       7\n",
       "         Barishal       6\n",
       "         Chittagong     5\n",
       "         Khulna         5\n",
       "         Sylhet         2\n",
       "2012/13  Dhaka         11\n",
       "         Sylhet         9\n",
       "         Chittagong     8\n",
       "         Barishal       5\n",
       "         Rajshahi       5\n",
       "         Rangpur        5\n",
       "         Khulna         3\n",
       "2015/16  Comilla        9\n",
       "         Barishal       8\n",
       "         Rangpur        7\n",
       "         Dhaka          4\n",
       "         Sylhet         3\n",
       "         Chittagong     2\n",
       "2016/17  Chittagong    14\n",
       "         Dhaka         10\n",
       "         Khulna         7\n",
       "         Rangpur        6\n",
       "         Comilla        5\n",
       "         Barishal       4\n",
       "2017/18  Comilla        9\n",
       "         Rangpur        9\n",
       "         Dhaka          8\n",
       "         Chittagong     7\n",
       "         Khulna         7\n",
       "         Sylhet         4\n",
       "2018/19  Chittagong    12\n",
       "         Comilla       10\n",
       "         Dhaka          8\n",
       "         Rangpur        8\n",
       "         Sylhet         5\n",
       "         Khulna         2\n",
       "         Match          1\n",
       "2019/20  Sylhet        11\n",
       "         Chittagong     9\n",
       "         Khulna         9\n",
       "         Dhaka          7\n",
       "         Rangpur        5\n",
       "         Comilla        4\n",
       "         Match          1\n",
       "2021/22  Barishal       4\n",
       "         Comilla        4\n",
       "         Chittagong     3\n",
       "         Dhaka          3\n",
       "         Khulna         3\n",
       "         Sylhet         1\n",
       "Name: winner, dtype: int64"
      ]
     },
     "execution_count": 48,
     "metadata": {},
     "output_type": "execute_result"
    }
   ],
   "source": [
    "bpl.groupby('season')['winner'].value_counts()\n"
   ]
  },
  {
   "cell_type": "code",
   "execution_count": 49,
   "id": "723cfaf9",
   "metadata": {
    "execution": {
     "iopub.execute_input": "2022-02-10T01:20:09.819461Z",
     "iopub.status.busy": "2022-02-10T01:20:09.813159Z",
     "iopub.status.idle": "2022-02-10T01:20:10.002015Z",
     "shell.execute_reply": "2022-02-10T01:20:10.001420Z",
     "shell.execute_reply.started": "2022-02-10T01:08:30.231236Z"
    },
    "papermill": {
     "duration": 0.289805,
     "end_time": "2022-02-10T01:20:10.002164",
     "exception": false,
     "start_time": "2022-02-10T01:20:09.712359",
     "status": "completed"
    },
    "tags": []
   },
   "outputs": [
    {
     "data": {
      "image/png": "[encoded data removed]",
      "text/plain": [
       "<Figure size 432x288 with 1 Axes>"
      ]
     },
     "metadata": {
      "needs_background": "light"
     },
     "output_type": "display_data"
    }
   ],
   "source": [
    "plt.title(\"BPL venues\")\n",
    "sns.countplot(y='venue', data=bpl, order = bpl['venue'].value_counts().index)\n",
    "plt.show()"
   ]
  },
  {
   "cell_type": "markdown",
   "id": "19edbd16",
   "metadata": {
    "papermill": {
     "duration": 0.081897,
     "end_time": "2022-02-10T01:20:10.168452",
     "exception": false,
     "start_time": "2022-02-10T01:20:10.086555",
     "status": "completed"
    },
    "tags": []
   },
   "source": [
    "#### top ten player of match"
   ]
  },
  {
   "cell_type": "code",
   "execution_count": 50,
   "id": "e56a98b5",
   "metadata": {
    "execution": {
     "iopub.execute_input": "2022-02-10T01:20:10.348960Z",
     "iopub.status.busy": "2022-02-10T01:20:10.348072Z",
     "iopub.status.idle": "2022-02-10T01:20:10.351064Z",
     "shell.execute_reply": "2022-02-10T01:20:10.351460Z",
     "shell.execute_reply.started": "2022-02-10T01:08:30.455526Z"
    },
    "papermill": {
     "duration": 0.09683,
     "end_time": "2022-02-10T01:20:10.351606",
     "exception": false,
     "start_time": "2022-02-10T01:20:10.254776",
     "status": "completed"
    },
    "tags": []
   },
   "outputs": [
    {
     "data": {
      "text/plain": [
       "Shakib Al Hasan    11\n",
       "Mahmudullah         9\n",
       "Shahid Afridi       7\n",
       "Ravi Bopara         7\n",
       "Mushfiqur Rahim     7\n",
       "Chris Gayle         7\n",
       "Tamim Iqbal         6\n",
       "Evin Lewis          6\n",
       "Andre Russell       6\n",
       "Daren Sammy         5\n",
       "Name: player_of_match, dtype: int64"
      ]
     },
     "execution_count": 50,
     "metadata": {},
     "output_type": "execute_result"
    }
   ],
   "source": [
    "bpl['player_of_match'].value_counts()[:10]"
   ]
  },
  {
   "cell_type": "code",
   "execution_count": 51,
   "id": "f31591bc",
   "metadata": {
    "execution": {
     "iopub.execute_input": "2022-02-10T01:20:10.550160Z",
     "iopub.status.busy": "2022-02-10T01:20:10.532110Z",
     "iopub.status.idle": "2022-02-10T01:20:10.741683Z",
     "shell.execute_reply": "2022-02-10T01:20:10.741255Z",
     "shell.execute_reply.started": "2022-02-10T01:08:30.466079Z"
    },
    "papermill": {
     "duration": 0.307331,
     "end_time": "2022-02-10T01:20:10.741818",
     "exception": false,
     "start_time": "2022-02-10T01:20:10.434487",
     "status": "completed"
    },
    "tags": []
   },
   "outputs": [
    {
     "data": {
      "image/png": "[encoded data removed]",
      "text/plain": [
       "<Figure size 1080x360 with 1 Axes>"
      ]
     },
     "metadata": {
      "needs_background": "light"
     },
     "output_type": "display_data"
    }
   ],
   "source": [
    "plt.figure(figsize = (15, 5))\n",
    "plt.title('Top ten player match')\n",
    "sns.barplot(y=bpl['player_of_match'].value_counts()[:10].keys(), x=bpl['player_of_match'].value_counts()[:10])\n",
    "plt.show()"
   ]
  },
  {
   "cell_type": "markdown",
   "id": "33199c64",
   "metadata": {
    "papermill": {
     "duration": 0.083462,
     "end_time": "2022-02-10T01:20:10.910166",
     "exception": false,
     "start_time": "2022-02-10T01:20:10.826704",
     "status": "completed"
    },
    "tags": []
   },
   "source": [
    "#### The team that won the most number of toss"
   ]
  },
  {
   "cell_type": "code",
   "execution_count": 52,
   "id": "8e5d4acf",
   "metadata": {
    "execution": {
     "iopub.execute_input": "2022-02-10T01:20:11.089461Z",
     "iopub.status.busy": "2022-02-10T01:20:11.088859Z",
     "iopub.status.idle": "2022-02-10T01:20:11.091512Z",
     "shell.execute_reply": "2022-02-10T01:20:11.091939Z",
     "shell.execute_reply.started": "2022-02-10T01:08:30.707482Z"
    },
    "papermill": {
     "duration": 0.093943,
     "end_time": "2022-02-10T01:20:11.092079",
     "exception": false,
     "start_time": "2022-02-10T01:20:10.998136",
     "status": "completed"
    },
    "tags": []
   },
   "outputs": [
    {
     "data": {
      "text/plain": [
       "Dhaka         46\n",
       "Khulna        46\n",
       "Rajshahi      42\n",
       "Rangpur       40\n",
       "Chittagong    39\n",
       "Sylhet        35\n",
       "Comilla       35\n",
       "Barishal      28\n",
       "Name: toss_winner, dtype: int64"
      ]
     },
     "execution_count": 52,
     "metadata": {},
     "output_type": "execute_result"
    }
   ],
   "source": [
    "toss_winner = bpl.toss_winner.value_counts()\n",
    "toss_winner"
   ]
  },
  {
   "cell_type": "code",
   "execution_count": 53,
   "id": "7c760e12",
   "metadata": {
    "execution": {
     "iopub.execute_input": "2022-02-10T01:20:11.291346Z",
     "iopub.status.busy": "2022-02-10T01:20:11.276355Z",
     "iopub.status.idle": "2022-02-10T01:20:11.454900Z",
     "shell.execute_reply": "2022-02-10T01:20:11.454173Z",
     "shell.execute_reply.started": "2022-02-10T01:08:30.717432Z"
    },
    "papermill": {
     "duration": 0.279574,
     "end_time": "2022-02-10T01:20:11.455030",
     "exception": false,
     "start_time": "2022-02-10T01:20:11.175456",
     "status": "completed"
    },
    "tags": []
   },
   "outputs": [
    {
     "data": {
      "image/png": "[encoded data removed]",
      "text/plain": [
       "<Figure size 720x216 with 1 Axes>"
      ]
     },
     "metadata": {
      "needs_background": "light"
     },
     "output_type": "display_data"
    }
   ],
   "source": [
    "plt.figure(figsize = (10, 3))\n",
    "plt.title('Toss Winner')\n",
    "sns.barplot(y=bpl['toss_winner'].value_counts().keys(), x=toss_winner)\n",
    "plt.show()"
   ]
  },
  {
   "cell_type": "markdown",
   "id": "b60389c6",
   "metadata": {
    "papermill": {
     "duration": 0.083843,
     "end_time": "2022-02-10T01:20:11.623678",
     "exception": false,
     "start_time": "2022-02-10T01:20:11.539835",
     "status": "completed"
    },
    "tags": []
   },
   "source": [
    "### Toss winner and match winner"
   ]
  },
  {
   "cell_type": "code",
   "execution_count": 54,
   "id": "c6ea997a",
   "metadata": {
    "execution": {
     "iopub.execute_input": "2022-02-10T01:20:11.801203Z",
     "iopub.status.busy": "2022-02-10T01:20:11.800639Z",
     "iopub.status.idle": "2022-02-10T01:20:11.805859Z",
     "shell.execute_reply": "2022-02-10T01:20:11.805414Z",
     "shell.execute_reply.started": "2022-02-10T01:08:30.910540Z"
    },
    "papermill": {
     "duration": 0.09782,
     "end_time": "2022-02-10T01:20:11.805982",
     "exception": false,
     "start_time": "2022-02-10T01:20:11.708162",
     "status": "completed"
    },
    "tags": []
   },
   "outputs": [
    {
     "data": {
      "text/plain": [
       "Dhaka         23\n",
       "Khulna        19\n",
       "Rangpur       19\n",
       "Comilla       19\n",
       "Chittagong    18\n",
       "Barishal      15\n",
       "Sylhet        15\n",
       "Rajshahi       5\n",
       "Name: winner, dtype: int64"
      ]
     },
     "execution_count": 54,
     "metadata": {},
     "output_type": "execute_result"
    }
   ],
   "source": [
    "bpl[bpl['toss_winner'] == bpl['winner']]['winner'].value_counts()"
   ]
  },
  {
   "cell_type": "code",
   "execution_count": 55,
   "id": "02d53046",
   "metadata": {
    "execution": {
     "iopub.execute_input": "2022-02-10T01:20:12.006058Z",
     "iopub.status.busy": "2022-02-10T01:20:12.005098Z",
     "iopub.status.idle": "2022-02-10T01:20:12.273162Z",
     "shell.execute_reply": "2022-02-10T01:20:12.274005Z",
     "shell.execute_reply.started": "2022-02-10T01:08:30.924961Z"
    },
    "papermill": {
     "duration": 0.384097,
     "end_time": "2022-02-10T01:20:12.274247",
     "exception": false,
     "start_time": "2022-02-10T01:20:11.890150",
     "status": "completed"
    },
    "tags": []
   },
   "outputs": [
    {
     "data": {
      "image/png": "[encoded data removed]",
      "text/plain": [
       "<Figure size 576x360 with 1 Axes>"
      ]
     },
     "metadata": {
      "needs_background": "light"
     },
     "output_type": "display_data"
    }
   ],
   "source": [
    "plt.figure(figsize = (8,5))\n",
    "sns.barplot(x=bpl[bpl['toss_winner'] == bpl['winner']]['winner'].value_counts().keys(), y=bpl[bpl['toss_winner'] == bpl['winner']]['winner'].value_counts())\n",
    "plt.grid()\n",
    "plt.show()"
   ]
  },
  {
   "cell_type": "markdown",
   "id": "b873afba",
   "metadata": {
    "papermill": {
     "duration": 0.140605,
     "end_time": "2022-02-10T01:20:12.558827",
     "exception": false,
     "start_time": "2022-02-10T01:20:12.418222",
     "status": "completed"
    },
    "tags": []
   },
   "source": [
    "### Toss winner and bat first "
   ]
  },
  {
   "cell_type": "code",
   "execution_count": 56,
   "id": "e703faac",
   "metadata": {
    "execution": {
     "iopub.execute_input": "2022-02-10T01:20:12.770822Z",
     "iopub.status.busy": "2022-02-10T01:20:12.770068Z",
     "iopub.status.idle": "2022-02-10T01:20:12.772113Z",
     "shell.execute_reply": "2022-02-10T01:20:12.772511Z",
     "shell.execute_reply.started": "2022-02-10T01:08:31.241428Z"
    },
    "papermill": {
     "duration": 0.094035,
     "end_time": "2022-02-10T01:20:12.772675",
     "exception": false,
     "start_time": "2022-02-10T01:20:12.678640",
     "status": "completed"
    },
    "tags": []
   },
   "outputs": [],
   "source": [
    "bat = bpl[bpl['win_by_runs'] != 0] \n",
    "field = bpl[bpl['win_by_wickets'] != 0] \n"
   ]
  },
  {
   "cell_type": "code",
   "execution_count": 57,
   "id": "90b808b5",
   "metadata": {
    "execution": {
     "iopub.execute_input": "2022-02-10T01:20:12.949340Z",
     "iopub.status.busy": "2022-02-10T01:20:12.948527Z",
     "iopub.status.idle": "2022-02-10T01:20:12.954980Z",
     "shell.execute_reply": "2022-02-10T01:20:12.955354Z",
     "shell.execute_reply.started": "2022-02-10T01:08:31.249799Z"
    },
    "papermill": {
     "duration": 0.097386,
     "end_time": "2022-02-10T01:20:12.955495",
     "exception": false,
     "start_time": "2022-02-10T01:20:12.858109",
     "status": "completed"
    },
    "tags": []
   },
   "outputs": [
    {
     "data": {
      "text/plain": [
       "Dhaka         12\n",
       "Khulna         6\n",
       "Barishal       6\n",
       "Rangpur        5\n",
       "Rajshahi       4\n",
       "Chittagong     3\n",
       "Sylhet         3\n",
       "Comilla        1\n",
       "Name: toss_winner, dtype: int64"
      ]
     },
     "execution_count": 57,
     "metadata": {},
     "output_type": "execute_result"
    }
   ],
   "source": [
    "bpl[(bpl['toss_decision'] == 'bat first') & (bpl['toss_winner'] == bpl['winner'])]['toss_winner'].value_counts()"
   ]
  },
  {
   "cell_type": "code",
   "execution_count": 58,
   "id": "e583693e",
   "metadata": {
    "execution": {
     "iopub.execute_input": "2022-02-10T01:20:13.135189Z",
     "iopub.status.busy": "2022-02-10T01:20:13.134550Z",
     "iopub.status.idle": "2022-02-10T01:20:13.137204Z",
     "shell.execute_reply": "2022-02-10T01:20:13.137631Z",
     "shell.execute_reply.started": "2022-02-10T01:08:31.264953Z"
    },
    "papermill": {
     "duration": 0.096345,
     "end_time": "2022-02-10T01:20:13.137768",
     "exception": false,
     "start_time": "2022-02-10T01:20:13.041423",
     "status": "completed"
    },
    "tags": []
   },
   "outputs": [
    {
     "data": {
      "text/plain": [
       "Comilla       18\n",
       "Chittagong    15\n",
       "Rangpur       14\n",
       "Khulna        13\n",
       "Sylhet        12\n",
       "Dhaka         11\n",
       "Barishal       9\n",
       "Rajshahi       1\n",
       "Name: toss_winner, dtype: int64"
      ]
     },
     "execution_count": 58,
     "metadata": {},
     "output_type": "execute_result"
    }
   ],
   "source": [
    "bpl[(bpl['toss_decision'] == 'field first') & (bpl['toss_winner'] == bpl['winner'])]['toss_winner'].value_counts()"
   ]
  },
  {
   "cell_type": "markdown",
   "id": "fc436f89",
   "metadata": {
    "papermill": {
     "duration": 0.092995,
     "end_time": "2022-02-10T01:20:13.317066",
     "exception": false,
     "start_time": "2022-02-10T01:20:13.224071",
     "status": "completed"
    },
    "tags": []
   },
   "source": [
    "### Bat first and winner"
   ]
  },
  {
   "cell_type": "code",
   "execution_count": 59,
   "id": "c1263267",
   "metadata": {
    "execution": {
     "iopub.execute_input": "2022-02-10T01:20:13.518911Z",
     "iopub.status.busy": "2022-02-10T01:20:13.510203Z",
     "iopub.status.idle": "2022-02-10T01:20:13.521781Z",
     "shell.execute_reply": "2022-02-10T01:20:13.522187Z",
     "shell.execute_reply.started": "2022-02-10T01:08:31.277528Z"
    },
    "papermill": {
     "duration": 0.117795,
     "end_time": "2022-02-10T01:20:13.522334",
     "exception": false,
     "start_time": "2022-02-10T01:20:13.404539",
     "status": "completed"
    },
    "tags": []
   },
   "outputs": [
    {
     "data": {
      "text/html": [
       "<div>\n",
       "<style scoped>\n",
       "    .dataframe tbody tr th:only-of-type {\n",
       "        vertical-align: middle;\n",
       "    }\n",
       "\n",
       "    .dataframe tbody tr th {\n",
       "        vertical-align: top;\n",
       "    }\n",
       "\n",
       "    .dataframe thead th {\n",
       "        text-align: right;\n",
       "    }\n",
       "</style>\n",
       "<table border=\"1\" class=\"dataframe\">\n",
       "  <thead>\n",
       "    <tr style=\"text-align: right;\">\n",
       "      <th></th>\n",
       "      <th>id</th>\n",
       "      <th>season</th>\n",
       "      <th>match_no</th>\n",
       "      <th>date</th>\n",
       "      <th>team_1</th>\n",
       "      <th>team_2</th>\n",
       "      <th>player_of_match</th>\n",
       "      <th>toss_winner</th>\n",
       "      <th>toss_decision</th>\n",
       "      <th>winner</th>\n",
       "      <th>...</th>\n",
       "      <th>city</th>\n",
       "      <th>win_by_wickets</th>\n",
       "      <th>win_by_runs</th>\n",
       "      <th>result</th>\n",
       "      <th>umpire_1</th>\n",
       "      <th>umpire_2</th>\n",
       "      <th>team_1_run</th>\n",
       "      <th>team_1_wicket</th>\n",
       "      <th>team_2_run</th>\n",
       "      <th>team_2_wicket</th>\n",
       "    </tr>\n",
       "  </thead>\n",
       "  <tbody>\n",
       "    <tr>\n",
       "      <th>1</th>\n",
       "      <td>30</td>\n",
       "      <td>2011/12</td>\n",
       "      <td>3rd</td>\n",
       "      <td>Feb 11 2012</td>\n",
       "      <td>Khulna</td>\n",
       "      <td>Dhaka</td>\n",
       "      <td>Andre Russell</td>\n",
       "      <td>Khulna</td>\n",
       "      <td>bat first</td>\n",
       "      <td>Khulna</td>\n",
       "      <td>...</td>\n",
       "      <td>Mirpur</td>\n",
       "      <td>0</td>\n",
       "      <td>19</td>\n",
       "      <td>19 runs</td>\n",
       "      <td>Jeremy Lloyds</td>\n",
       "      <td>Sharfuddoula</td>\n",
       "      <td>175</td>\n",
       "      <td>5</td>\n",
       "      <td>156</td>\n",
       "      <td>7</td>\n",
       "    </tr>\n",
       "    <tr>\n",
       "      <th>3</th>\n",
       "      <td>29</td>\n",
       "      <td>2011/12</td>\n",
       "      <td>4th</td>\n",
       "      <td>Feb 11 2012</td>\n",
       "      <td>Barishal</td>\n",
       "      <td>Rajshahi</td>\n",
       "      <td>Ahmed Shehzad</td>\n",
       "      <td>Barishal</td>\n",
       "      <td>bat first</td>\n",
       "      <td>Barishal</td>\n",
       "      <td>...</td>\n",
       "      <td>Mirpur</td>\n",
       "      <td>0</td>\n",
       "      <td>22</td>\n",
       "      <td>22 runs</td>\n",
       "      <td>David Orchard</td>\n",
       "      <td>Gazi Sohel</td>\n",
       "      <td>180</td>\n",
       "      <td>2</td>\n",
       "      <td>158</td>\n",
       "      <td>9</td>\n",
       "    </tr>\n",
       "    <tr>\n",
       "      <th>4</th>\n",
       "      <td>28</td>\n",
       "      <td>2011/12</td>\n",
       "      <td>5th</td>\n",
       "      <td>Feb 12 2012</td>\n",
       "      <td>Khulna</td>\n",
       "      <td>Chittagong</td>\n",
       "      <td>Nasir Jamshed</td>\n",
       "      <td>Khulna</td>\n",
       "      <td>bat first</td>\n",
       "      <td>Chittagong</td>\n",
       "      <td>...</td>\n",
       "      <td>Mirpur</td>\n",
       "      <td>6</td>\n",
       "      <td>0</td>\n",
       "      <td>6 wickets</td>\n",
       "      <td>David Orchard</td>\n",
       "      <td>Enamul Haque</td>\n",
       "      <td>171</td>\n",
       "      <td>3</td>\n",
       "      <td>174</td>\n",
       "      <td>4</td>\n",
       "    </tr>\n",
       "    <tr>\n",
       "      <th>5</th>\n",
       "      <td>31</td>\n",
       "      <td>2011/12</td>\n",
       "      <td>2nd</td>\n",
       "      <td>Feb 10 2012</td>\n",
       "      <td>Chittagong</td>\n",
       "      <td>Rajshahi</td>\n",
       "      <td>Dwayne Bravo</td>\n",
       "      <td>Chittagong</td>\n",
       "      <td>bat first</td>\n",
       "      <td>Chittagong</td>\n",
       "      <td>...</td>\n",
       "      <td>Mirpur</td>\n",
       "      <td>0</td>\n",
       "      <td>53</td>\n",
       "      <td>53 runs</td>\n",
       "      <td>Jeremy Lloyds</td>\n",
       "      <td>Sharfuddoula</td>\n",
       "      <td>206</td>\n",
       "      <td>4</td>\n",
       "      <td>153</td>\n",
       "      <td>0</td>\n",
       "    </tr>\n",
       "    <tr>\n",
       "      <th>7</th>\n",
       "      <td>27</td>\n",
       "      <td>2011/12</td>\n",
       "      <td>6th</td>\n",
       "      <td>Feb 12 2012</td>\n",
       "      <td>Sylhet</td>\n",
       "      <td>Dhaka</td>\n",
       "      <td>Anamul Haque</td>\n",
       "      <td>Sylhet</td>\n",
       "      <td>bat first</td>\n",
       "      <td>Dhaka</td>\n",
       "      <td>...</td>\n",
       "      <td>Mirpur</td>\n",
       "      <td>7</td>\n",
       "      <td>0</td>\n",
       "      <td>7 wickets</td>\n",
       "      <td>Jeremy Lloyds</td>\n",
       "      <td>Sharfuddoula</td>\n",
       "      <td>124</td>\n",
       "      <td>0</td>\n",
       "      <td>126</td>\n",
       "      <td>3</td>\n",
       "    </tr>\n",
       "    <tr>\n",
       "      <th>...</th>\n",
       "      <td>...</td>\n",
       "      <td>...</td>\n",
       "      <td>...</td>\n",
       "      <td>...</td>\n",
       "      <td>...</td>\n",
       "      <td>...</td>\n",
       "      <td>...</td>\n",
       "      <td>...</td>\n",
       "      <td>...</td>\n",
       "      <td>...</td>\n",
       "      <td>...</td>\n",
       "      <td>...</td>\n",
       "      <td>...</td>\n",
       "      <td>...</td>\n",
       "      <td>...</td>\n",
       "      <td>...</td>\n",
       "      <td>...</td>\n",
       "      <td>...</td>\n",
       "      <td>...</td>\n",
       "      <td>...</td>\n",
       "      <td>...</td>\n",
       "    </tr>\n",
       "    <tr>\n",
       "      <th>302</th>\n",
       "      <td>10</td>\n",
       "      <td>2011/12</td>\n",
       "      <td>23rd</td>\n",
       "      <td>Feb 24 2012</td>\n",
       "      <td>Chittagong</td>\n",
       "      <td>Dhaka</td>\n",
       "      <td>Dwayne Bravo</td>\n",
       "      <td>Dhaka</td>\n",
       "      <td>field first</td>\n",
       "      <td>Chittagong</td>\n",
       "      <td>...</td>\n",
       "      <td>Mirpur</td>\n",
       "      <td>0</td>\n",
       "      <td>13</td>\n",
       "      <td>13 runs</td>\n",
       "      <td>David Orchard</td>\n",
       "      <td>Nadir Shah</td>\n",
       "      <td>120</td>\n",
       "      <td>6</td>\n",
       "      <td>107</td>\n",
       "      <td>9</td>\n",
       "    </tr>\n",
       "    <tr>\n",
       "      <th>305</th>\n",
       "      <td>7</td>\n",
       "      <td>2011/12</td>\n",
       "      <td>26th</td>\n",
       "      <td>Feb 25 2012</td>\n",
       "      <td>Sylhet</td>\n",
       "      <td>Chittagong</td>\n",
       "      <td>Peter Trego</td>\n",
       "      <td>Chittagong</td>\n",
       "      <td>field first</td>\n",
       "      <td>Sylhet</td>\n",
       "      <td>...</td>\n",
       "      <td>Mirpur</td>\n",
       "      <td>0</td>\n",
       "      <td>35</td>\n",
       "      <td>35 runs</td>\n",
       "      <td>David Orchard</td>\n",
       "      <td>Masudur Rahman</td>\n",
       "      <td>165</td>\n",
       "      <td>3</td>\n",
       "      <td>130</td>\n",
       "      <td>8</td>\n",
       "    </tr>\n",
       "    <tr>\n",
       "      <th>306</th>\n",
       "      <td>6</td>\n",
       "      <td>2011/12</td>\n",
       "      <td>27th</td>\n",
       "      <td>Feb 26 2012</td>\n",
       "      <td>Khulna</td>\n",
       "      <td>Rajshahi</td>\n",
       "      <td>Sean Ervine</td>\n",
       "      <td>Khulna</td>\n",
       "      <td>bat first</td>\n",
       "      <td>Rajshahi</td>\n",
       "      <td>...</td>\n",
       "      <td>Mirpur</td>\n",
       "      <td>8</td>\n",
       "      <td>0</td>\n",
       "      <td>8 wickets</td>\n",
       "      <td>David Orchard</td>\n",
       "      <td>Nadir Shah</td>\n",
       "      <td>106</td>\n",
       "      <td>0</td>\n",
       "      <td>110</td>\n",
       "      <td>2</td>\n",
       "    </tr>\n",
       "    <tr>\n",
       "      <th>308</th>\n",
       "      <td>4</td>\n",
       "      <td>2011/12</td>\n",
       "      <td>29th</td>\n",
       "      <td>Feb 27 2012</td>\n",
       "      <td>Dhaka</td>\n",
       "      <td>Rajshahi</td>\n",
       "      <td>Mohammad Sami</td>\n",
       "      <td>Dhaka</td>\n",
       "      <td>bat first</td>\n",
       "      <td>Rajshahi</td>\n",
       "      <td>...</td>\n",
       "      <td>Mirpur</td>\n",
       "      <td>3</td>\n",
       "      <td>0</td>\n",
       "      <td>3 wickets</td>\n",
       "      <td>Mahfuzur Rahman</td>\n",
       "      <td>Nadir Shah</td>\n",
       "      <td>116</td>\n",
       "      <td>0</td>\n",
       "      <td>120</td>\n",
       "      <td>7</td>\n",
       "    </tr>\n",
       "    <tr>\n",
       "      <th>310</th>\n",
       "      <td>1</td>\n",
       "      <td>2011/12</td>\n",
       "      <td>2nd</td>\n",
       "      <td>Feb 28 2012</td>\n",
       "      <td>Dhaka</td>\n",
       "      <td>Khulna</td>\n",
       "      <td>Azhar Mahmood</td>\n",
       "      <td>Dhaka</td>\n",
       "      <td>bat first</td>\n",
       "      <td>Dhaka</td>\n",
       "      <td>...</td>\n",
       "      <td>Mirpur</td>\n",
       "      <td>0</td>\n",
       "      <td>9</td>\n",
       "      <td>9 runs</td>\n",
       "      <td>Enamul Haque</td>\n",
       "      <td>Nadir Shah</td>\n",
       "      <td>191</td>\n",
       "      <td>4</td>\n",
       "      <td>182</td>\n",
       "      <td>7</td>\n",
       "    </tr>\n",
       "  </tbody>\n",
       "</table>\n",
       "<p>218 rows × 21 columns</p>\n",
       "</div>"
      ],
      "text/plain": [
       "     id   season match_no         date      team_1      team_2  \\\n",
       "1    30  2011/12      3rd  Feb 11 2012      Khulna       Dhaka   \n",
       "3    29  2011/12      4th  Feb 11 2012    Barishal    Rajshahi   \n",
       "4    28  2011/12      5th  Feb 12 2012      Khulna  Chittagong   \n",
       "5    31  2011/12      2nd  Feb 10 2012  Chittagong    Rajshahi   \n",
       "7    27  2011/12      6th  Feb 12 2012      Sylhet       Dhaka   \n",
       "..   ..      ...      ...          ...         ...         ...   \n",
       "302  10  2011/12     23rd  Feb 24 2012  Chittagong       Dhaka   \n",
       "305   7  2011/12     26th  Feb 25 2012      Sylhet  Chittagong   \n",
       "306   6  2011/12     27th  Feb 26 2012      Khulna    Rajshahi   \n",
       "308   4  2011/12     29th  Feb 27 2012       Dhaka    Rajshahi   \n",
       "310   1  2011/12      2nd  Feb 28 2012       Dhaka      Khulna   \n",
       "\n",
       "    player_of_match toss_winner toss_decision      winner  ...    city  \\\n",
       "1     Andre Russell      Khulna     bat first      Khulna  ...  Mirpur   \n",
       "3     Ahmed Shehzad    Barishal     bat first    Barishal  ...  Mirpur   \n",
       "4     Nasir Jamshed      Khulna     bat first  Chittagong  ...  Mirpur   \n",
       "5      Dwayne Bravo  Chittagong     bat first  Chittagong  ...  Mirpur   \n",
       "7      Anamul Haque      Sylhet     bat first       Dhaka  ...  Mirpur   \n",
       "..              ...         ...           ...         ...  ...     ...   \n",
       "302    Dwayne Bravo       Dhaka   field first  Chittagong  ...  Mirpur   \n",
       "305     Peter Trego  Chittagong   field first      Sylhet  ...  Mirpur   \n",
       "306     Sean Ervine      Khulna     bat first    Rajshahi  ...  Mirpur   \n",
       "308   Mohammad Sami       Dhaka     bat first    Rajshahi  ...  Mirpur   \n",
       "310   Azhar Mahmood       Dhaka     bat first       Dhaka  ...  Mirpur   \n",
       "\n",
       "    win_by_wickets  win_by_runs     result         umpire_1        umpire_2  \\\n",
       "1                0           19    19 runs    Jeremy Lloyds    Sharfuddoula   \n",
       "3                0           22    22 runs    David Orchard      Gazi Sohel   \n",
       "4                6            0  6 wickets    David Orchard    Enamul Haque   \n",
       "5                0           53    53 runs    Jeremy Lloyds    Sharfuddoula   \n",
       "7                7            0  7 wickets    Jeremy Lloyds    Sharfuddoula   \n",
       "..             ...          ...        ...              ...             ...   \n",
       "302              0           13    13 runs    David Orchard      Nadir Shah   \n",
       "305              0           35    35 runs    David Orchard  Masudur Rahman   \n",
       "306              8            0  8 wickets    David Orchard      Nadir Shah   \n",
       "308              3            0  3 wickets  Mahfuzur Rahman      Nadir Shah   \n",
       "310              0            9     9 runs     Enamul Haque      Nadir Shah   \n",
       "\n",
       "    team_1_run  team_1_wicket  team_2_run  team_2_wicket  \n",
       "1          175              5         156              7  \n",
       "3          180              2         158              9  \n",
       "4          171              3         174              4  \n",
       "5          206              4         153              0  \n",
       "7          124              0         126              3  \n",
       "..         ...            ...         ...            ...  \n",
       "302        120              6         107              9  \n",
       "305        165              3         130              8  \n",
       "306        106              0         110              2  \n",
       "308        116              0         120              7  \n",
       "310        191              4         182              7  \n",
       "\n",
       "[218 rows x 21 columns]"
      ]
     },
     "execution_count": 59,
     "metadata": {},
     "output_type": "execute_result"
    }
   ],
   "source": [
    "bpl[(bpl['toss_decision'] == 'bat first') | (bpl['toss_decision'] == 'field first') & (bpl['toss_winner'] != bpl['winner'])]"
   ]
  },
  {
   "cell_type": "code",
   "execution_count": 60,
   "id": "484b2f92",
   "metadata": {
    "execution": {
     "iopub.execute_input": "2022-02-10T01:20:13.706480Z",
     "iopub.status.busy": "2022-02-10T01:20:13.705945Z",
     "iopub.status.idle": "2022-02-10T01:20:13.709099Z",
     "shell.execute_reply": "2022-02-10T01:20:13.709463Z",
     "shell.execute_reply.started": "2022-02-10T01:08:31.311607Z"
    },
    "papermill": {
     "duration": 0.099875,
     "end_time": "2022-02-10T01:20:13.709628",
     "exception": false,
     "start_time": "2022-02-10T01:20:13.609753",
     "status": "completed"
    },
    "tags": []
   },
   "outputs": [
    {
     "data": {
      "text/plain": [
       "Dhaka         47\n",
       "Chittagong    45\n",
       "Rangpur       26\n",
       "Khulna        23\n",
       "Comilla       23\n",
       "Sylhet        23\n",
       "Barishal      18\n",
       "Rajshahi      11\n",
       "Match          2\n",
       "Name: winner, dtype: int64"
      ]
     },
     "execution_count": 60,
     "metadata": {},
     "output_type": "execute_result"
    }
   ],
   "source": [
    "bat_winner = bpl[(bpl['toss_decision'] == 'bat first') | (bpl['toss_decision'] == 'field first') & (bpl['toss_winner'] != bpl['winner'])]['winner'].value_counts()\n",
    "bat_winner"
   ]
  },
  {
   "cell_type": "code",
   "execution_count": 61,
   "id": "7f35e2a5",
   "metadata": {
    "execution": {
     "iopub.execute_input": "2022-02-10T01:20:13.888107Z",
     "iopub.status.busy": "2022-02-10T01:20:13.887371Z",
     "iopub.status.idle": "2022-02-10T01:20:13.893768Z",
     "shell.execute_reply": "2022-02-10T01:20:13.893314Z",
     "shell.execute_reply.started": "2022-02-10T01:08:31.323629Z"
    },
    "papermill": {
     "duration": 0.097708,
     "end_time": "2022-02-10T01:20:13.893891",
     "exception": false,
     "start_time": "2022-02-10T01:20:13.796183",
     "status": "completed"
    },
    "tags": []
   },
   "outputs": [
    {
     "data": {
      "text/plain": [
       "Chittagong    60\n",
       "Dhaka         58\n",
       "Comilla       41\n",
       "Rangpur       40\n",
       "Khulna        36\n",
       "Sylhet        35\n",
       "Barishal      27\n",
       "Rajshahi      12\n",
       "Match          2\n",
       "Name: winner, dtype: int64"
      ]
     },
     "execution_count": 61,
     "metadata": {},
     "output_type": "execute_result"
    }
   ],
   "source": [
    "matches_number =  bpl[bpl.winner != 'Nan'].winner.value_counts()\n",
    "matches_number"
   ]
  },
  {
   "cell_type": "code",
   "execution_count": 62,
   "id": "c03ced1e",
   "metadata": {
    "execution": {
     "iopub.execute_input": "2022-02-10T01:20:14.073937Z",
     "iopub.status.busy": "2022-02-10T01:20:14.073341Z",
     "iopub.status.idle": "2022-02-10T01:20:14.076527Z",
     "shell.execute_reply": "2022-02-10T01:20:14.077122Z",
     "shell.execute_reply.started": "2022-02-10T01:08:31.337200Z"
    },
    "papermill": {
     "duration": 0.096373,
     "end_time": "2022-02-10T01:20:14.077309",
     "exception": false,
     "start_time": "2022-02-10T01:20:13.980936",
     "status": "completed"
    },
    "tags": []
   },
   "outputs": [
    {
     "name": "stdout",
     "output_type": "stream",
     "text": [
      "All matches 311 \n",
      "bat first and won 218 \n",
      "field first and won 93\n"
     ]
    }
   ],
   "source": [
    "field_winner = matches_number.sum() - bat_winner.sum()\n",
    "print(f'All matches {matches_number.sum()} \\nbat first and won {bat_winner.sum()} \\nfield first and won {field_winner}')"
   ]
  },
  {
   "cell_type": "code",
   "execution_count": 63,
   "id": "74804241",
   "metadata": {
    "execution": {
     "iopub.execute_input": "2022-02-10T01:20:14.271751Z",
     "iopub.status.busy": "2022-02-10T01:20:14.270895Z",
     "iopub.status.idle": "2022-02-10T01:20:14.345312Z",
     "shell.execute_reply": "2022-02-10T01:20:14.346463Z",
     "shell.execute_reply.started": "2022-02-10T01:08:31.345467Z"
    },
    "papermill": {
     "duration": 0.180948,
     "end_time": "2022-02-10T01:20:14.346708",
     "exception": false,
     "start_time": "2022-02-10T01:20:14.165760",
     "status": "completed"
    },
    "tags": []
   },
   "outputs": [
    {
     "data": {
      "image/png": "[encoded data removed]",
      "text/plain": [
       "<Figure size 432x288 with 1 Axes>"
      ]
     },
     "metadata": {},
     "output_type": "display_data"
    }
   ],
   "source": [
    "data = [bat_winner.sum(), field_winner]\n",
    "labels = ['Bat first', 'field first']\n",
    "plt.title('Bat first vs Field first')\n",
    "colors = sns.color_palette('pastel')\n",
    "\n",
    "plt.pie(data, labels = labels, colors = colors, autopct='%.0f%%')\n",
    "plt.show()"
   ]
  },
  {
   "cell_type": "code",
   "execution_count": 64,
   "id": "8e080aaa",
   "metadata": {
    "execution": {
     "iopub.execute_input": "2022-02-10T01:20:14.600765Z",
     "iopub.status.busy": "2022-02-10T01:20:14.589337Z",
     "iopub.status.idle": "2022-02-10T01:20:14.708952Z",
     "shell.execute_reply": "2022-02-10T01:20:14.709607Z",
     "shell.execute_reply.started": "2022-02-10T01:08:31.435235Z"
    },
    "papermill": {
     "duration": 0.226504,
     "end_time": "2022-02-10T01:20:14.709876",
     "exception": false,
     "start_time": "2022-02-10T01:20:14.483372",
     "status": "completed"
    },
    "tags": []
   },
   "outputs": [
    {
     "data": {
      "text/plain": [
       "<AxesSubplot:>"
      ]
     },
     "execution_count": 64,
     "metadata": {},
     "output_type": "execute_result"
    },
    {
     "data": {
      "image/png": "[encoded data removed]",
      "text/plain": [
       "<Figure size 432x288 with 1 Axes>"
      ]
     },
     "metadata": {
      "needs_background": "light"
     },
     "output_type": "display_data"
    }
   ],
   "source": [
    "sns.barplot(y=data, x=labels)"
   ]
  },
  {
   "cell_type": "markdown",
   "id": "b1ba6aea",
   "metadata": {
    "papermill": {
     "duration": 0.087567,
     "end_time": "2022-02-10T01:20:14.904695",
     "exception": false,
     "start_time": "2022-02-10T01:20:14.817128",
     "status": "completed"
    },
    "tags": []
   },
   "source": [
    "### top ten wickets taken bowler"
   ]
  },
  {
   "cell_type": "code",
   "execution_count": 65,
   "id": "9aa74caf",
   "metadata": {
    "execution": {
     "iopub.execute_input": "2022-02-10T01:20:15.094512Z",
     "iopub.status.busy": "2022-02-10T01:20:15.085639Z",
     "iopub.status.idle": "2022-02-10T01:20:15.099697Z",
     "shell.execute_reply": "2022-02-10T01:20:15.099177Z",
     "shell.execute_reply.started": "2022-02-10T01:08:31.579606Z"
    },
    "papermill": {
     "duration": 0.106678,
     "end_time": "2022-02-10T01:20:15.099819",
     "exception": false,
     "start_time": "2022-02-10T01:20:14.993141",
     "status": "completed"
    },
    "tags": []
   },
   "outputs": [
    {
     "data": {
      "text/html": [
       "<div>\n",
       "<style scoped>\n",
       "    .dataframe tbody tr th:only-of-type {\n",
       "        vertical-align: middle;\n",
       "    }\n",
       "\n",
       "    .dataframe tbody tr th {\n",
       "        vertical-align: top;\n",
       "    }\n",
       "\n",
       "    .dataframe thead th {\n",
       "        text-align: right;\n",
       "    }\n",
       "</style>\n",
       "<table border=\"1\" class=\"dataframe\">\n",
       "  <thead>\n",
       "    <tr style=\"text-align: right;\">\n",
       "      <th></th>\n",
       "      <th>id</th>\n",
       "      <th>season</th>\n",
       "      <th>match_no</th>\n",
       "      <th>date</th>\n",
       "      <th>player_name</th>\n",
       "      <th>O</th>\n",
       "      <th>M</th>\n",
       "      <th>R</th>\n",
       "      <th>W</th>\n",
       "      <th>ECON</th>\n",
       "      <th>WD</th>\n",
       "      <th>NB</th>\n",
       "    </tr>\n",
       "  </thead>\n",
       "  <tbody>\n",
       "    <tr>\n",
       "      <th>0</th>\n",
       "      <td>0</td>\n",
       "      <td>2011/12</td>\n",
       "      <td>Final</td>\n",
       "      <td>Feb 29 2012</td>\n",
       "      <td>Mashrafe Mortaza</td>\n",
       "      <td>2.0</td>\n",
       "      <td>0</td>\n",
       "      <td>17</td>\n",
       "      <td>0</td>\n",
       "      <td>8.50</td>\n",
       "      <td>0</td>\n",
       "      <td>0</td>\n",
       "    </tr>\n",
       "    <tr>\n",
       "      <th>1</th>\n",
       "      <td>0</td>\n",
       "      <td>2011/12</td>\n",
       "      <td>Final</td>\n",
       "      <td>Feb 29 2012</td>\n",
       "      <td>Azhar Mahmood</td>\n",
       "      <td>2.0</td>\n",
       "      <td>0</td>\n",
       "      <td>25</td>\n",
       "      <td>0</td>\n",
       "      <td>12.50</td>\n",
       "      <td>0</td>\n",
       "      <td>1</td>\n",
       "    </tr>\n",
       "    <tr>\n",
       "      <th>2</th>\n",
       "      <td>32</td>\n",
       "      <td>2011/12</td>\n",
       "      <td>1st</td>\n",
       "      <td>Feb 10 2012</td>\n",
       "      <td>Yasir Arafat</td>\n",
       "      <td>4.0</td>\n",
       "      <td>0</td>\n",
       "      <td>33</td>\n",
       "      <td>2</td>\n",
       "      <td>8.25</td>\n",
       "      <td>2</td>\n",
       "      <td>0</td>\n",
       "    </tr>\n",
       "    <tr>\n",
       "      <th>3</th>\n",
       "      <td>29</td>\n",
       "      <td>2011/12</td>\n",
       "      <td>4th</td>\n",
       "      <td>Feb 11 2012</td>\n",
       "      <td>Syed Rasel</td>\n",
       "      <td>3.0</td>\n",
       "      <td>0</td>\n",
       "      <td>33</td>\n",
       "      <td>0</td>\n",
       "      <td>11.00</td>\n",
       "      <td>2</td>\n",
       "      <td>0</td>\n",
       "    </tr>\n",
       "    <tr>\n",
       "      <th>4</th>\n",
       "      <td>28</td>\n",
       "      <td>2011/12</td>\n",
       "      <td>5th</td>\n",
       "      <td>Feb 12 2012</td>\n",
       "      <td>Dwayne Bravo</td>\n",
       "      <td>4.0</td>\n",
       "      <td>0</td>\n",
       "      <td>34</td>\n",
       "      <td>1</td>\n",
       "      <td>8.50</td>\n",
       "      <td>3</td>\n",
       "      <td>1</td>\n",
       "    </tr>\n",
       "  </tbody>\n",
       "</table>\n",
       "</div>"
      ],
      "text/plain": [
       "   id   season match_no         date       player_name    O  M   R  W   ECON  \\\n",
       "0   0  2011/12    Final  Feb 29 2012  Mashrafe Mortaza  2.0  0  17  0   8.50   \n",
       "1   0  2011/12    Final  Feb 29 2012     Azhar Mahmood  2.0  0  25  0  12.50   \n",
       "2  32  2011/12      1st  Feb 10 2012      Yasir Arafat  4.0  0  33  2   8.25   \n",
       "3  29  2011/12      4th  Feb 11 2012        Syed Rasel  3.0  0  33  0  11.00   \n",
       "4  28  2011/12      5th  Feb 12 2012      Dwayne Bravo  4.0  0  34  1   8.50   \n",
       "\n",
       "   WD  NB  \n",
       "0   0   0  \n",
       "1   0   1  \n",
       "2   2   0  \n",
       "3   2   0  \n",
       "4   3   1  "
      ]
     },
     "execution_count": 65,
     "metadata": {},
     "output_type": "execute_result"
    }
   ],
   "source": [
    "bowler.head()"
   ]
  },
  {
   "cell_type": "code",
   "execution_count": 66,
   "id": "96167c69",
   "metadata": {
    "execution": {
     "iopub.execute_input": "2022-02-10T01:20:15.285866Z",
     "iopub.status.busy": "2022-02-10T01:20:15.284471Z",
     "iopub.status.idle": "2022-02-10T01:20:15.293749Z",
     "shell.execute_reply": "2022-02-10T01:20:15.293282Z",
     "shell.execute_reply.started": "2022-02-10T01:08:31.600755Z"
    },
    "papermill": {
     "duration": 0.105153,
     "end_time": "2022-02-10T01:20:15.293881",
     "exception": false,
     "start_time": "2022-02-10T01:20:15.188728",
     "status": "completed"
    },
    "tags": []
   },
   "outputs": [
    {
     "data": {
      "text/plain": [
       "player_name\n",
       "Shakib Al Hasan      116\n",
       "Rubel Hossain         95\n",
       "Mashrafe Mortaza      84\n",
       "Taskin Ahmed          79\n",
       "Shafiul Islam         78\n",
       "Farhad Reza           68\n",
       "Arafat Sunny          66\n",
       "Kevon Cooper          63\n",
       "Mustafizur Rahman     61\n",
       "Mohammad Nabi         61\n",
       "Name: W, dtype: int64"
      ]
     },
     "execution_count": 66,
     "metadata": {},
     "output_type": "execute_result"
    }
   ],
   "source": [
    "top_bowlers = bowler.groupby(['player_name']).sum().sort_values('W', ascending=False)\n",
    "top_bowlers.head(10)['W']"
   ]
  },
  {
   "cell_type": "code",
   "execution_count": 67,
   "id": "b51cb4e2",
   "metadata": {
    "execution": {
     "iopub.execute_input": "2022-02-10T01:20:15.497505Z",
     "iopub.status.busy": "2022-02-10T01:20:15.496668Z",
     "iopub.status.idle": "2022-02-10T01:20:15.694356Z",
     "shell.execute_reply": "2022-02-10T01:20:15.694895Z",
     "shell.execute_reply.started": "2022-02-10T01:08:31.620132Z"
    },
    "papermill": {
     "duration": 0.310085,
     "end_time": "2022-02-10T01:20:15.695051",
     "exception": false,
     "start_time": "2022-02-10T01:20:15.384966",
     "status": "completed"
    },
    "tags": []
   },
   "outputs": [
    {
     "data": {
      "image/png": "[encoded data removed]",
      "text/plain": [
       "<Figure size 720x288 with 1 Axes>"
      ]
     },
     "metadata": {
      "needs_background": "light"
     },
     "output_type": "display_data"
    }
   ],
   "source": [
    "plt.figure(figsize= (10,4))\n",
    "sns.barplot(x=top_bowlers.head(10)['W'], y=top_bowlers.head(10)['W'].keys())\n",
    "plt.grid()\n",
    "plt.show()"
   ]
  },
  {
   "cell_type": "markdown",
   "id": "5a2f4a3b",
   "metadata": {
    "papermill": {
     "duration": 0.089875,
     "end_time": "2022-02-10T01:20:15.875400",
     "exception": false,
     "start_time": "2022-02-10T01:20:15.785525",
     "status": "completed"
    },
    "tags": []
   },
   "source": [
    "### Top ten batsman in run"
   ]
  },
  {
   "cell_type": "code",
   "execution_count": 68,
   "id": "018f25e4",
   "metadata": {
    "execution": {
     "iopub.execute_input": "2022-02-10T01:20:16.062622Z",
     "iopub.status.busy": "2022-02-10T01:20:16.061829Z",
     "iopub.status.idle": "2022-02-10T01:20:16.070303Z",
     "shell.execute_reply": "2022-02-10T01:20:16.070737Z",
     "shell.execute_reply.started": "2022-02-10T01:08:31.845363Z"
    },
    "papermill": {
     "duration": 0.104709,
     "end_time": "2022-02-10T01:20:16.070883",
     "exception": false,
     "start_time": "2022-02-10T01:20:15.966174",
     "status": "completed"
    },
    "tags": []
   },
   "outputs": [
    {
     "data": {
      "text/plain": [
       "player_name\n",
       "Tamim Iqbal        2483\n",
       "Mushfiqur Rahim    2408\n",
       "Mahmudullah        2014\n",
       "Imrul Kayes        1909\n",
       "Sabbir Rahman      1710\n",
       "Anamul Haque       1676\n",
       "Mohammad Mithun    1627\n",
       "Shakib Al Hasan    1620\n",
       "Chris Gayle        1599\n",
       "Mominul Haque      1327\n",
       "Name: R, dtype: int64"
      ]
     },
     "execution_count": 68,
     "metadata": {},
     "output_type": "execute_result"
    }
   ],
   "source": [
    "top_batsmans = batsman.groupby(['player_name']).sum().sort_values('R', ascending=False)\n",
    "top_batsmans.head(10)['R']"
   ]
  },
  {
   "cell_type": "code",
   "execution_count": 69,
   "id": "905f793b",
   "metadata": {
    "execution": {
     "iopub.execute_input": "2022-02-10T01:20:16.385367Z",
     "iopub.status.busy": "2022-02-10T01:20:16.381372Z",
     "iopub.status.idle": "2022-02-10T01:20:16.580890Z",
     "shell.execute_reply": "2022-02-10T01:20:16.580322Z",
     "shell.execute_reply.started": "2022-02-10T01:08:31.861849Z"
    },
    "papermill": {
     "duration": 0.419678,
     "end_time": "2022-02-10T01:20:16.581025",
     "exception": false,
     "start_time": "2022-02-10T01:20:16.161347",
     "status": "completed"
    },
    "tags": []
   },
   "outputs": [
    {
     "data": {
      "image/png": "[encoded data removed]",
      "text/plain": [
       "<Figure size 720x288 with 1 Axes>"
      ]
     },
     "metadata": {
      "needs_background": "light"
     },
     "output_type": "display_data"
    }
   ],
   "source": [
    "plt.figure(figsize= (10,4))\n",
    "sns.barplot(x=top_batsmans.head(10)['R'], y=top_batsmans.head(10)['R'].keys())\n",
    "plt.grid()\n",
    "plt.show()"
   ]
  },
  {
   "cell_type": "markdown",
   "id": "1a78f1ff",
   "metadata": {
    "papermill": {
     "duration": 0.092106,
     "end_time": "2022-02-10T01:20:16.765523",
     "exception": false,
     "start_time": "2022-02-10T01:20:16.673417",
     "status": "completed"
    },
    "tags": []
   },
   "source": [
    "### Top ten sixers"
   ]
  },
  {
   "cell_type": "code",
   "execution_count": 70,
   "id": "f089aefe",
   "metadata": {
    "execution": {
     "iopub.execute_input": "2022-02-10T01:20:16.954420Z",
     "iopub.status.busy": "2022-02-10T01:20:16.953551Z",
     "iopub.status.idle": "2022-02-10T01:20:16.962447Z",
     "shell.execute_reply": "2022-02-10T01:20:16.962043Z",
     "shell.execute_reply.started": "2022-02-10T01:08:32.074324Z"
    },
    "papermill": {
     "duration": 0.10593,
     "end_time": "2022-02-10T01:20:16.962561",
     "exception": false,
     "start_time": "2022-02-10T01:20:16.856631",
     "status": "completed"
    },
    "tags": []
   },
   "outputs": [
    {
     "data": {
      "text/plain": [
       "player_name\n",
       "Chris Gayle        139\n",
       "Tamim Iqbal         80\n",
       "Imrul Kayes         80\n",
       "Mushfiqur Rahim     75\n",
       "Mahmudullah         74\n",
       "Sabbir Rahman       70\n",
       "Andre Russell       67\n",
       "Mohammad Mithun     61\n",
       "Anamul Haque        58\n",
       "Evin Lewis          57\n",
       "Name: sixs, dtype: int64"
      ]
     },
     "execution_count": 70,
     "metadata": {},
     "output_type": "execute_result"
    }
   ],
   "source": [
    "top_sixers = batsman.groupby(['player_name']).sum().sort_values('sixs', ascending=False)\n",
    "top_sixers.head(10)['sixs']"
   ]
  },
  {
   "cell_type": "code",
   "execution_count": 71,
   "id": "5e1e0677",
   "metadata": {
    "execution": {
     "iopub.execute_input": "2022-02-10T01:20:17.162655Z",
     "iopub.status.busy": "2022-02-10T01:20:17.150020Z",
     "iopub.status.idle": "2022-02-10T01:20:17.366260Z",
     "shell.execute_reply": "2022-02-10T01:20:17.366726Z",
     "shell.execute_reply.started": "2022-02-10T01:08:32.089144Z"
    },
    "papermill": {
     "duration": 0.313556,
     "end_time": "2022-02-10T01:20:17.366915",
     "exception": false,
     "start_time": "2022-02-10T01:20:17.053359",
     "status": "completed"
    },
    "tags": []
   },
   "outputs": [
    {
     "data": {
      "image/png": "[encoded data removed]",
      "text/plain": [
       "<Figure size 720x288 with 1 Axes>"
      ]
     },
     "metadata": {
      "needs_background": "light"
     },
     "output_type": "display_data"
    }
   ],
   "source": [
    "plt.figure(figsize= (10,4))\n",
    "sns.barplot(x=top_sixers.head(10)['sixs'], y=top_sixers.head(10)['sixs'].keys())\n",
    "plt.grid()\n",
    "plt.show()"
   ]
  },
  {
   "cell_type": "markdown",
   "id": "f4ee43cf",
   "metadata": {
    "papermill": {
     "duration": 0.091175,
     "end_time": "2022-02-10T01:20:17.550267",
     "exception": false,
     "start_time": "2022-02-10T01:20:17.459092",
     "status": "completed"
    },
    "tags": []
   },
   "source": [
    "## Data Preparation for BPL Match prediction"
   ]
  },
  {
   "cell_type": "code",
   "execution_count": 72,
   "id": "e490a77b",
   "metadata": {
    "execution": {
     "iopub.execute_input": "2022-02-10T01:20:17.739638Z",
     "iopub.status.busy": "2022-02-10T01:20:17.739004Z",
     "iopub.status.idle": "2022-02-10T01:20:17.871442Z",
     "shell.execute_reply": "2022-02-10T01:20:17.870435Z",
     "shell.execute_reply.started": "2022-02-10T01:08:32.310856Z"
    },
    "papermill": {
     "duration": 0.2288,
     "end_time": "2022-02-10T01:20:17.871610",
     "exception": false,
     "start_time": "2022-02-10T01:20:17.642810",
     "status": "completed"
    },
    "tags": []
   },
   "outputs": [],
   "source": [
    "from sklearn.model_selection import train_test_split\n",
    "from sklearn.model_selection import GridSearchCV\n",
    "from sklearn.metrics import accuracy_score\n",
    "from sklearn.preprocessing import LabelEncoder"
   ]
  },
  {
   "cell_type": "code",
   "execution_count": 73,
   "id": "b1372cef",
   "metadata": {
    "execution": {
     "iopub.execute_input": "2022-02-10T01:20:18.083505Z",
     "iopub.status.busy": "2022-02-10T01:20:18.073531Z",
     "iopub.status.idle": "2022-02-10T01:20:18.086647Z",
     "shell.execute_reply": "2022-02-10T01:20:18.087033Z",
     "shell.execute_reply.started": "2022-02-10T01:08:32.319232Z"
    },
    "papermill": {
     "duration": 0.123375,
     "end_time": "2022-02-10T01:20:18.087176",
     "exception": false,
     "start_time": "2022-02-10T01:20:17.963801",
     "status": "completed"
    },
    "tags": []
   },
   "outputs": [
    {
     "data": {
      "text/html": [
       "<div>\n",
       "<style scoped>\n",
       "    .dataframe tbody tr th:only-of-type {\n",
       "        vertical-align: middle;\n",
       "    }\n",
       "\n",
       "    .dataframe tbody tr th {\n",
       "        vertical-align: top;\n",
       "    }\n",
       "\n",
       "    .dataframe thead th {\n",
       "        text-align: right;\n",
       "    }\n",
       "</style>\n",
       "<table border=\"1\" class=\"dataframe\">\n",
       "  <thead>\n",
       "    <tr style=\"text-align: right;\">\n",
       "      <th></th>\n",
       "      <th>id</th>\n",
       "      <th>season</th>\n",
       "      <th>match_no</th>\n",
       "      <th>date</th>\n",
       "      <th>team_1</th>\n",
       "      <th>team_2</th>\n",
       "      <th>player_of_match</th>\n",
       "      <th>toss_winner</th>\n",
       "      <th>toss_decision</th>\n",
       "      <th>winner</th>\n",
       "      <th>...</th>\n",
       "      <th>city</th>\n",
       "      <th>win_by_wickets</th>\n",
       "      <th>win_by_runs</th>\n",
       "      <th>result</th>\n",
       "      <th>umpire_1</th>\n",
       "      <th>umpire_2</th>\n",
       "      <th>team_1_run</th>\n",
       "      <th>team_1_wicket</th>\n",
       "      <th>team_2_run</th>\n",
       "      <th>team_2_wicket</th>\n",
       "    </tr>\n",
       "  </thead>\n",
       "  <tbody>\n",
       "    <tr>\n",
       "      <th>0</th>\n",
       "      <td>0</td>\n",
       "      <td>2011/12</td>\n",
       "      <td>Final</td>\n",
       "      <td>Feb 29 2012</td>\n",
       "      <td>Barishal</td>\n",
       "      <td>Dhaka</td>\n",
       "      <td>Imran Nazir</td>\n",
       "      <td>Dhaka</td>\n",
       "      <td>field first</td>\n",
       "      <td>Dhaka</td>\n",
       "      <td>...</td>\n",
       "      <td>Mirpur</td>\n",
       "      <td>8</td>\n",
       "      <td>0</td>\n",
       "      <td>8 wickets</td>\n",
       "      <td>David Orchard</td>\n",
       "      <td>Enamul Haque</td>\n",
       "      <td>140</td>\n",
       "      <td>7</td>\n",
       "      <td>144</td>\n",
       "      <td>2</td>\n",
       "    </tr>\n",
       "    <tr>\n",
       "      <th>1</th>\n",
       "      <td>30</td>\n",
       "      <td>2011/12</td>\n",
       "      <td>3rd</td>\n",
       "      <td>Feb 11 2012</td>\n",
       "      <td>Khulna</td>\n",
       "      <td>Dhaka</td>\n",
       "      <td>Andre Russell</td>\n",
       "      <td>Khulna</td>\n",
       "      <td>bat first</td>\n",
       "      <td>Khulna</td>\n",
       "      <td>...</td>\n",
       "      <td>Mirpur</td>\n",
       "      <td>0</td>\n",
       "      <td>19</td>\n",
       "      <td>19 runs</td>\n",
       "      <td>Jeremy Lloyds</td>\n",
       "      <td>Sharfuddoula</td>\n",
       "      <td>175</td>\n",
       "      <td>5</td>\n",
       "      <td>156</td>\n",
       "      <td>7</td>\n",
       "    </tr>\n",
       "    <tr>\n",
       "      <th>2</th>\n",
       "      <td>26</td>\n",
       "      <td>2011/12</td>\n",
       "      <td>7th</td>\n",
       "      <td>Feb 13 2012</td>\n",
       "      <td>Barishal</td>\n",
       "      <td>Khulna</td>\n",
       "      <td>Dwayne Smith</td>\n",
       "      <td>Khulna</td>\n",
       "      <td>field first</td>\n",
       "      <td>Khulna</td>\n",
       "      <td>...</td>\n",
       "      <td>Mirpur</td>\n",
       "      <td>7</td>\n",
       "      <td>0</td>\n",
       "      <td>7 wickets</td>\n",
       "      <td>Enamul Haque</td>\n",
       "      <td>Jeremy Lloyds</td>\n",
       "      <td>125</td>\n",
       "      <td>0</td>\n",
       "      <td>131</td>\n",
       "      <td>3</td>\n",
       "    </tr>\n",
       "    <tr>\n",
       "      <th>3</th>\n",
       "      <td>29</td>\n",
       "      <td>2011/12</td>\n",
       "      <td>4th</td>\n",
       "      <td>Feb 11 2012</td>\n",
       "      <td>Barishal</td>\n",
       "      <td>Rajshahi</td>\n",
       "      <td>Ahmed Shehzad</td>\n",
       "      <td>Barishal</td>\n",
       "      <td>bat first</td>\n",
       "      <td>Barishal</td>\n",
       "      <td>...</td>\n",
       "      <td>Mirpur</td>\n",
       "      <td>0</td>\n",
       "      <td>22</td>\n",
       "      <td>22 runs</td>\n",
       "      <td>David Orchard</td>\n",
       "      <td>Gazi Sohel</td>\n",
       "      <td>180</td>\n",
       "      <td>2</td>\n",
       "      <td>158</td>\n",
       "      <td>9</td>\n",
       "    </tr>\n",
       "    <tr>\n",
       "      <th>4</th>\n",
       "      <td>28</td>\n",
       "      <td>2011/12</td>\n",
       "      <td>5th</td>\n",
       "      <td>Feb 12 2012</td>\n",
       "      <td>Khulna</td>\n",
       "      <td>Chittagong</td>\n",
       "      <td>Nasir Jamshed</td>\n",
       "      <td>Khulna</td>\n",
       "      <td>bat first</td>\n",
       "      <td>Chittagong</td>\n",
       "      <td>...</td>\n",
       "      <td>Mirpur</td>\n",
       "      <td>6</td>\n",
       "      <td>0</td>\n",
       "      <td>6 wickets</td>\n",
       "      <td>David Orchard</td>\n",
       "      <td>Enamul Haque</td>\n",
       "      <td>171</td>\n",
       "      <td>3</td>\n",
       "      <td>174</td>\n",
       "      <td>4</td>\n",
       "    </tr>\n",
       "    <tr>\n",
       "      <th>...</th>\n",
       "      <td>...</td>\n",
       "      <td>...</td>\n",
       "      <td>...</td>\n",
       "      <td>...</td>\n",
       "      <td>...</td>\n",
       "      <td>...</td>\n",
       "      <td>...</td>\n",
       "      <td>...</td>\n",
       "      <td>...</td>\n",
       "      <td>...</td>\n",
       "      <td>...</td>\n",
       "      <td>...</td>\n",
       "      <td>...</td>\n",
       "      <td>...</td>\n",
       "      <td>...</td>\n",
       "      <td>...</td>\n",
       "      <td>...</td>\n",
       "      <td>...</td>\n",
       "      <td>...</td>\n",
       "      <td>...</td>\n",
       "      <td>...</td>\n",
       "    </tr>\n",
       "    <tr>\n",
       "      <th>306</th>\n",
       "      <td>6</td>\n",
       "      <td>2011/12</td>\n",
       "      <td>27th</td>\n",
       "      <td>Feb 26 2012</td>\n",
       "      <td>Khulna</td>\n",
       "      <td>Rajshahi</td>\n",
       "      <td>Sean Ervine</td>\n",
       "      <td>Khulna</td>\n",
       "      <td>bat first</td>\n",
       "      <td>Rajshahi</td>\n",
       "      <td>...</td>\n",
       "      <td>Mirpur</td>\n",
       "      <td>8</td>\n",
       "      <td>0</td>\n",
       "      <td>8 wickets</td>\n",
       "      <td>David Orchard</td>\n",
       "      <td>Nadir Shah</td>\n",
       "      <td>106</td>\n",
       "      <td>0</td>\n",
       "      <td>110</td>\n",
       "      <td>2</td>\n",
       "    </tr>\n",
       "    <tr>\n",
       "      <th>307</th>\n",
       "      <td>5</td>\n",
       "      <td>2011/12</td>\n",
       "      <td>28th</td>\n",
       "      <td>Feb 26 2012</td>\n",
       "      <td>Chittagong</td>\n",
       "      <td>Barishal</td>\n",
       "      <td>Brad Hodge</td>\n",
       "      <td>Barishal</td>\n",
       "      <td>field first</td>\n",
       "      <td>Barishal</td>\n",
       "      <td>...</td>\n",
       "      <td>Mirpur</td>\n",
       "      <td>5</td>\n",
       "      <td>0</td>\n",
       "      <td>5 wickets</td>\n",
       "      <td>Gazi Sohel</td>\n",
       "      <td>Jeremy Lloyds</td>\n",
       "      <td>150</td>\n",
       "      <td>9</td>\n",
       "      <td>151</td>\n",
       "      <td>5</td>\n",
       "    </tr>\n",
       "    <tr>\n",
       "      <th>308</th>\n",
       "      <td>4</td>\n",
       "      <td>2011/12</td>\n",
       "      <td>29th</td>\n",
       "      <td>Feb 27 2012</td>\n",
       "      <td>Dhaka</td>\n",
       "      <td>Rajshahi</td>\n",
       "      <td>Mohammad Sami</td>\n",
       "      <td>Dhaka</td>\n",
       "      <td>bat first</td>\n",
       "      <td>Rajshahi</td>\n",
       "      <td>...</td>\n",
       "      <td>Mirpur</td>\n",
       "      <td>3</td>\n",
       "      <td>0</td>\n",
       "      <td>3 wickets</td>\n",
       "      <td>Mahfuzur Rahman</td>\n",
       "      <td>Nadir Shah</td>\n",
       "      <td>116</td>\n",
       "      <td>0</td>\n",
       "      <td>120</td>\n",
       "      <td>7</td>\n",
       "    </tr>\n",
       "    <tr>\n",
       "      <th>309</th>\n",
       "      <td>2</td>\n",
       "      <td>2011/12</td>\n",
       "      <td>1st</td>\n",
       "      <td>Feb 28 2012</td>\n",
       "      <td>Rajshahi</td>\n",
       "      <td>Barishal</td>\n",
       "      <td>Ahmed Shehzad</td>\n",
       "      <td>Barishal</td>\n",
       "      <td>field first</td>\n",
       "      <td>Barishal</td>\n",
       "      <td>...</td>\n",
       "      <td>Mirpur</td>\n",
       "      <td>8</td>\n",
       "      <td>0</td>\n",
       "      <td>8 wickets</td>\n",
       "      <td>David Orchard</td>\n",
       "      <td>Sharfuddoula</td>\n",
       "      <td>184</td>\n",
       "      <td>6</td>\n",
       "      <td>189</td>\n",
       "      <td>2</td>\n",
       "    </tr>\n",
       "    <tr>\n",
       "      <th>310</th>\n",
       "      <td>1</td>\n",
       "      <td>2011/12</td>\n",
       "      <td>2nd</td>\n",
       "      <td>Feb 28 2012</td>\n",
       "      <td>Dhaka</td>\n",
       "      <td>Khulna</td>\n",
       "      <td>Azhar Mahmood</td>\n",
       "      <td>Dhaka</td>\n",
       "      <td>bat first</td>\n",
       "      <td>Dhaka</td>\n",
       "      <td>...</td>\n",
       "      <td>Mirpur</td>\n",
       "      <td>0</td>\n",
       "      <td>9</td>\n",
       "      <td>9 runs</td>\n",
       "      <td>Enamul Haque</td>\n",
       "      <td>Nadir Shah</td>\n",
       "      <td>191</td>\n",
       "      <td>4</td>\n",
       "      <td>182</td>\n",
       "      <td>7</td>\n",
       "    </tr>\n",
       "  </tbody>\n",
       "</table>\n",
       "<p>309 rows × 21 columns</p>\n",
       "</div>"
      ],
      "text/plain": [
       "     id   season match_no         date      team_1      team_2  \\\n",
       "0     0  2011/12    Final  Feb 29 2012    Barishal       Dhaka   \n",
       "1    30  2011/12      3rd  Feb 11 2012      Khulna       Dhaka   \n",
       "2    26  2011/12      7th  Feb 13 2012    Barishal      Khulna   \n",
       "3    29  2011/12      4th  Feb 11 2012    Barishal    Rajshahi   \n",
       "4    28  2011/12      5th  Feb 12 2012      Khulna  Chittagong   \n",
       "..   ..      ...      ...          ...         ...         ...   \n",
       "306   6  2011/12     27th  Feb 26 2012      Khulna    Rajshahi   \n",
       "307   5  2011/12     28th  Feb 26 2012  Chittagong    Barishal   \n",
       "308   4  2011/12     29th  Feb 27 2012       Dhaka    Rajshahi   \n",
       "309   2  2011/12      1st  Feb 28 2012    Rajshahi    Barishal   \n",
       "310   1  2011/12      2nd  Feb 28 2012       Dhaka      Khulna   \n",
       "\n",
       "    player_of_match toss_winner toss_decision      winner  ...    city  \\\n",
       "0       Imran Nazir       Dhaka   field first       Dhaka  ...  Mirpur   \n",
       "1     Andre Russell      Khulna     bat first      Khulna  ...  Mirpur   \n",
       "2      Dwayne Smith      Khulna   field first      Khulna  ...  Mirpur   \n",
       "3     Ahmed Shehzad    Barishal     bat first    Barishal  ...  Mirpur   \n",
       "4     Nasir Jamshed      Khulna     bat first  Chittagong  ...  Mirpur   \n",
       "..              ...         ...           ...         ...  ...     ...   \n",
       "306     Sean Ervine      Khulna     bat first    Rajshahi  ...  Mirpur   \n",
       "307      Brad Hodge    Barishal   field first    Barishal  ...  Mirpur   \n",
       "308   Mohammad Sami       Dhaka     bat first    Rajshahi  ...  Mirpur   \n",
       "309   Ahmed Shehzad    Barishal   field first    Barishal  ...  Mirpur   \n",
       "310   Azhar Mahmood       Dhaka     bat first       Dhaka  ...  Mirpur   \n",
       "\n",
       "    win_by_wickets  win_by_runs     result         umpire_1       umpire_2  \\\n",
       "0                8            0  8 wickets    David Orchard   Enamul Haque   \n",
       "1                0           19    19 runs    Jeremy Lloyds   Sharfuddoula   \n",
       "2                7            0  7 wickets     Enamul Haque  Jeremy Lloyds   \n",
       "3                0           22    22 runs    David Orchard     Gazi Sohel   \n",
       "4                6            0  6 wickets    David Orchard   Enamul Haque   \n",
       "..             ...          ...        ...              ...            ...   \n",
       "306              8            0  8 wickets    David Orchard     Nadir Shah   \n",
       "307              5            0  5 wickets       Gazi Sohel  Jeremy Lloyds   \n",
       "308              3            0  3 wickets  Mahfuzur Rahman     Nadir Shah   \n",
       "309              8            0  8 wickets    David Orchard   Sharfuddoula   \n",
       "310              0            9     9 runs     Enamul Haque     Nadir Shah   \n",
       "\n",
       "    team_1_run  team_1_wicket  team_2_run  team_2_wicket  \n",
       "0          140              7         144              2  \n",
       "1          175              5         156              7  \n",
       "2          125              0         131              3  \n",
       "3          180              2         158              9  \n",
       "4          171              3         174              4  \n",
       "..         ...            ...         ...            ...  \n",
       "306        106              0         110              2  \n",
       "307        150              9         151              5  \n",
       "308        116              0         120              7  \n",
       "309        184              6         189              2  \n",
       "310        191              4         182              7  \n",
       "\n",
       "[309 rows x 21 columns]"
      ]
     },
     "execution_count": 73,
     "metadata": {},
     "output_type": "execute_result"
    }
   ],
   "source": [
    "en_bpl = bpl.copy()\n",
    "en_bpl = en_bpl[en_bpl['winner'] != 'Match']\n",
    "en_bpl"
   ]
  },
  {
   "cell_type": "code",
   "execution_count": 74,
   "id": "d42ca944",
   "metadata": {
    "execution": {
     "iopub.execute_input": "2022-02-10T01:20:18.281876Z",
     "iopub.status.busy": "2022-02-10T01:20:18.280022Z",
     "iopub.status.idle": "2022-02-10T01:20:18.282557Z",
     "shell.execute_reply": "2022-02-10T01:20:18.283373Z",
     "shell.execute_reply.started": "2022-02-10T01:08:32.352589Z"
    },
    "papermill": {
     "duration": 0.103445,
     "end_time": "2022-02-10T01:20:18.283551",
     "exception": false,
     "start_time": "2022-02-10T01:20:18.180106",
     "status": "completed"
    },
    "tags": []
   },
   "outputs": [],
   "source": [
    "# en_bpl[en_bpl['toss_winner'] == en_bpl['team_1']]\n",
    "en_bpl['team_1_toss_win'] = np.where(en_bpl['toss_winner'] == en_bpl['team_1'], 1, 0)\n",
    "en_bpl['team_1_win'] = np.where(en_bpl['winner'] == en_bpl['team_1'], 1, 0)\n",
    "\n",
    "# en_bpl.head()"
   ]
  },
  {
   "cell_type": "code",
   "execution_count": 75,
   "id": "2bb55ed4",
   "metadata": {
    "execution": {
     "iopub.execute_input": "2022-02-10T01:20:18.485961Z",
     "iopub.status.busy": "2022-02-10T01:20:18.485251Z",
     "iopub.status.idle": "2022-02-10T01:20:18.487839Z",
     "shell.execute_reply": "2022-02-10T01:20:18.488328Z",
     "shell.execute_reply.started": "2022-02-10T01:08:32.362146Z"
    },
    "papermill": {
     "duration": 0.103112,
     "end_time": "2022-02-10T01:20:18.488461",
     "exception": false,
     "start_time": "2022-02-10T01:20:18.385349",
     "status": "completed"
    },
    "tags": []
   },
   "outputs": [
    {
     "data": {
      "text/plain": [
       "{'Dhaka': 0,\n",
       " 'Chittagong': 1,\n",
       " 'Khulna': 2,\n",
       " 'Sylhet': 3,\n",
       " 'Rangpur': 4,\n",
       " 'Rajshahi': 5,\n",
       " 'Barishal': 6,\n",
       " 'Comilla': 7}"
      ]
     },
     "execution_count": 75,
     "metadata": {},
     "output_type": "execute_result"
    }
   ],
   "source": [
    "teams = list(en_bpl['team_1'].value_counts().keys())\n",
    "dic = {}\n",
    "for i, team in enumerate(teams):\n",
    "    dic[team] = i\n",
    "dic"
   ]
  },
  {
   "cell_type": "code",
   "execution_count": 76,
   "id": "0b3212e4",
   "metadata": {
    "execution": {
     "iopub.execute_input": "2022-02-10T01:20:18.729290Z",
     "iopub.status.busy": "2022-02-10T01:20:18.713159Z",
     "iopub.status.idle": "2022-02-10T01:20:18.733196Z",
     "shell.execute_reply": "2022-02-10T01:20:18.733579Z",
     "shell.execute_reply.started": "2022-02-10T01:08:32.372224Z"
    },
    "papermill": {
     "duration": 0.147859,
     "end_time": "2022-02-10T01:20:18.733784",
     "exception": false,
     "start_time": "2022-02-10T01:20:18.585925",
     "status": "completed"
    },
    "tags": []
   },
   "outputs": [
    {
     "data": {
      "text/html": [
       "<div>\n",
       "<style scoped>\n",
       "    .dataframe tbody tr th:only-of-type {\n",
       "        vertical-align: middle;\n",
       "    }\n",
       "\n",
       "    .dataframe tbody tr th {\n",
       "        vertical-align: top;\n",
       "    }\n",
       "\n",
       "    .dataframe thead th {\n",
       "        text-align: right;\n",
       "    }\n",
       "</style>\n",
       "<table border=\"1\" class=\"dataframe\">\n",
       "  <thead>\n",
       "    <tr style=\"text-align: right;\">\n",
       "      <th></th>\n",
       "      <th>id</th>\n",
       "      <th>season</th>\n",
       "      <th>match_no</th>\n",
       "      <th>date</th>\n",
       "      <th>team_1</th>\n",
       "      <th>team_2</th>\n",
       "      <th>player_of_match</th>\n",
       "      <th>toss_winner</th>\n",
       "      <th>toss_decision</th>\n",
       "      <th>winner</th>\n",
       "      <th>...</th>\n",
       "      <th>win_by_runs</th>\n",
       "      <th>result</th>\n",
       "      <th>umpire_1</th>\n",
       "      <th>umpire_2</th>\n",
       "      <th>team_1_run</th>\n",
       "      <th>team_1_wicket</th>\n",
       "      <th>team_2_run</th>\n",
       "      <th>team_2_wicket</th>\n",
       "      <th>team_1_toss_win</th>\n",
       "      <th>team_1_win</th>\n",
       "    </tr>\n",
       "  </thead>\n",
       "  <tbody>\n",
       "    <tr>\n",
       "      <th>301</th>\n",
       "      <td>13</td>\n",
       "      <td>2011/12</td>\n",
       "      <td>20th</td>\n",
       "      <td>Feb 20 2012</td>\n",
       "      <td>2</td>\n",
       "      <td>1</td>\n",
       "      <td>Nasir Hossain</td>\n",
       "      <td>Chittagong</td>\n",
       "      <td>1</td>\n",
       "      <td>2</td>\n",
       "      <td>...</td>\n",
       "      <td>44</td>\n",
       "      <td>44 runs</td>\n",
       "      <td>David Orchard</td>\n",
       "      <td>Sharfuddoula</td>\n",
       "      <td>137</td>\n",
       "      <td>6</td>\n",
       "      <td>93</td>\n",
       "      <td>0</td>\n",
       "      <td>0</td>\n",
       "      <td>1</td>\n",
       "    </tr>\n",
       "    <tr>\n",
       "      <th>302</th>\n",
       "      <td>10</td>\n",
       "      <td>2011/12</td>\n",
       "      <td>23rd</td>\n",
       "      <td>Feb 24 2012</td>\n",
       "      <td>1</td>\n",
       "      <td>0</td>\n",
       "      <td>Dwayne Bravo</td>\n",
       "      <td>Dhaka</td>\n",
       "      <td>1</td>\n",
       "      <td>1</td>\n",
       "      <td>...</td>\n",
       "      <td>13</td>\n",
       "      <td>13 runs</td>\n",
       "      <td>David Orchard</td>\n",
       "      <td>Nadir Shah</td>\n",
       "      <td>120</td>\n",
       "      <td>6</td>\n",
       "      <td>107</td>\n",
       "      <td>9</td>\n",
       "      <td>0</td>\n",
       "      <td>1</td>\n",
       "    </tr>\n",
       "    <tr>\n",
       "      <th>303</th>\n",
       "      <td>9</td>\n",
       "      <td>2011/12</td>\n",
       "      <td>24th</td>\n",
       "      <td>Feb 24 2012</td>\n",
       "      <td>5</td>\n",
       "      <td>3</td>\n",
       "      <td>Sohail Tanvir</td>\n",
       "      <td>Sylhet</td>\n",
       "      <td>1</td>\n",
       "      <td>3</td>\n",
       "      <td>...</td>\n",
       "      <td>0</td>\n",
       "      <td>9 wickets</td>\n",
       "      <td>Anisur Rahman</td>\n",
       "      <td>Jeremy Lloyds</td>\n",
       "      <td>124</td>\n",
       "      <td>9</td>\n",
       "      <td>125</td>\n",
       "      <td>1</td>\n",
       "      <td>0</td>\n",
       "      <td>0</td>\n",
       "    </tr>\n",
       "    <tr>\n",
       "      <th>304</th>\n",
       "      <td>8</td>\n",
       "      <td>2011/12</td>\n",
       "      <td>25th</td>\n",
       "      <td>Feb 25 2012</td>\n",
       "      <td>6</td>\n",
       "      <td>0</td>\n",
       "      <td>Imran Nazir</td>\n",
       "      <td>Dhaka</td>\n",
       "      <td>1</td>\n",
       "      <td>0</td>\n",
       "      <td>...</td>\n",
       "      <td>0</td>\n",
       "      <td>5 wickets</td>\n",
       "      <td>Jeremy Lloyds</td>\n",
       "      <td>Nadir Shah</td>\n",
       "      <td>156</td>\n",
       "      <td>6</td>\n",
       "      <td>160</td>\n",
       "      <td>5</td>\n",
       "      <td>0</td>\n",
       "      <td>0</td>\n",
       "    </tr>\n",
       "    <tr>\n",
       "      <th>305</th>\n",
       "      <td>7</td>\n",
       "      <td>2011/12</td>\n",
       "      <td>26th</td>\n",
       "      <td>Feb 25 2012</td>\n",
       "      <td>3</td>\n",
       "      <td>1</td>\n",
       "      <td>Peter Trego</td>\n",
       "      <td>Chittagong</td>\n",
       "      <td>1</td>\n",
       "      <td>3</td>\n",
       "      <td>...</td>\n",
       "      <td>35</td>\n",
       "      <td>35 runs</td>\n",
       "      <td>David Orchard</td>\n",
       "      <td>Masudur Rahman</td>\n",
       "      <td>165</td>\n",
       "      <td>3</td>\n",
       "      <td>130</td>\n",
       "      <td>8</td>\n",
       "      <td>0</td>\n",
       "      <td>1</td>\n",
       "    </tr>\n",
       "    <tr>\n",
       "      <th>306</th>\n",
       "      <td>6</td>\n",
       "      <td>2011/12</td>\n",
       "      <td>27th</td>\n",
       "      <td>Feb 26 2012</td>\n",
       "      <td>2</td>\n",
       "      <td>5</td>\n",
       "      <td>Sean Ervine</td>\n",
       "      <td>Khulna</td>\n",
       "      <td>0</td>\n",
       "      <td>5</td>\n",
       "      <td>...</td>\n",
       "      <td>0</td>\n",
       "      <td>8 wickets</td>\n",
       "      <td>David Orchard</td>\n",
       "      <td>Nadir Shah</td>\n",
       "      <td>106</td>\n",
       "      <td>0</td>\n",
       "      <td>110</td>\n",
       "      <td>2</td>\n",
       "      <td>1</td>\n",
       "      <td>0</td>\n",
       "    </tr>\n",
       "    <tr>\n",
       "      <th>307</th>\n",
       "      <td>5</td>\n",
       "      <td>2011/12</td>\n",
       "      <td>28th</td>\n",
       "      <td>Feb 26 2012</td>\n",
       "      <td>1</td>\n",
       "      <td>6</td>\n",
       "      <td>Brad Hodge</td>\n",
       "      <td>Barishal</td>\n",
       "      <td>1</td>\n",
       "      <td>6</td>\n",
       "      <td>...</td>\n",
       "      <td>0</td>\n",
       "      <td>5 wickets</td>\n",
       "      <td>Gazi Sohel</td>\n",
       "      <td>Jeremy Lloyds</td>\n",
       "      <td>150</td>\n",
       "      <td>9</td>\n",
       "      <td>151</td>\n",
       "      <td>5</td>\n",
       "      <td>0</td>\n",
       "      <td>0</td>\n",
       "    </tr>\n",
       "    <tr>\n",
       "      <th>308</th>\n",
       "      <td>4</td>\n",
       "      <td>2011/12</td>\n",
       "      <td>29th</td>\n",
       "      <td>Feb 27 2012</td>\n",
       "      <td>0</td>\n",
       "      <td>5</td>\n",
       "      <td>Mohammad Sami</td>\n",
       "      <td>Dhaka</td>\n",
       "      <td>0</td>\n",
       "      <td>5</td>\n",
       "      <td>...</td>\n",
       "      <td>0</td>\n",
       "      <td>3 wickets</td>\n",
       "      <td>Mahfuzur Rahman</td>\n",
       "      <td>Nadir Shah</td>\n",
       "      <td>116</td>\n",
       "      <td>0</td>\n",
       "      <td>120</td>\n",
       "      <td>7</td>\n",
       "      <td>1</td>\n",
       "      <td>0</td>\n",
       "    </tr>\n",
       "    <tr>\n",
       "      <th>309</th>\n",
       "      <td>2</td>\n",
       "      <td>2011/12</td>\n",
       "      <td>1st</td>\n",
       "      <td>Feb 28 2012</td>\n",
       "      <td>5</td>\n",
       "      <td>6</td>\n",
       "      <td>Ahmed Shehzad</td>\n",
       "      <td>Barishal</td>\n",
       "      <td>1</td>\n",
       "      <td>6</td>\n",
       "      <td>...</td>\n",
       "      <td>0</td>\n",
       "      <td>8 wickets</td>\n",
       "      <td>David Orchard</td>\n",
       "      <td>Sharfuddoula</td>\n",
       "      <td>184</td>\n",
       "      <td>6</td>\n",
       "      <td>189</td>\n",
       "      <td>2</td>\n",
       "      <td>0</td>\n",
       "      <td>0</td>\n",
       "    </tr>\n",
       "    <tr>\n",
       "      <th>310</th>\n",
       "      <td>1</td>\n",
       "      <td>2011/12</td>\n",
       "      <td>2nd</td>\n",
       "      <td>Feb 28 2012</td>\n",
       "      <td>0</td>\n",
       "      <td>2</td>\n",
       "      <td>Azhar Mahmood</td>\n",
       "      <td>Dhaka</td>\n",
       "      <td>0</td>\n",
       "      <td>0</td>\n",
       "      <td>...</td>\n",
       "      <td>9</td>\n",
       "      <td>9 runs</td>\n",
       "      <td>Enamul Haque</td>\n",
       "      <td>Nadir Shah</td>\n",
       "      <td>191</td>\n",
       "      <td>4</td>\n",
       "      <td>182</td>\n",
       "      <td>7</td>\n",
       "      <td>1</td>\n",
       "      <td>1</td>\n",
       "    </tr>\n",
       "  </tbody>\n",
       "</table>\n",
       "<p>10 rows × 23 columns</p>\n",
       "</div>"
      ],
      "text/plain": [
       "     id   season match_no         date  team_1  team_2 player_of_match  \\\n",
       "301  13  2011/12     20th  Feb 20 2012       2       1   Nasir Hossain   \n",
       "302  10  2011/12     23rd  Feb 24 2012       1       0    Dwayne Bravo   \n",
       "303   9  2011/12     24th  Feb 24 2012       5       3   Sohail Tanvir   \n",
       "304   8  2011/12     25th  Feb 25 2012       6       0     Imran Nazir   \n",
       "305   7  2011/12     26th  Feb 25 2012       3       1     Peter Trego   \n",
       "306   6  2011/12     27th  Feb 26 2012       2       5     Sean Ervine   \n",
       "307   5  2011/12     28th  Feb 26 2012       1       6      Brad Hodge   \n",
       "308   4  2011/12     29th  Feb 27 2012       0       5   Mohammad Sami   \n",
       "309   2  2011/12      1st  Feb 28 2012       5       6   Ahmed Shehzad   \n",
       "310   1  2011/12      2nd  Feb 28 2012       0       2   Azhar Mahmood   \n",
       "\n",
       "    toss_winner  toss_decision  winner  ...  win_by_runs     result  \\\n",
       "301  Chittagong              1       2  ...           44    44 runs   \n",
       "302       Dhaka              1       1  ...           13    13 runs   \n",
       "303      Sylhet              1       3  ...            0  9 wickets   \n",
       "304       Dhaka              1       0  ...            0  5 wickets   \n",
       "305  Chittagong              1       3  ...           35    35 runs   \n",
       "306      Khulna              0       5  ...            0  8 wickets   \n",
       "307    Barishal              1       6  ...            0  5 wickets   \n",
       "308       Dhaka              0       5  ...            0  3 wickets   \n",
       "309    Barishal              1       6  ...            0  8 wickets   \n",
       "310       Dhaka              0       0  ...            9     9 runs   \n",
       "\n",
       "            umpire_1        umpire_2 team_1_run team_1_wicket team_2_run  \\\n",
       "301    David Orchard    Sharfuddoula        137             6         93   \n",
       "302    David Orchard      Nadir Shah        120             6        107   \n",
       "303    Anisur Rahman   Jeremy Lloyds        124             9        125   \n",
       "304    Jeremy Lloyds      Nadir Shah        156             6        160   \n",
       "305    David Orchard  Masudur Rahman        165             3        130   \n",
       "306    David Orchard      Nadir Shah        106             0        110   \n",
       "307       Gazi Sohel   Jeremy Lloyds        150             9        151   \n",
       "308  Mahfuzur Rahman      Nadir Shah        116             0        120   \n",
       "309    David Orchard    Sharfuddoula        184             6        189   \n",
       "310     Enamul Haque      Nadir Shah        191             4        182   \n",
       "\n",
       "     team_2_wicket  team_1_toss_win  team_1_win  \n",
       "301              0                0           1  \n",
       "302              9                0           1  \n",
       "303              1                0           0  \n",
       "304              5                0           0  \n",
       "305              8                0           1  \n",
       "306              2                1           0  \n",
       "307              5                0           0  \n",
       "308              7                1           0  \n",
       "309              2                0           0  \n",
       "310              7                1           1  \n",
       "\n",
       "[10 rows x 23 columns]"
      ]
     },
     "execution_count": 76,
     "metadata": {},
     "output_type": "execute_result"
    }
   ],
   "source": [
    "en_bpl['team_1'].replace(dic, inplace=True)\n",
    "en_bpl['team_2'].replace(dic, inplace=True)\n",
    "en_bpl['winner'].replace(dic, inplace=True)\n",
    "\n",
    "le = LabelEncoder()\n",
    "en_bpl['toss_decision'] = le.fit_transform(en_bpl['toss_decision'])\n",
    "en_bpl['venue'] = le.fit_transform(en_bpl['venue'])\n",
    "\n",
    "\n",
    "en_bpl.tail(10)"
   ]
  },
  {
   "cell_type": "code",
   "execution_count": 77,
   "id": "6b0ebeec",
   "metadata": {
    "execution": {
     "iopub.execute_input": "2022-02-10T01:20:18.930462Z",
     "iopub.status.busy": "2022-02-10T01:20:18.929836Z",
     "iopub.status.idle": "2022-02-10T01:20:18.932436Z",
     "shell.execute_reply": "2022-02-10T01:20:18.932867Z",
     "shell.execute_reply.started": "2022-02-10T01:08:32.406218Z"
    },
    "papermill": {
     "duration": 0.102124,
     "end_time": "2022-02-10T01:20:18.933006",
     "exception": false,
     "start_time": "2022-02-10T01:20:18.830882",
     "status": "completed"
    },
    "tags": []
   },
   "outputs": [
    {
     "data": {
      "text/plain": [
       "Index(['id', 'season', 'match_no', 'date', 'team_1', 'team_2',\n",
       "       'player_of_match', 'toss_winner', 'toss_decision', 'winner', 'venue',\n",
       "       'city', 'win_by_wickets', 'win_by_runs', 'result', 'umpire_1',\n",
       "       'umpire_2', 'team_1_run', 'team_1_wicket', 'team_2_run',\n",
       "       'team_2_wicket', 'team_1_toss_win', 'team_1_win'],\n",
       "      dtype='object')"
      ]
     },
     "execution_count": 77,
     "metadata": {},
     "output_type": "execute_result"
    }
   ],
   "source": [
    "# en_bpl = pd.get_dummies(data = en_bpl, columns = ['toss_decision' ])\n",
    "en_bpl.columns"
   ]
  },
  {
   "cell_type": "code",
   "execution_count": 78,
   "id": "5cacb832",
   "metadata": {
    "execution": {
     "iopub.execute_input": "2022-02-10T01:20:19.138095Z",
     "iopub.status.busy": "2022-02-10T01:20:19.136522Z",
     "iopub.status.idle": "2022-02-10T01:20:19.138708Z",
     "shell.execute_reply": "2022-02-10T01:20:19.139111Z",
     "shell.execute_reply.started": "2022-02-10T01:08:32.414203Z"
    },
    "papermill": {
     "duration": 0.102169,
     "end_time": "2022-02-10T01:20:19.139260",
     "exception": false,
     "start_time": "2022-02-10T01:20:19.037091",
     "status": "completed"
    },
    "tags": []
   },
   "outputs": [],
   "source": [
    "x = en_bpl[['team_1', 'team_2', 'team_1_toss_win', 'toss_decision', 'venue', 'winner']]\n",
    "y = en_bpl['team_1_win']"
   ]
  },
  {
   "cell_type": "code",
   "execution_count": 79,
   "id": "fb583fcd",
   "metadata": {
    "execution": {
     "iopub.execute_input": "2022-02-10T01:20:19.339014Z",
     "iopub.status.busy": "2022-02-10T01:20:19.337349Z",
     "iopub.status.idle": "2022-02-10T01:20:19.339669Z",
     "shell.execute_reply": "2022-02-10T01:20:19.340073Z",
     "shell.execute_reply.started": "2022-02-10T01:08:32.422971Z"
    },
    "papermill": {
     "duration": 0.105379,
     "end_time": "2022-02-10T01:20:19.340204",
     "exception": false,
     "start_time": "2022-02-10T01:20:19.234825",
     "status": "completed"
    },
    "tags": []
   },
   "outputs": [],
   "source": [
    "x_train, x_test, y_train, y_test = train_test_split(x, y, test_size = 0.3)"
   ]
  },
  {
   "cell_type": "code",
   "execution_count": 80,
   "id": "5ea5d02a",
   "metadata": {
    "execution": {
     "iopub.execute_input": "2022-02-10T01:20:19.542010Z",
     "iopub.status.busy": "2022-02-10T01:20:19.541196Z",
     "iopub.status.idle": "2022-02-10T01:20:19.550904Z",
     "shell.execute_reply": "2022-02-10T01:20:19.550397Z",
     "shell.execute_reply.started": "2022-02-10T01:08:32.431680Z"
    },
    "papermill": {
     "duration": 0.111796,
     "end_time": "2022-02-10T01:20:19.551038",
     "exception": false,
     "start_time": "2022-02-10T01:20:19.439242",
     "status": "completed"
    },
    "tags": []
   },
   "outputs": [
    {
     "name": "stdout",
     "output_type": "stream",
     "text": [
      "Naive Bayes classifier for Gaussian Nomial accuracy: 0.4409\n"
     ]
    }
   ],
   "source": [
    "from sklearn.naive_bayes import GaussianNB\n",
    "gnb = GaussianNB()\n",
    "gnb.fit(x_train, y_train)\n",
    "y_pred = gnb.predict(x_test)\n",
    "print('Naive Bayes classifier for Gaussian Nomial accuracy: {:.4f}'.format(accuracy_score(y_test, y_pred)))"
   ]
  },
  {
   "cell_type": "markdown",
   "id": "3dc48db9",
   "metadata": {
    "papermill": {
     "duration": 0.096407,
     "end_time": "2022-02-10T01:20:19.750804",
     "exception": false,
     "start_time": "2022-02-10T01:20:19.654397",
     "status": "completed"
    },
    "tags": []
   },
   "source": [
    "## Build Models"
   ]
  },
  {
   "cell_type": "code",
   "execution_count": 81,
   "id": "dcae6c00",
   "metadata": {
    "execution": {
     "iopub.execute_input": "2022-02-10T01:20:19.961085Z",
     "iopub.status.busy": "2022-02-10T01:20:19.960140Z",
     "iopub.status.idle": "2022-02-10T01:20:19.967314Z",
     "shell.execute_reply": "2022-02-10T01:20:19.966884Z",
     "shell.execute_reply.started": "2022-02-10T01:09:27.379377Z"
    },
    "papermill": {
     "duration": 0.116662,
     "end_time": "2022-02-10T01:20:19.967442",
     "exception": false,
     "start_time": "2022-02-10T01:20:19.850780",
     "status": "completed"
    },
    "tags": []
   },
   "outputs": [
    {
     "name": "stdout",
     "output_type": "stream",
     "text": [
      "Naive Bayes classifier for multinomial models accuracy: 50.5376\n"
     ]
    }
   ],
   "source": [
    "from sklearn.naive_bayes import MultinomialNB\n",
    "mnb = MultinomialNB()\n",
    "mnb.fit(x_train, y_train)\n",
    "y_pred = mnb.predict(x_test)\n",
    "accuracy_score(y_test, y_pred)\n",
    "print('Naive Bayes classifier for multinomial models accuracy: {:.4f}'.format(accuracy_score(y_test, y_pred)*100))"
   ]
  },
  {
   "cell_type": "code",
   "execution_count": 82,
   "id": "78e85849",
   "metadata": {
    "execution": {
     "iopub.execute_input": "2022-02-10T01:20:20.166529Z",
     "iopub.status.busy": "2022-02-10T01:20:20.165949Z",
     "iopub.status.idle": "2022-02-10T01:20:20.235337Z",
     "shell.execute_reply": "2022-02-10T01:20:20.234447Z",
     "shell.execute_reply.started": "2022-02-10T01:10:06.344347Z"
    },
    "papermill": {
     "duration": 0.16877,
     "end_time": "2022-02-10T01:20:20.235492",
     "exception": false,
     "start_time": "2022-02-10T01:20:20.066722",
     "status": "completed"
    },
    "tags": []
   },
   "outputs": [
    {
     "name": "stdout",
     "output_type": "stream",
     "text": [
      "SVC accuracy: 89.2473\n"
     ]
    }
   ],
   "source": [
    "# import pickle\n",
    "from sklearn.svm import SVC\n",
    "svc = SVC()\n",
    "svc.fit(x_train, y_train)\n",
    "y_pred = svc.predict(x_test)\n",
    "print('SVC accuracy: {:.4f}'.format(accuracy_score(y_test, y_pred)*100))"
   ]
  },
  {
   "cell_type": "code",
   "execution_count": 83,
   "id": "a2a84fb0",
   "metadata": {
    "execution": {
     "iopub.execute_input": "2022-02-10T01:20:20.459038Z",
     "iopub.status.busy": "2022-02-10T01:20:20.453817Z",
     "iopub.status.idle": "2022-02-10T01:20:20.462225Z",
     "shell.execute_reply": "2022-02-10T01:20:20.462933Z",
     "shell.execute_reply.started": "2022-02-10T01:09:42.215660Z"
    },
    "papermill": {
     "duration": 0.129301,
     "end_time": "2022-02-10T01:20:20.463144",
     "exception": false,
     "start_time": "2022-02-10T01:20:20.333843",
     "status": "completed"
    },
    "tags": []
   },
   "outputs": [
    {
     "name": "stdout",
     "output_type": "stream",
     "text": [
      "MAE:  0.4965785534492361\n",
      "MSE:  0.25709054557340155\n",
      "RMSE:  0.5070409703104883\n"
     ]
    }
   ],
   "source": [
    "from sklearn.linear_model import LinearRegression\n",
    "from sklearn import metrics\n",
    "\n",
    "lr = LinearRegression()\n",
    "lr.fit(x_train, y_train)\n",
    "y_pred = lr.predict(x_test)\n",
    "\n",
    "print('MAE: ', metrics.mean_absolute_error(y_test , y_pred))\n",
    "print('MSE: ', metrics.mean_squared_error(y_test, y_pred))\n",
    "print('RMSE: ', np.sqrt(metrics.mean_squared_error(y_test, y_pred)))"
   ]
  },
  {
   "cell_type": "code",
   "execution_count": 84,
   "id": "800d9269",
   "metadata": {
    "execution": {
     "iopub.execute_input": "2022-02-10T01:20:20.671976Z",
     "iopub.status.busy": "2022-02-10T01:20:20.671357Z",
     "iopub.status.idle": "2022-02-10T01:20:20.919611Z",
     "shell.execute_reply": "2022-02-10T01:20:20.920207Z",
     "shell.execute_reply.started": "2022-02-10T01:08:32.483632Z"
    },
    "papermill": {
     "duration": 0.3499,
     "end_time": "2022-02-10T01:20:20.920397",
     "exception": false,
     "start_time": "2022-02-10T01:20:20.570497",
     "status": "completed"
    },
    "tags": []
   },
   "outputs": [
    {
     "name": "stdout",
     "output_type": "stream",
     "text": [
      "Random Forest Classifier accuracy: 91.3978\n"
     ]
    }
   ],
   "source": [
    "from sklearn.ensemble import RandomForestClassifier\n",
    "\n",
    "randomForest= RandomForestClassifier(n_estimators=100)\n",
    "randomForest.fit(x_train, y_train)\n",
    "y_pred = randomForest.predict(x_test)\n",
    "print('Random Forest Classifier accuracy: {:.4f}'.format(accuracy_score(y_test, y_pred)*100))"
   ]
  },
  {
   "cell_type": "code",
   "execution_count": 85,
   "id": "ec078247",
   "metadata": {
    "execution": {
     "iopub.execute_input": "2022-02-10T01:20:21.119964Z",
     "iopub.status.busy": "2022-02-10T01:20:21.119114Z",
     "iopub.status.idle": "2022-02-10T01:20:21.125115Z",
     "shell.execute_reply": "2022-02-10T01:20:21.125704Z",
     "shell.execute_reply.started": "2022-02-10T01:09:50.283534Z"
    },
    "papermill": {
     "duration": 0.108523,
     "end_time": "2022-02-10T01:20:21.125895",
     "exception": false,
     "start_time": "2022-02-10T01:20:21.017372",
     "status": "completed"
    },
    "tags": []
   },
   "outputs": [
    {
     "name": "stdout",
     "output_type": "stream",
     "text": [
      "Decision Tree Classifier accuracy: 86.0215\n"
     ]
    }
   ],
   "source": [
    "from sklearn.tree import DecisionTreeClassifier\n",
    "\n",
    "dml = DecisionTreeClassifier()\n",
    "dml.fit(x_train, y_train)\n",
    "y_pred = dml.predict(x_test)\n",
    "print(\"Decision Tree Classifier accuracy: {:.4f}\".format(accuracy_score(y_test,y_pred)*100))"
   ]
  },
  {
   "cell_type": "code",
   "execution_count": 86,
   "id": "4f9e6c0f",
   "metadata": {
    "execution": {
     "iopub.execute_input": "2022-02-10T01:20:21.324048Z",
     "iopub.status.busy": "2022-02-10T01:20:21.323439Z",
     "iopub.status.idle": "2022-02-10T01:20:21.335153Z",
     "shell.execute_reply": "2022-02-10T01:20:21.334591Z",
     "shell.execute_reply.started": "2022-02-10T01:09:51.569820Z"
    },
    "papermill": {
     "duration": 0.113261,
     "end_time": "2022-02-10T01:20:21.335306",
     "exception": false,
     "start_time": "2022-02-10T01:20:21.222045",
     "status": "completed"
    },
    "tags": []
   },
   "outputs": [
    {
     "name": "stdout",
     "output_type": "stream",
     "text": [
      "KNN Classification accuracy: 86.0215\n"
     ]
    }
   ],
   "source": [
    "from sklearn.neighbors import KNeighborsClassifier\n",
    "\n",
    "knn_model = KNeighborsClassifier()\n",
    "knn_model.fit(x_train, y_train)\n",
    "y_pred = knn_model.predict(x_test)\n",
    "print(\"KNN Classification accuracy: {:.4f}\".format(accuracy_score(y_test,y_pred)*100))"
   ]
  },
  {
   "cell_type": "code",
   "execution_count": null,
   "id": "322f6d0c",
   "metadata": {
    "papermill": {
     "duration": 0.095788,
     "end_time": "2022-02-10T01:20:21.529312",
     "exception": false,
     "start_time": "2022-02-10T01:20:21.433524",
     "status": "completed"
    },
    "tags": []
   },
   "outputs": [],
   "source": []
  }
 ],
 "metadata": {
  "kernelspec": {
   "display_name": "Python 3",
   "language": "python",
   "name": "python3"
  },
  "language_info": {
   "codemirror_mode": {
    "name": "ipython",
    "version": 3
   },
   "file_extension": ".py",
   "mimetype": "text/x-python",
   "name": "python",
   "nbconvert_exporter": "python",
   "pygments_lexer": "ipython3",
   "version": "3.7.12"
  },
  "papermill": {
   "default_parameters": {},
   "duration": 32.29214,
   "end_time": "2022-02-10T01:20:22.235016",
   "environment_variables": {},
   "exception": null,
   "input_path": "__notebook__.ipynb",
   "output_path": "__notebook__.ipynb",
   "parameters": {},
   "start_time": "2022-02-10T01:19:49.942876",
   "version": "2.3.3"
  }
 },
 "nbformat": 4,
 "nbformat_minor": 5
}
